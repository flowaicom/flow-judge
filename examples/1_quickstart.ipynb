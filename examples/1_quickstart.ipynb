{
 "cells": [
  {
   "cell_type": "markdown",
   "metadata": {},
   "source": [
    "# Quickstart\n",
    "\n",
    "This tutorial demonstrates how to use the `flow-judge` library to perform language model-based evaluations using Flow-Judge-v0.1 models."
   ]
  },
  {
   "cell_type": "markdown",
   "metadata": {},
   "source": [
    "## Running an evaluation\n",
    "\n",
    "Running an evaluation is as simple as:"
   ]
  },
  {
   "cell_type": "code",
   "execution_count": 1,
   "metadata": {},
   "outputs": [
    {
     "name": "stderr",
     "output_type": "stream",
     "text": [
      "INFO:root:Starting llamafile server...\n",
      "INFO:root:Llamafile path: /home/ks/.cache/flow-judge/flow-judge.llamafile\n",
      "INFO:root:Starting llamafile server with command: sh -c '/home/ks/.cache/flow-judge/flow-judge.llamafile --server --host 127.0.0.1 --port 8085 -c 8192 -ngl 34 --temp 0.1 -n 2000 --threads 32 --nobrowser -b 32 --parallel 1 --cont-batching'\n",
      "INFO:root:Subprocess started with PID: 200549\n",
      "INFO:openai._base_client:Retrying request to /models in 0.460842 seconds\n",
      "INFO:root:import_cuda_impl: initializing gpu module...\n",
      "INFO:root:get_rocm_bin_path: note: hipcc not found on $PATH\n",
      "INFO:root:get_rocm_bin_path: note: $HIP_PATH/bin/hipcc does not exist\n",
      "INFO:root:get_rocm_bin_path: note: /opt/rocm/bin/hipcc does not exist\n",
      "INFO:root:link_cuda_dso: note: dynamically linking /home/ks/.llamafile/v/0.8.13/ggml-rocm.so\n",
      "INFO:root:link_cuda_dso: warning: libamdhip64.so.6: cannot open shared object file: No such file or directory: failed to load library\n",
      "INFO:root:link_cuda_dso: note: dynamically linking /home/ks/.llamafile/v/0.8.13/ggml-rocm.so\n",
      "INFO:root:link_cuda_dso: warning: libamdhip64.so.6: cannot open shared object file: No such file or directory: failed to load library\n",
      "INFO:root:link_cuda_dso: note: dynamically linking /home/ks/.llamafile/v/0.8.13/ggml-cuda.so\n",
      "INFO:root:ggml_cuda_link: welcome to CUDA SDK with tinyBLAS\n",
      "INFO:root:link_cuda_dso: GPU support loaded\n",
      "INFO:root:{\"build\":1500,\"commit\":\"a30b324\",\"function\":\"server_cli\",\"level\":\"INFO\",\"line\":2841,\"msg\":\"build info\",\"tid\":\"11681088\",\"timestamp\":1728317990}\n",
      "INFO:root:{\"function\":\"server_cli\",\"level\":\"INFO\",\"line\":2844,\"msg\":\"system info\",\"n_threads\":32,\"n_threads_batch\":-1,\"system_info\":\"AVX = 1 | AVX_VNNI = 1 | AVX2 = 1 | AVX512 = 0 | AVX512_VBMI = 0 | AVX512_VNNI = 0 | AVX512_BF16 = 0 | FMA = 1 | NEON = 0 | SVE = 0 | ARM_FMA = 0 | F16C = 1 | FP16_VA = 0 | WASM_SIMD = 0 | BLAS = 0 | SSE3 = 1 | SSSE3 = 1 | VSX = 0 | MATMUL_INT8 = 0 | LLAMAFILE = 1 | \",\"tid\":\"11681088\",\"timestamp\":1728317990,\"total_threads\":32}\n",
      "INFO:root:llama_model_loader: loaded meta data with 33 key-value pairs and 197 tensors from flow-judge-v0.1-Q4_K_M.gguf (version GGUF V3 (latest))\n",
      "INFO:root:llama_model_loader: Dumping metadata keys/values. Note: KV overrides do not apply in this output.\n",
      "INFO:root:llama_model_loader: - kv   0:                       general.architecture str              = phi3\n",
      "INFO:root:llama_model_loader: - kv   1:                               general.type str              = model\n",
      "INFO:root:llama_model_loader: - kv   2:                               general.name str              = Phi 3.5 Mini Instruct\n",
      "INFO:root:llama_model_loader: - kv   3:                       general.organization str              = Microsoft\n",
      "INFO:root:llama_model_loader: - kv   4:                           general.finetune str              = instruct\n",
      "INFO:root:llama_model_loader: - kv   5:                           general.basename str              = Phi-3.5\n",
      "INFO:root:llama_model_loader: - kv   6:                         general.size_label str              = mini\n",
      "INFO:root:llama_model_loader: - kv   7:                        phi3.context_length u32              = 131072\n",
      "INFO:root:llama_model_loader: - kv   8:  phi3.rope.scaling.original_context_length u32              = 4096\n",
      "INFO:root:llama_model_loader: - kv   9:                      phi3.embedding_length u32              = 3072\n",
      "INFO:root:llama_model_loader: - kv  10:                   phi3.feed_forward_length u32              = 8192\n",
      "INFO:root:llama_model_loader: - kv  11:                           phi3.block_count u32              = 32\n",
      "INFO:root:llama_model_loader: - kv  12:                  phi3.attention.head_count u32              = 32\n",
      "INFO:root:llama_model_loader: - kv  13:               phi3.attention.head_count_kv u32              = 32\n",
      "INFO:root:llama_model_loader: - kv  14:      phi3.attention.layer_norm_rms_epsilon f32              = 0.000010\n",
      "INFO:root:llama_model_loader: - kv  15:                  phi3.rope.dimension_count u32              = 96\n",
      "INFO:root:llama_model_loader: - kv  16:                        phi3.rope.freq_base f32              = 10000.000000\n",
      "INFO:root:llama_model_loader: - kv  17:                          general.file_type u32              = 15\n",
      "INFO:root:llama_model_loader: - kv  18:              phi3.attention.sliding_window u32              = 262144\n",
      "INFO:root:llama_model_loader: - kv  19:              phi3.rope.scaling.attn_factor f32              = 1.190238\n",
      "INFO:root:llama_model_loader: - kv  20:                       tokenizer.ggml.model str              = llama\n",
      "INFO:root:llama_model_loader: - kv  21:                         tokenizer.ggml.pre str              = default\n",
      "INFO:root:llama_model_loader: - kv  22:                      tokenizer.ggml.tokens arr[str,32064]   = [\"<unk>\", \"<s>\", \"</s>\", \"<0x00>\", \"<...\n",
      "INFO:root:llama_model_loader: - kv  23:                      tokenizer.ggml.scores arr[f32,32064]   = [-1000.000000, -1000.000000, -1000.00...\n",
      "INFO:root:llama_model_loader: - kv  24:                  tokenizer.ggml.token_type arr[i32,32064]   = [3, 3, 4, 6, 6, 6, 6, 6, 6, 6, 6, 6, ...\n",
      "INFO:root:llama_model_loader: - kv  25:                tokenizer.ggml.bos_token_id u32              = 1\n",
      "INFO:root:llama_model_loader: - kv  26:                tokenizer.ggml.eos_token_id u32              = 32000\n",
      "INFO:root:llama_model_loader: - kv  27:            tokenizer.ggml.unknown_token_id u32              = 0\n",
      "INFO:root:llama_model_loader: - kv  28:            tokenizer.ggml.padding_token_id u32              = 32000\n",
      "INFO:root:llama_model_loader: - kv  29:               tokenizer.ggml.add_bos_token bool             = false\n",
      "INFO:root:llama_model_loader: - kv  30:               tokenizer.ggml.add_eos_token bool             = false\n",
      "INFO:root:llama_model_loader: - kv  31:                    tokenizer.chat_template str              = {{ bos_token }}{% for message in mess...\n",
      "INFO:root:llama_model_loader: - kv  32:               general.quantization_version u32              = 2\n",
      "INFO:root:llama_model_loader: - type  f32:   67 tensors\n",
      "INFO:root:llama_model_loader: - type q4_K:   81 tensors\n",
      "INFO:root:llama_model_loader: - type q5_K:   32 tensors\n",
      "INFO:root:llama_model_loader: - type q6_K:   17 tensors\n",
      "INFO:root:llm_load_vocab: special tokens cache size = 14\n",
      "INFO:root:llm_load_vocab: token to piece cache size = 0.1685 MB\n",
      "INFO:root:llm_load_print_meta: format           = GGUF V3 (latest)\n",
      "INFO:root:llm_load_print_meta: arch             = phi3\n",
      "INFO:root:llm_load_print_meta: vocab type       = SPM\n",
      "INFO:root:llm_load_print_meta: n_vocab          = 32064\n",
      "INFO:root:llm_load_print_meta: n_merges         = 0\n",
      "INFO:root:llm_load_print_meta: vocab_only       = 0\n",
      "INFO:root:llm_load_print_meta: n_ctx_train      = 131072\n",
      "INFO:root:llm_load_print_meta: n_embd           = 3072\n",
      "INFO:root:llm_load_print_meta: n_layer          = 32\n",
      "INFO:root:llm_load_print_meta: n_head           = 32\n",
      "INFO:root:llm_load_print_meta: n_head_kv        = 32\n",
      "INFO:root:llm_load_print_meta: n_rot            = 96\n",
      "INFO:root:llm_load_print_meta: n_swa            = 262144\n",
      "INFO:root:llm_load_print_meta: n_embd_head_k    = 96\n",
      "INFO:root:llm_load_print_meta: n_embd_head_v    = 96\n",
      "INFO:root:llm_load_print_meta: n_gqa            = 1\n",
      "INFO:root:llm_load_print_meta: n_embd_k_gqa     = 3072\n",
      "INFO:root:llm_load_print_meta: n_embd_v_gqa     = 3072\n",
      "INFO:root:llm_load_print_meta: f_norm_eps       = 0.0e+00\n",
      "INFO:root:llm_load_print_meta: f_norm_rms_eps   = 1.0e-05\n",
      "INFO:root:llm_load_print_meta: f_clamp_kqv      = 0.0e+00\n",
      "INFO:root:llm_load_print_meta: f_max_alibi_bias = 0.0e+00\n",
      "INFO:root:llm_load_print_meta: f_logit_scale    = 0.0e+00\n",
      "INFO:root:llm_load_print_meta: n_ff             = 8192\n",
      "INFO:root:llm_load_print_meta: n_expert         = 0\n",
      "INFO:root:llm_load_print_meta: n_expert_used    = 0\n",
      "INFO:root:llm_load_print_meta: causal attn      = 1\n",
      "INFO:root:llm_load_print_meta: pooling type     = 0\n",
      "INFO:root:llm_load_print_meta: rope type        = 2\n",
      "INFO:root:llm_load_print_meta: rope scaling     = linear\n",
      "INFO:root:llm_load_print_meta: freq_base_train  = 10000.0\n",
      "INFO:root:llm_load_print_meta: freq_scale_train = 1\n",
      "INFO:root:llm_load_print_meta: n_ctx_orig_yarn  = 4096\n",
      "INFO:root:llm_load_print_meta: rope_finetuned   = unknown\n",
      "INFO:root:llm_load_print_meta: ssm_d_conv       = 0\n",
      "INFO:root:llm_load_print_meta: ssm_d_inner      = 0\n",
      "INFO:root:llm_load_print_meta: ssm_d_state      = 0\n",
      "INFO:root:llm_load_print_meta: ssm_dt_rank      = 0\n",
      "INFO:root:llm_load_print_meta: model type       = 3B\n",
      "INFO:root:llm_load_print_meta: model ftype      = Q4_K - Medium\n",
      "INFO:root:llm_load_print_meta: model params     = 3.82 B\n",
      "INFO:root:llm_load_print_meta: model size       = 2.23 GiB (5.01 BPW)\n",
      "INFO:root:llm_load_print_meta: general.name     = Phi 3.5 Mini Instruct\n",
      "INFO:root:llm_load_print_meta: BOS token        = 1 '<s>'\n",
      "INFO:root:llm_load_print_meta: EOS token        = 32000 '<|endoftext|>'\n",
      "INFO:root:llm_load_print_meta: UNK token        = 0 '<unk>'\n",
      "INFO:root:llm_load_print_meta: PAD token        = 32000 '<|endoftext|>'\n",
      "INFO:root:llm_load_print_meta: LF token         = 13 '<0x0A>'\n",
      "INFO:root:llm_load_print_meta: EOT token        = 32007 '<|end|>'\n",
      "INFO:root:llm_load_print_meta: max token length = 48\n",
      "INFO:root:ggml_cuda_init: GGML_CUDA_FORCE_MMQ:    no\n",
      "INFO:root:ggml_cuda_init: GGML_CUDA_FORCE_CUBLAS: no\n",
      "INFO:root:ggml_cuda_init: found 3 CUDA devices:\n",
      "INFO:root:Device 0: NVIDIA GeForce RTX 4090, compute capability 8.9, VMM: yes\n",
      "INFO:root:Device 1: NVIDIA GeForce RTX 4090, compute capability 8.9, VMM: yes\n",
      "INFO:root:Device 2: NVIDIA GeForce RTX 4090, compute capability 8.9, VMM: yes\n",
      "INFO:root:llm_load_tensors: ggml ctx size =    0.48 MiB\n",
      "INFO:root:llm_load_tensors: offloading 32 repeating layers to GPU\n",
      "INFO:root:llm_load_tensors: offloaded 32/33 layers to GPU\n",
      "INFO:root:llm_load_tensors:        CPU buffer size =  2281.66 MiB\n",
      "INFO:root:llm_load_tensors:      CUDA0 buffer size =   672.43 MiB\n",
      "INFO:root:llm_load_tensors:      CUDA1 buffer size =   730.39 MiB\n",
      "INFO:root:llm_load_tensors:      CUDA2 buffer size =   748.95 MiB\n",
      "INFO:openai._base_client:Retrying request to /models in 0.809969 seconds\n",
      "INFO:root:............................................................................................\n",
      "INFO:root:llama_new_context_with_model: n_ctx      = 8192\n",
      "INFO:root:llama_new_context_with_model: n_batch    = 32\n",
      "INFO:root:llama_new_context_with_model: n_ubatch   = 32\n",
      "INFO:root:llama_new_context_with_model: flash_attn = 0\n",
      "INFO:root:llama_new_context_with_model: freq_base  = 10000.0\n",
      "INFO:root:llama_new_context_with_model: freq_scale = 1\n",
      "INFO:root:llama_kv_cache_init:      CUDA0 KV buffer size =   960.00 MiB\n",
      "INFO:root:llama_kv_cache_init:      CUDA1 KV buffer size =  1056.00 MiB\n",
      "INFO:root:llama_kv_cache_init:      CUDA2 KV buffer size =  1056.00 MiB\n",
      "INFO:root:llama_new_context_with_model: KV self size  = 3072.00 MiB, K (f16): 1536.00 MiB, V (f16): 1536.00 MiB\n",
      "INFO:root:llama_new_context_with_model:  CUDA_Host  output buffer size =     0.12 MiB\n",
      "INFO:root:llama_new_context_with_model:      CUDA0 compute buffer size =    81.35 MiB\n",
      "INFO:root:llama_new_context_with_model:      CUDA1 compute buffer size =    35.25 MiB\n",
      "INFO:root:llama_new_context_with_model:      CUDA2 compute buffer size =    35.25 MiB\n",
      "INFO:root:llama_new_context_with_model:  CUDA_Host compute buffer size =     1.38 MiB\n",
      "INFO:root:llama_new_context_with_model: graph nodes  = 1286\n",
      "INFO:root:llama_new_context_with_model: graph splits = 6\n",
      "INFO:root:{\"function\":\"initialize\",\"level\":\"INFO\",\"line\":491,\"msg\":\"initializing slots\",\"n_slots\":1,\"tid\":\"11681088\",\"timestamp\":1728317991}\n",
      "INFO:root:\n",
      "INFO:root:{\"function\":\"initialize\",\"level\":\"INFO\",\"line\":500,\"msg\":\"new slot\",\"n_ctx_slot\":8192,\"slot_id\":0,\"tid\":\"11681088\",\"timestamp\":1728317991}\n",
      "INFO:root:llama server listening at http://127.0.0.1:8085\n",
      "INFO:root:{\"function\":\"server_cli\",\"level\":\"INFO\",\"line\":3062,\"msg\":\"model loaded\",\"tid\":\"11681088\",\"timestamp\":1728317991}\n",
      "INFO:root:\n",
      "INFO:root:{\"function\":\"server_cli\",\"hostname\":\"127.0.0.1\",\"level\":\"INFO\",\"line\":3185,\"msg\":\"HTTP server listening\",\"port\":\"8085\",\"tid\":\"11681088\",\"timestamp\":1728317991}\n",
      "INFO:root:{\"function\":\"update_slots\",\"level\":\"INFO\",\"line\":1661,\"msg\":\"all slots are idle and system prompt is empty, clear the KV cache\",\"tid\":\"11681088\",\"timestamp\":1728317991}\n",
      "INFO:httpx:HTTP Request: GET http://127.0.0.1:8085/v1/models \"HTTP/1.1 200 OK\"\n",
      "INFO:root:{\"function\":\"log_server_request\",\"level\":\"INFO\",\"line\":2766,\"method\":\"GET\",\"msg\":\"request\",\"params\":{},\"path\":\"/v1/models\",\"remote_addr\":\"127.0.0.1\",\"remote_port\":33964,\"status\":200,\"tid\":\"140716117141504\",\"timestamp\":1728317991}\n",
      "INFO:root:Llamafile server started successfully\n",
      "INFO:httpx:HTTP Request: GET http://127.0.0.1:8085/v1/models \"HTTP/1.1 200 OK\"\n",
      "INFO:root:{\"function\":\"log_server_request\",\"level\":\"INFO\",\"line\":2766,\"method\":\"GET\",\"msg\":\"request\",\"params\":{},\"path\":\"/v1/models\",\"remote_addr\":\"127.0.0.1\",\"remote_port\":33964,\"status\":200,\"tid\":\"140716117141504\",\"timestamp\":1728317991}\n",
      "INFO:root:{\"function\":\"launch_slot_with_data\",\"level\":\"INFO\",\"line\":886,\"msg\":\"slot is processing task\",\"slot_id\":0,\"task_id\":0,\"tid\":\"11681088\",\"timestamp\":1728317991}\n",
      "INFO:root:{\"function\":\"update_slots\",\"level\":\"INFO\",\"line\":1912,\"msg\":\"kv cache rm [p0, end)\",\"p0\":0,\"slot_id\":0,\"task_id\":0,\"tid\":\"11681088\",\"timestamp\":1728317991}\n",
      "INFO:root:{\"function\":\"print_timings\",\"level\":\"INFO\",\"line\":313,\"msg\":\"prompt eval time     =     775.27 ms /  2145 tokens (    0.36 ms per token,  2766.77 tokens per second)\",\"n_tokens_second\":2766.770888152803,\"num_prompt_tokens_processed\":2145,\"slot_id\":0,\"t_prompt_processing\":775.272,\"t_token\":0.36143216783216786,\"task_id\":0,\"tid\":\"11681088\",\"timestamp\":1728317995}\n",
      "INFO:httpx:HTTP Request: POST http://127.0.0.1:8085/v1/chat/completions \"HTTP/1.1 200 OK\"\n",
      "INFO:root:{\"function\":\"print_timings\",\"level\":\"INFO\",\"line\":327,\"msg\":\"generation eval time =    3023.52 ms /   230 runs   (   13.15 ms per token,    76.07 tokens per second)\",\"n_decoded\":230,\"n_tokens_second\":76.07035118373736,\"slot_id\":0,\"t_token\":13.145726086956522,\"t_token_generation\":3023.517,\"task_id\":0,\"tid\":\"11681088\",\"timestamp\":1728317995}\n",
      "INFO:root:{\"function\":\"print_timings\",\"level\":\"INFO\",\"line\":337,\"msg\":\"          total time =    3798.79 ms\",\"slot_id\":0,\"t_prompt_processing\":775.272,\"t_token_generation\":3023.517,\"t_total\":3798.7889999999998,\"task_id\":0,\"tid\":\"11681088\",\"timestamp\":1728317995}\n",
      "INFO:root:{\"function\":\"update_slots\",\"level\":\"INFO\",\"line\":1723,\"msg\":\"slot released\",\"n_cache_tokens\":2375,\"n_ctx\":8192,\"n_past\":2374,\"n_system_tokens\":0,\"slot_id\":0,\"task_id\":0,\"tid\":\"11681088\",\"timestamp\":1728317995,\"truncated\":false}\n",
      "INFO:root:{\"function\":\"log_server_request\",\"level\":\"INFO\",\"line\":2766,\"method\":\"POST\",\"msg\":\"request\",\"params\":{},\"path\":\"/v1/chat/completions\",\"remote_addr\":\"127.0.0.1\",\"remote_port\":33964,\"status\":200,\"tid\":\"140716117141504\",\"timestamp\":1728317995}\n"
     ]
    }
   ],
   "source": [
    "from flow_judge import Vllm, Llamafile, Hf, EvalInput, FlowJudge\n",
    "\n",
    "from flow_judge.metrics import RESPONSE_FAITHFULNESS_5POINT\n",
    "from IPython.display import Markdown, display\n",
    "\n",
    "\n",
    "# If you are running on an Ampere GPU or newer, create a model using VLLM\n",
    "# model = Vllm()\n",
    "\n",
    "# If you have other applications open taking up VRAM, you can use less VRAM by setting gpu_memory_utilization to a lower value.\n",
    "# model = Vllm(gpu_memory_utilization=0.70)\n",
    "\n",
    "# Or if not running on Ampere GPU or newer, create a model using no flash attn and Hugging Face Transformers\n",
    "# model = Hf(flash_attn=False)\n",
    "\n",
    "# Or create a model using Llamafile if not running an Nvidia GPU & running a Silicon MacOS for example\n",
    "model = Llamafile()\n",
    "\n",
    "\n",
    "# Initialize the judge\n",
    "faithfulness_judge = FlowJudge(\n",
    "    metric=RESPONSE_FAITHFULNESS_5POINT,\n",
    "    model=model\n",
    ")\n",
    "\n",
    "# Sample to evaluate\n",
    "query = \"\"\"Please read the technical issue that the user is facing and help me create a detailed solution based on the context provided.\"\"\"\n",
    "context = \"\"\"# Customer Issue:\n",
    "I'm having trouble when uploading a git lfs tracked file to my repo: (base)  bernardo@bernardo-desktop  ~/repos/lm-evaluation-harness  ↱ Flow-Judge-v0.1_evals  git push\n",
    "batch response: This repository is over its data quota. Account responsible for LFS bandwidth should purchase more data packs to restore access.\n",
    "\n",
    "# Documentation:\n",
    "Configuring Git Large File Storage\n",
    "Once Git LFS is installed, you need to associate it with a large file in your repository.\n",
    "\n",
    "Platform navigation\n",
    "Mac\n",
    "Windows\n",
    "Linux\n",
    "If there are existing files in your repository that you'd like to use GitHub with, you need to first remove them from the repository and then add them to Git LFS locally. For more information, see \"Moving a file in your repository to Git Large File Storage.\"\n",
    "\n",
    "If there are referenced Git LFS files that did not upload successfully, you will receive an error message. For more information, see \"Resolving Git Large File Storage upload failures.\"\n",
    "\n",
    "Open Terminal.\n",
    "\n",
    "Change your current working directory to an existing repository you'd like to use with Git LFS.\n",
    "\n",
    "To associate a file type in your repository with Git LFS, enter git lfs track followed by the name of the file extension you want to automatically upload to Git LFS.\n",
    "\n",
    "For example, to associate a .psd file, enter the following command:\n",
    "\n",
    "$ git lfs track \"*.psd\"\n",
    "> Tracking \"*.psd\"\n",
    "Every file type you want to associate with Git LFS will need to be added with git lfs track. This command amends your repository's .gitattributes file and associates large files with Git LFS.\n",
    "\n",
    "Note: We strongly suggest that you commit your local .gitattributes file into your repository.\n",
    "\n",
    "Relying on a global .gitattributes file associated with Git LFS may cause conflicts when contributing to other Git projects.\n",
    "Including the .gitattributes file in the repository allows people creating forks or fresh clones to more easily collaborate using Git LFS.\n",
    "Including the .gitattributes file in the repository allows Git LFS objects to optionally be included in ZIP file and tarball archives.\n",
    "Add a file to the repository matching the extension you've associated:\n",
    "\n",
    "git add path/to/file.psd\n",
    "Commit the file and push it to GitHub:\n",
    "\n",
    "git commit -m \"add file.psd\"\n",
    "git push\n",
    "You should see some diagnostic information about your file upload:\n",
    "\n",
    "> Sending file.psd\n",
    "> 44.74 MB / 81.04 MB  55.21 % 14s\n",
    "> 64.74 MB / 81.04 MB  79.21 % 3s\"\"\"\n",
    "response = \"\"\"# Resolving Git LFS Data Quota Issue\n",
    "\n",
    "## Problem\n",
    "The user is encountering an error when trying to push Git LFS tracked files:\n",
    "```\n",
    "This repository is over its data quota. Account responsible for LFS bandwidth should purchase more data packs to restore access.\n",
    "```\n",
    "\n",
    "## Solution\n",
    "\n",
    "1. **Understand the issue**\n",
    "   - The error message indicates that the repository has exceeded its data quota for Git LFS (Large File Storage).\n",
    "   - This is likely due to the size or number of large files being tracked by Git LFS.\n",
    "\n",
    "2. **Check current LFS usage**\n",
    "   - Run the following command to see the current LFS objects:\n",
    "     ```\n",
    "     git lfs ls-files\n",
    "     ```\n",
    "   - This will show you which files are being tracked by Git LFS and their sizes.\n",
    "\n",
    "3. **Review Git LFS pricing and quotas**\n",
    "   - Visit GitHub's pricing page to understand the current LFS storage and bandwidth limits for your account type.\n",
    "   - Free accounts typically have lower limits compared to paid plans.\n",
    "\n",
    "4. **Options to resolve the issue**\n",
    "\n",
    "   a. **Purchase more data packs**\n",
    "      - If you need to keep all current LFS objects and continue using LFS extensively:\n",
    "        1. Go to your GitHub account settings.\n",
    "        2. Navigate to the Billing section.\n",
    "        3. Look for options to purchase additional data packs for Git LFS.\n",
    "\n",
    "   b. **Optimize repository**\n",
    "      - If purchasing more data is not an option, consider optimizing your repository:\n",
    "        1. Remove unnecessary large files from LFS tracking.\n",
    "        2. Use `.gitignore` to exclude large files that don't need version control.\n",
    "        3. Consider using alternative storage solutions for very large assets.\n",
    "\n",
    "   c. **Clean up LFS cache**\n",
    "      - Sometimes, cleaning up the LFS cache can help:\n",
    "        ```\n",
    "        git lfs prune\n",
    "        ```\n",
    "\n",
    "5. **Reconfigure Git LFS tracking**\n",
    "   - Review your `.gitattributes` file to ensure only necessary file types are tracked:\n",
    "     ```\n",
    "     git lfs track\n",
    "     ```\n",
    "   - Modify tracking as needed:\n",
    "     ```\n",
    "     git lfs track \"*.psd\"  # Track PSD files\n",
    "     git lfs untrack \"*.zip\"  # Stop tracking ZIP files\n",
    "     ```\n",
    "\n",
    "6. **Commit changes and retry push**\n",
    "   - After making necessary changes:\n",
    "     ```\n",
    "     git add .gitattributes\n",
    "     git commit -m \"Update Git LFS tracking\"\n",
    "     git push\n",
    "     ```\n",
    "\n",
    "7. **If issues persist**\n",
    "   - Contact GitHub support for further assistance.\n",
    "   - They may be able to provide more specific guidance based on your account and repository details.\n",
    "\n",
    "Remember to regularly monitor your Git LFS usage to avoid hitting quotas in the future. Consider setting up alerts or regularly checking your GitHub account's storage usage statistics.\"\"\"\n",
    "\n",
    "# Create an EvalInput\n",
    "# We want to evaluate the response to the customer issue based on the context and the user instructions\n",
    "eval_input = EvalInput(\n",
    "    inputs=[\n",
    "        {\"query\": query},\n",
    "        {\"context\": context},\n",
    "    ],\n",
    "    output={\"response\": response},\n",
    ")\n",
    "\n",
    "# Run the evaluation\n",
    "result = faithfulness_judge.evaluate(eval_input, save_results=False)"
   ]
  },
  {
   "cell_type": "code",
   "execution_count": 2,
   "metadata": {},
   "outputs": [
    {
     "data": {
      "text/markdown": [
       "__Feedback:__\n",
       "The response provided is highly consistent with the context given. It addresses the specific issue of a Git LFS data quota being exceeded and offers a detailed, step-by-step solution that aligns with the information provided in the documentation and context. The solution includes checking current LFS usage, reviewing pricing and quotas, purchasing more data packs, optimizing the repository, cleaning up the LFS cache, reconfiguring Git LFS tracking, committing changes, and contacting GitHub support if issues persist. All these steps are relevant and supported by the context provided. There are no hallucinated or fabricated details in the response. The instructions are clear, practical, and directly applicable to the problem at hand. The response does not introduce any new information not supported by the context, and it remains focused on the issue of resolving the data quota problem.\n",
       "\n",
       "Therefore, the response is completely consistent with and faithful to the provided context, with all details directly supported by the context.\n",
       "\n",
       "__Score:__\n",
       "5"
      ],
      "text/plain": [
       "<IPython.core.display.Markdown object>"
      ]
     },
     "metadata": {},
     "output_type": "display_data"
    }
   ],
   "source": [
    "# Display the result\n",
    "display(Markdown(f\"__Feedback:__\\n{result.feedback}\\n\\n__Score:__\\n{result.score}\"))"
   ]
  },
  {
   "cell_type": "markdown",
   "metadata": {},
   "source": [
    "# Models\n",
    "\n",
    "`flow-judge` support different model configurations. This refers to the library use for running inference with the models. We currently support:\n",
    "- vLLM sync & async (default engine, mode sync)\n",
    "- Hugging Face\n",
    "- Llamafile"
   ]
  },
  {
   "cell_type": "markdown",
   "metadata": {},
   "source": [
    "# Metrics\n",
    "\n",
    "A judge is initialized with a metric and a model.\n",
    "\n",
    "We include some common metrics in the library, such as:\n",
    "- RESPONSE_FAITHFULNESS_3POINT\n",
    "- RESPONSE_FAITHFULNESS_5POINT\n",
    "- RESPONSE_COMPREHENSIVENESS_3POINT\n",
    "- RESPONSE_COMPREHENSIVENESS_5POINT\n",
    "\n",
    "But you can also implement your own metrics and use them with the judge.\n",
    "\n",
    "Note that metrics have required inputs and outputs as you can see below:"
   ]
  },
  {
   "cell_type": "code",
   "execution_count": 3,
   "metadata": {},
   "outputs": [
    {
     "name": "stdout",
     "output_type": "stream",
     "text": [
      "Metric: Response Faithfulness (5-point Likert)\n",
      "Required inputs: query, context\n",
      "Required output: response\n"
     ]
    }
   ],
   "source": [
    "RESPONSE_FAITHFULNESS_5POINT.print_required_keys()"
   ]
  },
  {
   "cell_type": "markdown",
   "metadata": {},
   "source": [
    "`flow-judge` checks under the hood if the keys match. This is important to ensure the right prompt is being formatted.\n",
    "\n",
    "When you define a custom metric, you should specify the required keys as well."
   ]
  },
  {
   "cell_type": "markdown",
   "metadata": {},
   "source": [
    "## Running batched evaluations\n",
    "\n",
    "The `FlowJudge` class also supports batch evaluation. This is useful when you want to evaluate multiple samples at once in Evaluation-Driven Development."
   ]
  },
  {
   "cell_type": "code",
   "execution_count": 4,
   "metadata": {},
   "outputs": [
    {
     "name": "stderr",
     "output_type": "stream",
     "text": [
      "INFO:root:{\"function\":\"launch_slot_with_data\",\"level\":\"INFO\",\"line\":886,\"msg\":\"slot is processing task\",\"slot_id\":0,\"task_id\":277,\"tid\":\"11681088\",\"timestamp\":1728317885}\n",
      "INFO:root:{\"function\":\"update_slots\",\"level\":\"INFO\",\"line\":1912,\"msg\":\"kv cache rm [p0, end)\",\"p0\":0,\"slot_id\":0,\"task_id\":277,\"tid\":\"11681088\",\"timestamp\":1728317885}\n",
      "INFO:root:{\"function\":\"print_timings\",\"level\":\"INFO\",\"line\":313,\"msg\":\"prompt eval time     =     425.10 ms /  1257 tokens (    0.34 ms per token,  2956.94 tokens per second)\",\"n_tokens_second\":2956.944349695719,\"num_prompt_tokens_processed\":1257,\"slot_id\":0,\"t_prompt_processing\":425.101,\"t_token\":0.3381869530628481,\"task_id\":277,\"tid\":\"11681088\",\"timestamp\":1728317890}\n",
      "INFO:root:{\"function\":\"print_timings\",\"level\":\"INFO\",\"line\":327,\"msg\":\"generation eval time =    4245.75 ms /   379 runs   (   11.20 ms per token,    89.27 tokens per second)\",\"n_decoded\":379,\"n_tokens_second\":89.26582042354865,\"slot_id\":0,\"t_token\":11.202496042216358,\"t_token_generation\":4245.746,\"task_id\":277,\"tid\":\"11681088\",\"timestamp\":1728317890}\n",
      "INFO:root:{\"function\":\"print_timings\",\"level\":\"INFO\",\"line\":337,\"msg\":\"          total time =    4670.85 ms\",\"slot_id\":0,\"t_prompt_processing\":425.101,\"t_token_generation\":4245.746,\"t_total\":4670.847,\"task_id\":277,\"tid\":\"11681088\",\"timestamp\":1728317890}\n",
      "INFO:root:{\"function\":\"update_slots\",\"level\":\"INFO\",\"line\":1723,\"msg\":\"slot released\",\"n_cache_tokens\":1636,\"n_ctx\":8192,\"n_past\":1635,\"n_system_tokens\":0,\"slot_id\":0,\"task_id\":277,\"tid\":\"11681088\",\"timestamp\":1728317890,\"truncated\":false}\n",
      "INFO:root:{\"function\":\"log_server_request\",\"level\":\"INFO\",\"line\":2766,\"method\":\"POST\",\"msg\":\"request\",\"params\":{},\"path\":\"/v1/chat/completions\",\"remote_addr\":\"127.0.0.1\",\"remote_port\":53984,\"status\":200,\"tid\":\"140272543616432\",\"timestamp\":1728317890}\n",
      "INFO:root:{\"function\":\"launch_slot_with_data\",\"level\":\"INFO\",\"line\":886,\"msg\":\"slot is processing task\",\"slot_id\":0,\"task_id\":658,\"tid\":\"11681088\",\"timestamp\":1728317890}\n",
      "INFO:root:{\"function\":\"update_slots\",\"level\":\"INFO\",\"line\":1912,\"msg\":\"kv cache rm [p0, end)\",\"p0\":0,\"slot_id\":0,\"task_id\":658,\"tid\":\"11681088\",\"timestamp\":1728317890}\n",
      "INFO:root:{\"function\":\"print_timings\",\"level\":\"INFO\",\"line\":313,\"msg\":\"prompt eval time     =     394.20 ms /  1228 tokens (    0.32 ms per token,  3115.16 tokens per second)\",\"n_tokens_second\":3115.162061993754,\"num_prompt_tokens_processed\":1228,\"slot_id\":0,\"t_prompt_processing\":394.201,\"t_token\":0.32101058631921825,\"task_id\":658,\"tid\":\"11681088\",\"timestamp\":1728317894}\n",
      "INFO:root:{\"function\":\"print_timings\",\"level\":\"INFO\",\"line\":327,\"msg\":\"generation eval time =    3676.58 ms /   337 runs   (   10.91 ms per token,    91.66 tokens per second)\",\"n_decoded\":337,\"n_tokens_second\":91.66134695397376,\"slot_id\":0,\"t_token\":10.90972403560831,\"t_token_generation\":3676.577,\"task_id\":658,\"tid\":\"11681088\",\"timestamp\":1728317894}\n",
      "INFO:root:{\"function\":\"print_timings\",\"level\":\"INFO\",\"line\":337,\"msg\":\"          total time =    4070.78 ms\",\"slot_id\":0,\"t_prompt_processing\":394.201,\"t_token_generation\":3676.577,\"t_total\":4070.7780000000002,\"task_id\":658,\"tid\":\"11681088\",\"timestamp\":1728317894}\n",
      "INFO:root:{\"function\":\"update_slots\",\"level\":\"INFO\",\"line\":1723,\"msg\":\"slot released\",\"n_cache_tokens\":1565,\"n_ctx\":8192,\"n_past\":1564,\"n_system_tokens\":0,\"slot_id\":0,\"task_id\":658,\"tid\":\"11681088\",\"timestamp\":1728317894,\"truncated\":false}\n",
      "INFO:root:{\"function\":\"log_server_request\",\"level\":\"INFO\",\"line\":2766,\"method\":\"POST\",\"msg\":\"request\",\"params\":{},\"path\":\"/v1/chat/completions\",\"remote_addr\":\"127.0.0.1\",\"remote_port\":53984,\"status\":200,\"tid\":\"140272543616432\",\"timestamp\":1728317894}\n",
      "INFO:root:{\"function\":\"launch_slot_with_data\",\"level\":\"INFO\",\"line\":886,\"msg\":\"slot is processing task\",\"slot_id\":0,\"task_id\":997,\"tid\":\"11681088\",\"timestamp\":1728317894}\n",
      "INFO:root:{\"function\":\"update_slots\",\"level\":\"INFO\",\"line\":1912,\"msg\":\"kv cache rm [p0, end)\",\"p0\":0,\"slot_id\":0,\"task_id\":997,\"tid\":\"11681088\",\"timestamp\":1728317894}\n",
      "INFO:root:{\"function\":\"print_timings\",\"level\":\"INFO\",\"line\":313,\"msg\":\"prompt eval time     =     464.64 ms /  1413 tokens (    0.33 ms per token,  3041.08 tokens per second)\",\"n_tokens_second\":3041.077139622674,\"num_prompt_tokens_processed\":1413,\"slot_id\":0,\"t_prompt_processing\":464.638,\"t_token\":0.328830856334041,\"task_id\":997,\"tid\":\"11681088\",\"timestamp\":1728317897}\n",
      "INFO:root:{\"function\":\"print_timings\",\"level\":\"INFO\",\"line\":327,\"msg\":\"generation eval time =    2440.90 ms /   216 runs   (   11.30 ms per token,    88.49 tokens per second)\",\"n_decoded\":216,\"n_tokens_second\":88.49202219838763,\"slot_id\":0,\"t_token\":11.300453703703704,\"t_token_generation\":2440.898,\"task_id\":997,\"tid\":\"11681088\",\"timestamp\":1728317897}\n",
      "INFO:root:{\"function\":\"print_timings\",\"level\":\"INFO\",\"line\":337,\"msg\":\"          total time =    2905.54 ms\",\"slot_id\":0,\"t_prompt_processing\":464.638,\"t_token_generation\":2440.898,\"t_total\":2905.536,\"task_id\":997,\"tid\":\"11681088\",\"timestamp\":1728317897}\n",
      "INFO:root:{\"function\":\"update_slots\",\"level\":\"INFO\",\"line\":1723,\"msg\":\"slot released\",\"n_cache_tokens\":1629,\"n_ctx\":8192,\"n_past\":1628,\"n_system_tokens\":0,\"slot_id\":0,\"task_id\":997,\"tid\":\"11681088\",\"timestamp\":1728317897,\"truncated\":false}\n",
      "INFO:root:{\"function\":\"log_server_request\",\"level\":\"INFO\",\"line\":2766,\"method\":\"POST\",\"msg\":\"request\",\"params\":{},\"path\":\"/v1/chat/completions\",\"remote_addr\":\"127.0.0.1\",\"remote_port\":53984,\"status\":200,\"tid\":\"140272543616432\",\"timestamp\":1728317897}\n",
      "INFO:root:{\"function\":\"launch_slot_with_data\",\"level\":\"INFO\",\"line\":886,\"msg\":\"slot is processing task\",\"slot_id\":0,\"task_id\":1215,\"tid\":\"11681088\",\"timestamp\":1728317897}\n",
      "INFO:root:{\"function\":\"update_slots\",\"level\":\"INFO\",\"line\":1912,\"msg\":\"kv cache rm [p0, end)\",\"p0\":0,\"slot_id\":0,\"task_id\":1215,\"tid\":\"11681088\",\"timestamp\":1728317897}\n",
      "INFO:root:{\"function\":\"print_timings\",\"level\":\"INFO\",\"line\":313,\"msg\":\"prompt eval time     =     432.61 ms /  1325 tokens (    0.33 ms per token,  3062.81 tokens per second)\",\"n_tokens_second\":3062.8119156097077,\"num_prompt_tokens_processed\":1325,\"slot_id\":0,\"t_prompt_processing\":432.609,\"t_token\":0.32649735849056605,\"task_id\":1215,\"tid\":\"11681088\",\"timestamp\":1728317902}\n",
      "INFO:root:{\"function\":\"print_timings\",\"level\":\"INFO\",\"line\":327,\"msg\":\"generation eval time =    4201.21 ms /   376 runs   (   11.17 ms per token,    89.50 tokens per second)\",\"n_decoded\":376,\"n_tokens_second\":89.49800426591284,\"slot_id\":0,\"t_token\":11.173433510638299,\"t_token_generation\":4201.211,\"task_id\":1215,\"tid\":\"11681088\",\"timestamp\":1728317902}\n",
      "INFO:root:{\"function\":\"print_timings\",\"level\":\"INFO\",\"line\":337,\"msg\":\"          total time =    4633.82 ms\",\"slot_id\":0,\"t_prompt_processing\":432.609,\"t_token_generation\":4201.211,\"t_total\":4633.820000000001,\"task_id\":1215,\"tid\":\"11681088\",\"timestamp\":1728317902}\n",
      "INFO:root:{\"function\":\"update_slots\",\"level\":\"INFO\",\"line\":1723,\"msg\":\"slot released\",\"n_cache_tokens\":1701,\"n_ctx\":8192,\"n_past\":1700,\"n_system_tokens\":0,\"slot_id\":0,\"task_id\":1215,\"tid\":\"11681088\",\"timestamp\":1728317902,\"truncated\":false}\n",
      "INFO:root:{\"function\":\"log_server_request\",\"level\":\"INFO\",\"line\":2766,\"method\":\"POST\",\"msg\":\"request\",\"params\":{},\"path\":\"/v1/chat/completions\",\"remote_addr\":\"127.0.0.1\",\"remote_port\":53984,\"status\":200,\"tid\":\"140272543616432\",\"timestamp\":1728317902}\n",
      "INFO:root:{\"function\":\"launch_slot_with_data\",\"level\":\"INFO\",\"line\":886,\"msg\":\"slot is processing task\",\"slot_id\":0,\"task_id\":1593,\"tid\":\"11681088\",\"timestamp\":1728317902}\n",
      "INFO:root:{\"function\":\"update_slots\",\"level\":\"INFO\",\"line\":1912,\"msg\":\"kv cache rm [p0, end)\",\"p0\":0,\"slot_id\":0,\"task_id\":1593,\"tid\":\"11681088\",\"timestamp\":1728317902}\n",
      "INFO:root:{\"function\":\"print_timings\",\"level\":\"INFO\",\"line\":313,\"msg\":\"prompt eval time     =     447.98 ms /  1362 tokens (    0.33 ms per token,  3040.34 tokens per second)\",\"n_tokens_second\":3040.3414468632245,\"num_prompt_tokens_processed\":1362,\"slot_id\":0,\"t_prompt_processing\":447.976,\"t_token\":0.32891042584434654,\"task_id\":1593,\"tid\":\"11681088\",\"timestamp\":1728317904}\n",
      "INFO:root:{\"function\":\"print_timings\",\"level\":\"INFO\",\"line\":327,\"msg\":\"generation eval time =    2331.79 ms /   212 runs   (   11.00 ms per token,    90.92 tokens per second)\",\"n_decoded\":212,\"n_tokens_second\":90.91727814254286,\"slot_id\":0,\"t_token\":10.999009433962264,\"t_token_generation\":2331.79,\"task_id\":1593,\"tid\":\"11681088\",\"timestamp\":1728317904}\n",
      "INFO:root:{\"function\":\"print_timings\",\"level\":\"INFO\",\"line\":337,\"msg\":\"          total time =    2779.77 ms\",\"slot_id\":0,\"t_prompt_processing\":447.976,\"t_token_generation\":2331.79,\"t_total\":2779.766,\"task_id\":1593,\"tid\":\"11681088\",\"timestamp\":1728317904}\n",
      "INFO:root:{\"function\":\"update_slots\",\"level\":\"INFO\",\"line\":1723,\"msg\":\"slot released\",\"n_cache_tokens\":1574,\"n_ctx\":8192,\"n_past\":1573,\"n_system_tokens\":0,\"slot_id\":0,\"task_id\":1593,\"tid\":\"11681088\",\"timestamp\":1728317904,\"truncated\":false}\n",
      "INFO:root:{\"function\":\"log_server_request\",\"level\":\"INFO\",\"line\":2766,\"method\":\"POST\",\"msg\":\"request\",\"params\":{},\"path\":\"/v1/chat/completions\",\"remote_addr\":\"127.0.0.1\",\"remote_port\":53984,\"status\":200,\"tid\":\"140272543616432\",\"timestamp\":1728317904}\n",
      "INFO:root:{\"function\":\"launch_slot_with_data\",\"level\":\"INFO\",\"line\":886,\"msg\":\"slot is processing task\",\"slot_id\":0,\"task_id\":1807,\"tid\":\"11681088\",\"timestamp\":1728317904}\n",
      "INFO:root:{\"function\":\"update_slots\",\"level\":\"INFO\",\"line\":1912,\"msg\":\"kv cache rm [p0, end)\",\"p0\":0,\"slot_id\":0,\"task_id\":1807,\"tid\":\"11681088\",\"timestamp\":1728317904}\n",
      "INFO:root:{\"function\":\"print_timings\",\"level\":\"INFO\",\"line\":313,\"msg\":\"prompt eval time     =     371.21 ms /  1157 tokens (    0.32 ms per token,  3116.86 tokens per second)\",\"n_tokens_second\":3116.8593264674428,\"num_prompt_tokens_processed\":1157,\"slot_id\":0,\"t_prompt_processing\":371.207,\"t_token\":0.32083578219533276,\"task_id\":1807,\"tid\":\"11681088\",\"timestamp\":1728317907}\n",
      "INFO:root:{\"function\":\"print_timings\",\"level\":\"INFO\",\"line\":327,\"msg\":\"generation eval time =    1675.94 ms /   162 runs   (   10.35 ms per token,    96.66 tokens per second)\",\"n_decoded\":162,\"n_tokens_second\":96.66199864792537,\"slot_id\":0,\"t_token\":10.345327160493827,\"t_token_generation\":1675.943,\"task_id\":1807,\"tid\":\"11681088\",\"timestamp\":1728317907}\n",
      "INFO:root:{\"function\":\"print_timings\",\"level\":\"INFO\",\"line\":337,\"msg\":\"          total time =    2047.15 ms\",\"slot_id\":0,\"t_prompt_processing\":371.207,\"t_token_generation\":1675.943,\"t_total\":2047.15,\"task_id\":1807,\"tid\":\"11681088\",\"timestamp\":1728317907}\n",
      "INFO:root:{\"function\":\"update_slots\",\"level\":\"INFO\",\"line\":1723,\"msg\":\"slot released\",\"n_cache_tokens\":1319,\"n_ctx\":8192,\"n_past\":1318,\"n_system_tokens\":0,\"slot_id\":0,\"task_id\":1807,\"tid\":\"11681088\",\"timestamp\":1728317907,\"truncated\":false}\n",
      "INFO:root:{\"function\":\"log_server_request\",\"level\":\"INFO\",\"line\":2766,\"method\":\"POST\",\"msg\":\"request\",\"params\":{},\"path\":\"/v1/chat/completions\",\"remote_addr\":\"127.0.0.1\",\"remote_port\":45664,\"status\":200,\"tid\":\"140272543606784\",\"timestamp\":1728317907}\n"
     ]
    },
    {
     "name": "stderr",
     "output_type": "stream",
     "text": [
      "INFO:httpx:HTTP Request: POST http://127.0.0.1:8085/v1/chat/completions \"HTTP/1.1 200 OK\"\n",
      "INFO:httpx:HTTP Request: POST http://127.0.0.1:8085/v1/chat/completions \"HTTP/1.1 200 OK\"\n",
      "INFO:httpx:HTTP Request: POST http://127.0.0.1:8085/v1/chat/completions \"HTTP/1.1 200 OK\"\n",
      "INFO:httpx:HTTP Request: POST http://127.0.0.1:8085/v1/chat/completions \"HTTP/1.1 200 OK\"\n",
      "INFO:httpx:HTTP Request: POST http://127.0.0.1:8085/v1/chat/completions \"HTTP/1.1 200 OK\"\n",
      "INFO:httpx:HTTP Request: POST http://127.0.0.1:8085/v1/chat/completions \"HTTP/1.1 200 OK\"\n"
     ]
    }
   ],
   "source": [
    "# Read the sample data\n",
    "import json\n",
    "with open(\"sample_data/csr_assistant.json\", \"r\") as f:\n",
    "    data = json.load(f)\n",
    "\n",
    "# Create a list of inputs and outputs\n",
    "inputs_batch = [\n",
    "    [\n",
    "        {\"query\": sample[\"query\"]},\n",
    "        {\"context\": sample[\"context\"]},\n",
    "    ]\n",
    "    for sample in data\n",
    "]\n",
    "outputs_batch = [{\"response\": sample[\"response\"]} for sample in data]\n",
    "\n",
    "# Create a list of EvalInput\n",
    "eval_inputs_batch = [EvalInput(inputs=inputs, output=output) for inputs, output in zip(inputs_batch, outputs_batch)]\n",
    "\n",
    "# Run the batch evaluation\n",
    "results = faithfulness_judge.batch_evaluate(eval_inputs_batch, save_results=False)"
   ]
  },
  {
   "cell_type": "code",
   "execution_count": 5,
   "metadata": {},
   "outputs": [
    {
     "data": {
      "text/markdown": [
       "__Sample 1:__"
      ],
      "text/plain": [
       "<IPython.core.display.Markdown object>"
      ]
     },
     "metadata": {},
     "output_type": "display_data"
    },
    {
     "data": {
      "text/markdown": [
       "__Feedback:__\n",
       "\n",
       "\n",
       "__Score:__\n",
       "3"
      ],
      "text/plain": [
       "<IPython.core.display.Markdown object>"
      ]
     },
     "metadata": {},
     "output_type": "display_data"
    },
    {
     "data": {
      "text/markdown": [
       "---"
      ],
      "text/plain": [
       "<IPython.core.display.Markdown object>"
      ]
     },
     "metadata": {},
     "output_type": "display_data"
    },
    {
     "data": {
      "text/markdown": [
       "__Sample 2:__"
      ],
      "text/plain": [
       "<IPython.core.display.Markdown object>"
      ]
     },
     "metadata": {},
     "output_type": "display_data"
    },
    {
     "data": {
      "text/markdown": [
       "__Feedback:__\n",
       "\n",
       "\n",
       "__Score:__\n",
       "2"
      ],
      "text/plain": [
       "<IPython.core.display.Markdown object>"
      ]
     },
     "metadata": {},
     "output_type": "display_data"
    },
    {
     "data": {
      "text/markdown": [
       "---"
      ],
      "text/plain": [
       "<IPython.core.display.Markdown object>"
      ]
     },
     "metadata": {},
     "output_type": "display_data"
    },
    {
     "data": {
      "text/markdown": [
       "__Sample 3:__"
      ],
      "text/plain": [
       "<IPython.core.display.Markdown object>"
      ]
     },
     "metadata": {},
     "output_type": "display_data"
    },
    {
     "data": {
      "text/markdown": [
       "__Feedback:__\n",
       "\n",
       "\n",
       "__Score:__\n",
       "5"
      ],
      "text/plain": [
       "<IPython.core.display.Markdown object>"
      ]
     },
     "metadata": {},
     "output_type": "display_data"
    },
    {
     "data": {
      "text/markdown": [
       "---"
      ],
      "text/plain": [
       "<IPython.core.display.Markdown object>"
      ]
     },
     "metadata": {},
     "output_type": "display_data"
    },
    {
     "data": {
      "text/markdown": [
       "__Sample 4:__"
      ],
      "text/plain": [
       "<IPython.core.display.Markdown object>"
      ]
     },
     "metadata": {},
     "output_type": "display_data"
    },
    {
     "data": {
      "text/markdown": [
       "__Feedback:__\n",
       "\n",
       "\n",
       "__Score:__\n",
       "1"
      ],
      "text/plain": [
       "<IPython.core.display.Markdown object>"
      ]
     },
     "metadata": {},
     "output_type": "display_data"
    },
    {
     "data": {
      "text/markdown": [
       "---"
      ],
      "text/plain": [
       "<IPython.core.display.Markdown object>"
      ]
     },
     "metadata": {},
     "output_type": "display_data"
    },
    {
     "data": {
      "text/markdown": [
       "__Sample 5:__"
      ],
      "text/plain": [
       "<IPython.core.display.Markdown object>"
      ]
     },
     "metadata": {},
     "output_type": "display_data"
    },
    {
     "data": {
      "text/markdown": [
       "__Feedback:__\n",
       "\n",
       "\n",
       "__Score:__\n",
       "5"
      ],
      "text/plain": [
       "<IPython.core.display.Markdown object>"
      ]
     },
     "metadata": {},
     "output_type": "display_data"
    },
    {
     "data": {
      "text/markdown": [
       "---"
      ],
      "text/plain": [
       "<IPython.core.display.Markdown object>"
      ]
     },
     "metadata": {},
     "output_type": "display_data"
    },
    {
     "data": {
      "text/markdown": [
       "__Sample 6:__"
      ],
      "text/plain": [
       "<IPython.core.display.Markdown object>"
      ]
     },
     "metadata": {},
     "output_type": "display_data"
    },
    {
     "data": {
      "text/markdown": [
       "__Feedback:__\n",
       "\n",
       "\n",
       "__Score:__\n",
       "5"
      ],
      "text/plain": [
       "<IPython.core.display.Markdown object>"
      ]
     },
     "metadata": {},
     "output_type": "display_data"
    },
    {
     "data": {
      "text/markdown": [
       "---"
      ],
      "text/plain": [
       "<IPython.core.display.Markdown object>"
      ]
     },
     "metadata": {},
     "output_type": "display_data"
    }
   ],
   "source": [
    "# Visualizing the results\n",
    "for i, result in enumerate(results):\n",
    "    display(Markdown(f\"__Sample {i+1}:__\"))\n",
    "    display(Markdown(f\"__Feedback:__\\n{result.feedback}\\n\\n__Score:__\\n{result.score}\"))\n",
    "    display(Markdown(\"---\"))"
   ]
  },
  {
   "cell_type": "markdown",
   "metadata": {},
   "source": [
    "### Saving the results\n",
    "\n",
    "When running batched evaluation, it's usually recommended to save the results to a file for future reference and reproducibility. This is the default behavior of the evaluate methods."
   ]
  },
  {
   "cell_type": "code",
   "execution_count": null,
   "metadata": {},
   "outputs": [],
   "source": [
    "# Run the batch evaluation\n",
    "results = faithfulness_judge.batch_evaluate(eval_inputs_batch, save_results=True)"
   ]
  },
  {
   "cell_type": "code",
   "execution_count": null,
   "metadata": {},
   "outputs": [],
   "source": [
    "import os\n",
    "from pathlib import Path\n",
    "\n",
    "output_dir = Path(\"output\")\n",
    "latest_run = next(output_dir.iterdir())\n",
    "\n",
    "print(f\"Contents of {output_dir}:\")\n",
    "print(list(output_dir.iterdir()))\n",
    "\n",
    "print(f\"\\nContents of {latest_run}:\")\n",
    "print(list(latest_run.iterdir()))"
   ]
  },
  {
   "cell_type": "markdown",
   "metadata": {},
   "source": [
    "Each evaluation run generates 2 files:\n",
    "- `results_....json`: Contains the evaluation results.\n",
    "- `metadata_....json`: Contains metadata about the evaluation for reproducibility.\n",
    "\n",
    "These files are saved in the `output` directory."
   ]
  }
 ],
 "metadata": {
  "kernelspec": {
   "display_name": "Python 3",
   "language": "python",
   "name": "python3"
  },
  "language_info": {
   "codemirror_mode": {
    "name": "ipython",
    "version": 3
   },
   "file_extension": ".py",
   "mimetype": "text/x-python",
   "name": "python",
   "nbconvert_exporter": "python",
   "pygments_lexer": "ipython3",
   "version": "3.11.9"
  }
 },
 "nbformat": 4,
 "nbformat_minor": 4
}
