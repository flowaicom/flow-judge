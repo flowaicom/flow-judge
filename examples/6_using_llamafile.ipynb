{
 "cells": [
  {
   "cell_type": "code",
   "execution_count": 4,
   "metadata": {},
   "outputs": [
    {
     "name": "stdout",
     "output_type": "stream",
     "text": [
      "[\"Hello! I'm Phi, an AI language model. I don't have feelings, but I'm functioning optimally and ready to assist you. How can I help you today?\", \"I'm sorry, but I can't provide real-time or current weather information. To find out the current weather in Tokyo, please check a reliable weather forecasting service or website.\"]\n"
     ]
    }
   ],
   "source": [
    "import logging\n",
    "from flow_judge.models import Llamafile\n",
    "\n",
    "logging.getLogger().setLevel(logging.WARNING)\n",
    "\n",
    "model = Llamafile()\n",
    "\n",
    "\n",
    "# Or using a custom configuration\n",
    "# custom_config = LlamafileConfig  # You can modify this config as needed\n",
    "# custom_model = Llamafile(custom_config)\n",
    "\n",
    "prompts = [\"Hi Phi, how are you?\", \"What is the weather in Tokyo?\"]\n",
    "\n",
    "# with model:\n",
    "#     responses = model.batch_generate(prompts)\n",
    "#     for response in responses:\n",
    "#         print(response)\n",
    "\n",
    "with model:\n",
    "    print(model.batch_generate(prompts))\n"
   ]
  }
 ],
 "metadata": {
  "kernelspec": {
   "display_name": ".venv",
   "language": "python",
   "name": "python3"
  },
  "language_info": {
   "codemirror_mode": {
    "name": "ipython",
    "version": 3
   },
   "file_extension": ".py",
   "mimetype": "text/x-python",
   "name": "python",
   "nbconvert_exporter": "python",
   "pygments_lexer": "ipython3",
   "version": "3.11.9"
  }
 },
 "nbformat": 4,
 "nbformat_minor": 2
}
