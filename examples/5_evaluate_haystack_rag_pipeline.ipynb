{
 "cells": [
  {
   "cell_type": "markdown",
   "metadata": {},
   "source": [
    "# Evaluating a Haystack RAG pipeline with FlowJudge\n",
    "\n",
    "## Overview\n",
    "\n",
    "This tutorial demonstrates how to evaluate a Retrieval-Augmented Generation (RAG) pipeline built with Haystack using `FlowJudge`. We'll showcase how to:\n",
    "\n",
    "1. Set up a basic RAG pipeline using Haystack\n",
    "2. Integrate `FlowJudge` evaluators into a Haystack evaluation pipeline\n",
    "3. Assess the RAG system's performance using multiple metrics:\n",
    "   - Semantic Answer Similarity (SAS)\n",
    "   - Context Relevancy\n",
    "   - Faithfulness\n",
    "\n",
    "Key highlights:\n",
    "\n",
    "- Use of the `HaystackFlowJudge` class to seamlessly incorporate `FlowJudge` evaluators\n",
    "- Demonstration of custom metric creation for tailored evaluations\n",
    "- Utilization of both pre-built Haystack evaluators and custom `FlowJudge` evaluators\n",
    "\n",
    "By the end of this tutorial, you'll have a clear understanding of how to comprehensively evaluate your Haystack RAG pipelines using `FlowJudge`, enabling you to iteratively improve your system's performance without relying on proprietary large language models.\n",
    "\n",
    "### Additional requirements\n",
    "\n",
    "- Haystack: Make sure you have Haystack installed. You can install it via pip:\n",
    "  ```bash\n",
    "  pip install haystack-ai\n",
    "  ```\n",
    "\n",
    "- Sentence Transformers: Make sure you have Sentence Transformers installed. You can install it via pip:\n",
    "  ```bash\n",
    "  pip install \"sentence-transformers>=3.0.0\"\n",
    "  ```\n",
    "\n",
    "- Set your free HuggingFace API token as an environment variable:\n",
    "    ```python\n",
    "    import os\n",
    "    os.environ[\"HF_TOKEN\"] = \"your_token_here\"\n",
    "    ```\n",
    "\n",
    "    You can get your HuggingFace API token [here](https://huggingface.co/settings/tokens)."
   ]
  },
  {
   "cell_type": "markdown",
   "metadata": {},
   "source": [
    "Note that this notebook primarily demonstrates the integration of `FlowJudge` with Haystack for evaluating RAG pipelines. While we do set up a basic RAG pipeline using Haystack, the main emphasis is on the evaluation process using FlowJudge evaluators.\n",
    "\n",
    "For detailed explanations on building RAG pipelines with Haystack, please refer to the official [Haystack documentation](https://docs.haystack.deepset.ai/docs/intro)."
   ]
  },
  {
   "cell_type": "markdown",
   "metadata": {},
   "source": [
    "## Dataset\n",
    "\n",
    "For this tutorial, we are going to use a subset of the `LegalBench` dataset, which contains contracts and questions from the contracts."
   ]
  },
  {
   "cell_type": "code",
   "execution_count": 1,
   "metadata": {},
   "outputs": [],
   "source": [
    "try:\n",
    "    from datasets import Dataset\n",
    "except ImportError as e:\n",
    "    print(\"datasets is not installed. \")\n",
    "    print(\"Please run `pip install datasets` to install it.\")\n",
    "    print(\"\\nAfter installation, restart the kernel and run this cell again.\")\n",
    "    raise SystemExit(f\"Stopping execution due to missing datasets dependency: {e}\")"
   ]
  },
  {
   "cell_type": "code",
   "execution_count": 2,
   "metadata": {},
   "outputs": [],
   "source": [
    "from datasets import load_dataset\n",
    "\n",
    "ds = load_dataset(\"flowaicom/legalbench_contracts_qa_subset\", \"default\")"
   ]
  },
  {
   "cell_type": "code",
   "execution_count": 2,
   "metadata": {},
   "outputs": [
    {
     "data": {
      "text/plain": [
       "DatasetDict({\n",
       "    train: Dataset({\n",
       "        features: ['id', 'question', 'context', 'original_answer', 'answer', 'answer_with_reasoning'],\n",
       "        num_rows: 100\n",
       "    })\n",
       "})"
      ]
     },
     "execution_count": 2,
     "metadata": {},
     "output_type": "execute_result"
    }
   ],
   "source": [
    "ds"
   ]
  },
  {
   "cell_type": "markdown",
   "metadata": {},
   "source": [
    "This dataset contains:\n",
    "- Questions: A question about the contract.\n",
    "- Context: The contract itself.\n",
    "- Original answer: The original answer to the question which can be considered as the ground truth.\n",
    "- Answer: The answer used for generating the answer with reasoning, which can include noise with respect to the original answer.\n",
    "- Answer with reasoning: An answer to the question including the reasoning for the answer based on the contract.\n",
    "\n",
    "For this tutorial:\n",
    "- We use instances without perturbations (where original_answer == answer)\n",
    "- The contract text (context) is used to create documents\n",
    "- We use `answer_with_reasoning` as the ground truth for evaluators"
   ]
  },
  {
   "cell_type": "code",
   "execution_count": 3,
   "metadata": {},
   "outputs": [
    {
     "name": "stdout",
     "output_type": "stream",
     "text": [
      "Number of documents: 59\n",
      "Number of questions: 59\n",
      "Number of ground truths: 59\n"
     ]
    }
   ],
   "source": [
    "try:\n",
    "    from haystack import Document\n",
    "except ImportError:\n",
    "    print(\"Haystack is not installed. \")\n",
    "    print(\"Please install it according to the 'Additional Requirements' section above.\")\n",
    "    print(\"\\nAfter installation, restart the kernel and run this cell again.\")\n",
    "    raise SystemExit(\"Stopping execution due to missing Haystack dependency.\")\n",
    "\n",
    "filtered_ds = ds.filter(lambda x: x['original_answer'] == x['answer'])\n",
    "\n",
    "all_documents = [Document(content=context) for context in filtered_ds['train']['context']]\n",
    "all_questions = [q for q in filtered_ds['train']['question']]\n",
    "all_ground_truths = [a for a in filtered_ds['train']['answer_with_reasoning']]\n",
    "\n",
    "print(f\"Number of documents: {len(all_documents)}\")\n",
    "print(f\"Number of questions: {len(all_questions)}\")\n",
    "print(f\"Number of ground truths: {len(all_ground_truths)}\")"
   ]
  },
  {
   "cell_type": "code",
   "execution_count": 4,
   "metadata": {},
   "outputs": [
    {
     "data": {
      "text/markdown": [
       "**Question:** Does CNN permit using bots to artificially increase page visits for certain content?"
      ],
      "text/plain": [
       "<IPython.core.display.Markdown object>"
      ]
     },
     "metadata": {},
     "output_type": "display_data"
    },
    {
     "data": {
      "text/markdown": [
       "**Context:** The following terms apply to content submitted by users, and user conduct, on the Site's Interactive Areas, including CNN iReport:\n",
       "\n",
       "(A) Interactive Areas. The Site may contain comments sections, discussion forums, or other interactive features, including CNN iReport, CNN's user-generated news community (\"Interactive Areas\") in which you may post or upload user-generated content, including but not limited to iReports, comments, video, photos, messages, other materials or items (collectively, \"User Content\"). You are solely responsible for your use of any Interactive Areas and you use them at your own risk. Interactive Areas are available for individuals aged 13 years or older. By submitting User Content to an Interactive Area, you represent that you are 13 years of age or older and, if you are under the age of 18, you either are an emancipated minor, or have obtained the legal consent of your parent or legal guardian to enter into these Terms of Use, submit content, participate on the Site, and fulfill the obligations set forth in these Terms of Use, which forms a binding contract between you and CNN. Employees of Cable News Network, Inc. may not submit User Content without permission from their supervisors.\n",
       "\n",
       "(B) Community Guidelines. By submitting any User Content or participating in an Interactive Area within or in connection with the Site, you agree to abide by the following rules of conduct:\n",
       "You agree not to upload, post or otherwise transmit any User Content that:\n",
       "violates or infringes in any way upon the rights of others, including any statements which may defame, harass, stalk or threaten others.\n",
       "you know to be false, misleading or inaccurate.\n",
       "contains blatant expressions of bigotry, racism, racially or ethnically offensive content, hate speech, abusiveness, vulgarity or profanity.\n",
       "contains or advocates pornography or sexually explicit content, pedophilia, incest, bestiality, or that is otherwise obscene or lewd.\n",
       "violates any law or advocates or provides instruction on dangerous, illegal, or predatory acts, or discusses illegal activities with the intent to commit them.\n",
       "advocates violent behavior.\n",
       "poses a reasonable threat to personal or public safety.\n",
       "contains violent images of killing or physical abuse that appear to have been captured solely, or principally, for exploitive, prurient, or gratuitous purposes.\n",
       "is protected by copyright, trademark, trade secret, right of publicity or other proprietary right without the express permission of the owner of such copyright, trademark, trade secret, right of publicity or other proprietary right. The burden of determining that any User Content is not protected by copyright, trademark, trade secret, right of publicity or other proprietary right rests with you. You shall be solely liable for any damage resulting from any infringement of copyrights, trademarks, trade secrets, rights of publicity or other proprietary rights or any other harm resulting from such a submission. Any person determined by CNN, in its sole discretion, to have violated the intellectual property or other rights of others shall be barred from submitting or posting any further material on the Site.\n",
       "does not generally pertain to the designated topic or theme of any Interactive Area.\n",
       "contains any unsolicited or unauthorized advertising or promotional materials with respect to products or services, \"junk mail,\" \"spam,\" \"chain letters,\" \"pyramid schemes,\" or any other form of solicitation.\n",
       "You agree not to engage in activity that would constitute a criminal offense or give rise to a civil liability.\n",
       "You agree that if necessary, you have the consent of each and every identifiable natural person in any submission to use such persons name or likeness in the manner contemplated by the Site.\n",
       "You agree that any person who appears in your submission who is a current member of the Screen Actors Guild (SAG), the American Federation of Television and Radio Actors (AFTRA) or any other rights society is not entitled to compensation by CNN.\n",
       "You agree not to impersonate any person or entity, including, but not limited to, CNN or any CNN employee, or falsely state or otherwise misrepresent your affiliation with any person or entity.\n",
       "You agree not to represent or suggest, directly or indirectly, CNN's endorsement of User Content.\n",
       "You agree not to interfere with any other user's right to privacy, including by harvesting or collecting personally-identifiable information about the Site users or posting private information about a third party.\n",
       "You agree not to upload, post or otherwise transmit any User Content, software or other materials which contain a virus or other harmful or disruptive component.\n",
       "You agree not to interfere with or disrupt the Site or the servers or networks connected to the Site, or disobey any requirements, procedures, policies or regulations of networks connected to the Site.\n",
       "You agree not to reproduce, duplicate, copy, sell, resell or exploit for any commercial purpose, any portion of the Site, use the Site, or access to the Site.\n",
       "You agree not to use any service, technology or automated system to artificially inflate the page views that your User Content receives. This includes pay-per-click services, web \"robots\" and any other current or future technologies. You also agree not to direct any third party to use these services, technologies or automated systems on your behalf.\n",
       "You agree not to use any technology, service or automated system to post more User Content than an individual could upload in a given period of time. You also agree not to direct any third party to use these services, technologies or automated systems on your behalf.\n",
       "Any conduct that in CNN's sole discretion restricts or inhibits anyone else from using or enjoying the Site will not be permitted. CNN reserves the right in its sole discretion to remove or edit User Content by you and to terminate Your Account for any reason.\n",
       "CNN does not vouch for the accuracy or credibility of any User Content, and does not take any responsibility or assume any liability for any actions you may take as a result of reading User Content posted on the Site. Through your use of Interactive Areas, you may be exposed to content that you may find offensive, objectionable, harmful, inaccurate or deceptive. There may also be risks of dealing with underage persons, people acting under false pretense, international trade issues and foreign nationals. By using Interactive Areas, you assume all associated risks."
      ],
      "text/plain": [
       "<IPython.core.display.Markdown object>"
      ]
     },
     "metadata": {},
     "output_type": "display_data"
    },
    {
     "data": {
      "text/markdown": [
       "**Ground truth answer:** No, CNN does not permit using bots to artificially increase page visits for certain content. \n",
       "\n",
       "This is explicitly stated in the Community Guidelines, which prohibits users from using \"any service, technology or automated system to artificially inflate the page views that your User Content receives.\" This rule specifically includes \"web 'robots' and any other current or future technologies\" and extends to directing third parties to use these services on the user's behalf. This means that any attempt to manipulate page views through automated means is a direct violation of CNN's terms of use and can result in the removal of the content or even termination of the user's account."
      ],
      "text/plain": [
       "<IPython.core.display.Markdown object>"
      ]
     },
     "metadata": {},
     "output_type": "display_data"
    }
   ],
   "source": [
    "from IPython.display import Markdown, display\n",
    "\n",
    "display(Markdown(f\"**Question:** {all_questions[0]}\"))\n",
    "display(Markdown(f\"**Context:** {all_documents[0].content}\"))\n",
    "display(Markdown(f\"**Ground truth answer:** {all_ground_truths[0]}\"))"
   ]
  },
  {
   "cell_type": "markdown",
   "metadata": {},
   "source": [
    "## Creating a RAG pipeline with Haystack\n",
    "\n",
    "We will be creating a very simple RAG pipeline with Haystack.\n",
    "\n",
    "For more detail explanations about building the RAG pipeline, please refer to this tutorial in the Haystack documentation - [Tutorial: Evaluating RAG pipelines](https://haystack.deepset.ai/tutorials/35_evaluating_rag_pipelines)\n",
    "\n",
    ">Note that we have made minor modifications to the pipeline for this tutorial. In particular, we are using `HuggingFaceAPIChatGenerator` and `ChatPromptBuilder`.\n",
    "\n",
    "### Indexing the documents\n",
    "\n",
    "We need to index the documents so we can later use a retriever to find the most similar document to the question.\n",
    "\n",
    "We are using the `InMemoryDocumentStore`, which is a simple in-memory document store that doesn't require setting up a database.\n",
    "\n",
    "We are also using an small open-source embedding model from Sentence Transformers to convert the documents into embeddings.\n",
    "\n",
    "Finally, we are using the `DocumentWriter` to write the documents into the document store."
   ]
  },
  {
   "cell_type": "code",
   "execution_count": 5,
   "metadata": {},
   "outputs": [
    {
     "name": "stderr",
     "output_type": "stream",
     "text": [
      "/home/bernardo/repos/flow-judge/.test_env/lib/python3.10/site-packages/sentence_transformers/SentenceTransformer.py:181: FutureWarning: The `use_auth_token` argument is deprecated and will be removed in v4 of SentenceTransformers.\n",
      "  warnings.warn(\n",
      "/home/bernardo/repos/flow-judge/.test_env/lib/python3.10/site-packages/transformers/tokenization_utils_base.py:1617: FutureWarning: `clean_up_tokenization_spaces` was not set. It will be set to `True` by default. This behavior will be deprecated in transformers v4.45, and will be then set to `False` by default. For more details check this issue: https://github.com/huggingface/transformers/issues/31884\n",
      "  warnings.warn(\n"
     ]
    },
    {
     "data": {
      "application/vnd.jupyter.widget-view+json": {
       "model_id": "5fe16f5627c140a088d3a61409b34cde",
       "version_major": 2,
       "version_minor": 0
      },
      "text/plain": [
       "Batches:   0%|          | 0/2 [00:00<?, ?it/s]"
      ]
     },
     "metadata": {},
     "output_type": "display_data"
    },
    {
     "name": "stderr",
     "output_type": "stream",
     "text": [
      "ID 'c0836ba2f9d26978182748cd7560eb3f4e88a82850b29a2243b1cc63da11b6e5' already exists\n",
      "ID '88987c8c6fbb5fac2bbe6689fce472c5df6f7d650fbe42d218dcf7e1b77aa975' already exists\n",
      "ID '676bedf216ff078645168c0b1567e4c78dbc22ec710fc74216a74f7a0b5167fc' already exists\n",
      "ID 'f4fcb43ca4803f5ac8a34374d7cbf9cf248347e5d9ca63f32aaac6296794de6d' already exists\n",
      "ID 'c59aba33746d10420a8e8f09a70d2fa5961a81fc9c41cdc47850a49f6568808b' already exists\n",
      "ID '8805408d3f6c8ae955cf721219c0b4b3891438faa059189e1fd4c1111712c205' already exists\n"
     ]
    },
    {
     "data": {
      "text/plain": [
       "{'document_writer': {'documents_written': 53}}"
      ]
     },
     "execution_count": 5,
     "metadata": {},
     "output_type": "execute_result"
    }
   ],
   "source": [
    "from haystack import Pipeline\n",
    "from haystack.components.embedders import SentenceTransformersDocumentEmbedder\n",
    "from haystack.components.writers import DocumentWriter\n",
    "from haystack.document_stores.in_memory import InMemoryDocumentStore\n",
    "from haystack.document_stores.types import DuplicatePolicy\n",
    "\n",
    "document_store = InMemoryDocumentStore()\n",
    "\n",
    "document_embedder = SentenceTransformersDocumentEmbedder(model=\"sentence-transformers/all-MiniLM-L6-v2\")\n",
    "document_writer = DocumentWriter(document_store=document_store, policy=DuplicatePolicy.SKIP)\n",
    "\n",
    "indexing = Pipeline()\n",
    "indexing.add_component(instance=document_embedder, name=\"document_embedder\")\n",
    "indexing.add_component(instance=document_writer, name=\"document_writer\")\n",
    "\n",
    "indexing.connect(\"document_embedder.documents\", \"document_writer.documents\")\n",
    "\n",
    "indexing.run({\"document_embedder\": {\"documents\": all_documents}})"
   ]
  },
  {
   "cell_type": "markdown",
   "metadata": {},
   "source": [
    "### Create the RAG pipeline\n",
    "\n",
    "Haystack lets us easily create a RAG pipeline using:\n",
    "\n",
    "- `InMemoryEmbeddingRetriever` which will get the relevant documents to the query.\n",
    "- `HuggingFaceAPIChatGenerator` to generate the answer to the question. We are going to use a small open model for this example.\n",
    "\n",
    ">Note you can use the free serverless inference API from HuggingFace to quickly experiment with different models. However, it's rate-limited and not suitable for production. To make use of the API, you just need to provide [your free HuggingFace API token](https://huggingface.co/settings/tokens).\n",
    "\n"
   ]
  },
  {
   "cell_type": "code",
   "execution_count": 6,
   "metadata": {},
   "outputs": [
    {
     "data": {
      "text/plain": [
       "<haystack.core.pipeline.pipeline.Pipeline object at 0x7ac1526ebe50>\n",
       "🚅 Components\n",
       "  - query_embedder: SentenceTransformersTextEmbedder\n",
       "  - retriever: InMemoryEmbeddingRetriever\n",
       "  - prompt_builder: ChatPromptBuilder\n",
       "  - llm: HuggingFaceAPIChatGenerator\n",
       "  - answer_builder: AnswerBuilder\n",
       "🛤️ Connections\n",
       "  - query_embedder.embedding -> retriever.query_embedding (List[float])\n",
       "  - retriever.documents -> prompt_builder.documents (List[Document])\n",
       "  - retriever.documents -> answer_builder.documents (List[Document])\n",
       "  - prompt_builder.prompt -> llm.messages (List[ChatMessage])\n",
       "  - llm.replies -> answer_builder.replies (List[ChatMessage])"
      ]
     },
     "execution_count": 6,
     "metadata": {},
     "output_type": "execute_result"
    }
   ],
   "source": [
    "from haystack.components.builders import AnswerBuilder, ChatPromptBuilder\n",
    "from haystack.components.embedders import SentenceTransformersTextEmbedder\n",
    "from haystack.components.generators.chat import HuggingFaceAPIChatGenerator\n",
    "from haystack.components.retrievers.in_memory import InMemoryEmbeddingRetriever\n",
    "from haystack.utils.hf import HFGenerationAPIType, Secret\n",
    "from haystack.dataclasses import ChatMessage\n",
    "\n",
    "api_type = HFGenerationAPIType.SERVERLESS_INFERENCE_API\n",
    "llm = HuggingFaceAPIChatGenerator(api_type=api_type,\n",
    "                                        api_params={\"model\": \"microsoft/Phi-3.5-mini-instruct\"},\n",
    "                                        token=Secret.from_env_var(\"HF_TOKEN\")\n",
    "                                        )\n",
    "\n",
    "\n",
    "template_str = \"\"\"\n",
    "You have to answer the following question based on the given context information only.\n",
    "\n",
    "Context:\n",
    "{% for document in documents %}\n",
    "    {{ document.content }}\n",
    "{% endfor %}\n",
    "\n",
    "Question: {{question}}\n",
    "Answer:\n",
    "\"\"\"\n",
    "template = [ChatMessage.from_user(template_str)]\n",
    "prompt_builder = ChatPromptBuilder(template=template)\n",
    "\n",
    "rag_pipeline = Pipeline()\n",
    "rag_pipeline.add_component(\n",
    "    \"query_embedder\", SentenceTransformersTextEmbedder(model=\"sentence-transformers/all-MiniLM-L6-v2\")\n",
    ")\n",
    "rag_pipeline.add_component(\"retriever\", InMemoryEmbeddingRetriever(document_store, top_k=3))\n",
    "rag_pipeline.add_component(\"prompt_builder\", prompt_builder)\n",
    "rag_pipeline.add_component(\"llm\", llm)\n",
    "rag_pipeline.add_component(\"answer_builder\", AnswerBuilder())\n",
    "\n",
    "rag_pipeline.connect(\"query_embedder\", \"retriever.query_embedding\")\n",
    "rag_pipeline.connect(\"retriever\", \"prompt_builder.documents\")\n",
    "rag_pipeline.connect(\"prompt_builder\", \"llm\")\n",
    "rag_pipeline.connect(\"llm.replies\", \"answer_builder.replies\")\n",
    "rag_pipeline.connect(\"retriever\", \"answer_builder.documents\")"
   ]
  },
  {
   "cell_type": "markdown",
   "metadata": {},
   "source": [
    "Let's test the pipeline with a single question."
   ]
  },
  {
   "cell_type": "code",
   "execution_count": 7,
   "metadata": {},
   "outputs": [
    {
     "data": {
      "application/vnd.jupyter.widget-view+json": {
       "model_id": "de4afdad374a4a6d82284e4341e304ec",
       "version_major": 2,
       "version_minor": 0
      },
      "text/plain": [
       "Batches:   0%|          | 0/1 [00:00<?, ?it/s]"
      ]
     },
     "metadata": {},
     "output_type": "display_data"
    },
    {
     "name": "stdout",
     "output_type": "stream",
     "text": [
      "No, CNN does not permit the use of any technology, service or automated system, including bots, to artificially inflate page views, post more User Content than an individual could upload in a given period, or direct any third party to use these systems on their behalf. Users agree not to engage in any activity that could disrupt the Site or violate any of these terms.\n"
     ]
    }
   ],
   "source": [
    "# Quick test of the pipeline\n",
    "question = \"Does CNN permit using bots to artificially increase page visits for certain content?\"\n",
    "\n",
    "response = rag_pipeline.run(\n",
    "    {\n",
    "        \"query_embedder\": {\"text\": question},\n",
    "        \"prompt_builder\": {\"question\": question},\n",
    "        \"answer_builder\": {\"query\": question},\n",
    "    }\n",
    ")\n",
    "print(response[\"answer_builder\"][\"answers\"][0].data)\n"
   ]
  },
  {
   "cell_type": "code",
   "execution_count": 8,
   "metadata": {},
   "outputs": [
    {
     "data": {
      "text/markdown": [
       "**Document 1 (Score: 0.3840):**\n",
       "\n",
       "The Site contains copyrighted material, trademarks and other proprietary information, including, but not limited to, text, software, photos, video, graphics, music and sound, and the entire contents of the Site are copyrighted as a collective work under the United States copyright laws. CNN owns copyright in the selection, coordination, arrangement and enhancement of such content, as well as in the content original to it. You may not modify, publish, transmit, participate in the transfer or sale..."
      ],
      "text/plain": [
       "<IPython.core.display.Markdown object>"
      ]
     },
     "metadata": {},
     "output_type": "display_data"
    },
    {
     "data": {
      "text/markdown": [
       "**Document 2 (Score: 0.3641):**\n",
       "\n",
       "The following terms apply to content submitted by users, and user conduct, on the Site's Interactive Areas, including CNN iReport:\n",
       "\n",
       "(A) Interactive Areas. The Site may contain comments sections, discussion forums, or other interactive features, including CNN iReport, CNN's user-generated news community (\"Interactive Areas\") in which you may post or upload user-generated content, including but not limited to iReports, comments, video, photos, messages, other materials or items (collectively, \"Use..."
      ],
      "text/plain": [
       "<IPython.core.display.Markdown object>"
      ]
     },
     "metadata": {},
     "output_type": "display_data"
    },
    {
     "data": {
      "text/markdown": [
       "**Document 3 (Score: 0.3209):**\n",
       "\n",
       "7. Indemnification.\n",
       "You agree to defend, indemnify and hold harmless CNN, its affiliates and their respective directors, officers, employees and agents from and against all claims and expenses, including attorneys' fees, arising out of the use of the Site by you or your Account. CNN reserves the right to take over the exclusive defense of any claim for which we are entitled to indemnification under this Section. In such event, you shall provide CNN with such cooperation as is reasonably requeste..."
      ],
      "text/plain": [
       "<IPython.core.display.Markdown object>"
      ]
     },
     "metadata": {},
     "output_type": "display_data"
    }
   ],
   "source": [
    "# display the retrieved documents and similarity scores\n",
    "for i, doc in enumerate(response['answer_builder']['answers'][0].documents, 1):\n",
    "    display(Markdown(f\"\"\"**Document {i} (Score: {doc.score:.4f}):**\\n\\n{doc.content[:500]}...\"\"\"))"
   ]
  },
  {
   "cell_type": "markdown",
   "metadata": {},
   "source": [
    "## Evaluating the pipeline\n",
    "\n",
    "With our initial RAG pipeline prototype in place, we can now focus on evaluation.\n",
    "\n",
    "To showcase the integration of `FlowJudge` within the Haystack framework, we'll evaluate the pipeline using both statistical and model-based evaluators.\n",
    "\n",
    "Haystack employs the concept of an __Evaluation pipeline__, which computes scoring metrics to assess the RAG pipeline's performance.\n",
    "\n",
    "Our evaluation pipeline will incorporate three key metrics:\n",
    "- __Semantic Answer Similarity (SAS)__: Measures the semantic similarity between generated and ground truth answers, going beyond simple lexical matching.\n",
    "- __Context Relevancy__: Determines how well the retrieved documents align with the given query.\n",
    "- __Faithfulness__: Assesses the extent to which the generated answer is grounded in the retrieved documents.\n",
    "\n",
    "For context relevancy and faithfulness, we'll leverage `FlowJudge` evaluators, eliminating the need for proprietary large models like GPT-4 or Claude 3.5 Sonnet.\n",
    "\n",
    "### Obtaining generated answers\n",
    "\n",
    "Our first step is to generate answers using the RAG pipeline.\n",
    "\n",
    ">Note: We're using HuggingFace's free serverless inference API, which may take several minutes. To avoid rate limits, we're processing only 20 questions. If execution fails, you can resume from the last successful point by rerunning the cell."
   ]
  },
  {
   "cell_type": "code",
   "execution_count": 9,
   "metadata": {},
   "outputs": [
    {
     "data": {
      "application/vnd.jupyter.widget-view+json": {
       "model_id": "5a42f187890d41a895f24f95a8556c83",
       "version_major": 2,
       "version_minor": 0
      },
      "text/plain": [
       "Batches:   0%|          | 0/1 [00:00<?, ?it/s]"
      ]
     },
     "metadata": {},
     "output_type": "display_data"
    },
    {
     "name": "stdout",
     "output_type": "stream",
     "text": [
      "Question: Does CNN permit using bots to artificially increase page visits for certain content?\n",
      "Answer from pipeline:\n",
      "No, CNN does not permit the use of any technology, service or automated system, including bots, to artificially inflate page views, post more User Content than an individual could upload in a given period, or direct any third party to use these systems on their behalf. Users agree not to engage in any activity that could disrupt the Site or violate any of these terms.\n",
      "\n",
      "-----------------------------------\n",
      "\n"
     ]
    },
    {
     "data": {
      "application/vnd.jupyter.widget-view+json": {
       "model_id": "07737d54dcc64c9384fc4742779d25c9",
       "version_major": 2,
       "version_minor": 0
      },
      "text/plain": [
       "Batches:   0%|          | 0/1 [00:00<?, ?it/s]"
      ]
     },
     "metadata": {},
     "output_type": "display_data"
    },
    {
     "name": "stdout",
     "output_type": "stream",
     "text": [
      "Question: Does eBay promise that the product data it provides will be somewhat accurate?\n",
      "Answer from pipeline:\n",
      "Yes, eBay does acknowledge and warrant that the product data provided is accurate. However, it is important to note that eBay cannot promise that the content provided through their services will always be available, accurate, complete, and up-to-date. Users are responsible for ensuring the accuracy of the content they provide for their eBay listings.\n",
      "\n",
      "-----------------------------------\n",
      "\n"
     ]
    },
    {
     "data": {
      "application/vnd.jupyter.widget-view+json": {
       "model_id": "77808023298d4498bbcdf04d570ebfd5",
       "version_major": 2,
       "version_minor": 0
      },
      "text/plain": [
       "Batches:   0%|          | 0/1 [00:00<?, ?it/s]"
      ]
     },
     "metadata": {},
     "output_type": "display_data"
    },
    {
     "name": "stdout",
     "output_type": "stream",
     "text": [
      "Question: Will certain terms remain in force notwithstanding a users termination of the service?\n",
      "Answer from pipeline:\n",
      "Yes, certain terms will remain in force even if a user terminates the service. The specified sections that will survive termination of the Terms or the user's Account include:\n",
      "\n",
      "1. 4 (Your Content): This section likely deals with the user's ownership and responsibilities related to the content they create or upload on the services.\n",
      "\n",
      "2. 6 (Things You Cannot Do): This section probably outlines prohibited actions and activities on the services, thereby governing user behavior.\n",
      "\n",
      "3. 10 (Indemnity): This section may require users to indemnify or protect the service providers from legal liability arising from their use of the services.\n",
      "\n",
      "4. 11 (Disclaimers): These sections likely contain important disclaimers of warranty, limitations of liability, or other legal notices limiting the service provider's responsibilities to the user.\n",
      "\n",
      "5. 12 (Limitation of Liability): This section may further limit the liability of the service provider, specifying the extent to which they can be held responsible for damages resulting from the use of the service.\n",
      "\n",
      "6. 13 (Governing Law and Venue): It would state the governing law and venue, establishing the jurisdiction and legal framework for any disputes between the service provider and the users.\n",
      "\n",
      "7. 16 (Termination): It detailed the reasons and processes for free termination of the service by both the user and provider side.\n",
      "\n",
      "8. 17 (Miscellaneous): This could contain various additional terms and conditions that govern the relationship between the user and the service provider or other general but important provisions.\n",
      "\n",
      "Under these conditions, even if the service user ceases their usage of the Services but doesn't deactivate their Account, a few predefined sections will remain effective notwithstanding the termination. However, it's essential to read and understand these sections thoroughly to have a clear understanding of the implications.\n",
      "\n",
      "The termination of a service or an account does not automatically nullify these sections. The service providers commit to enforcing these terms unless they are deemed illegal or unenforceable. The user is also prohibited from assigning or transferring any rights under these terms without the service provider's consent, reinforcing the contractual relationship. However, it remains fair\n",
      "\n",
      "-----------------------------------\n",
      "\n"
     ]
    },
    {
     "data": {
      "application/vnd.jupyter.widget-view+json": {
       "model_id": "590a8a70ce184f788401547d0e192638",
       "version_major": 2,
       "version_minor": 0
      },
      "text/plain": [
       "Batches:   0%|          | 0/1 [00:00<?, ?it/s]"
      ]
     },
     "metadata": {},
     "output_type": "display_data"
    },
    {
     "name": "stdout",
     "output_type": "stream",
     "text": [
      "Question: Where a Netflix subscriber requires customer support, is there an alternative means to obtaining customer support apart from enabling Netflix to remotely access the device or devices in question?\n",
      "Answer from pipeline:\n",
      "Yes, according to the provided context, if a Netflix subscriber does not want to consent to support through the remote access tool, they can still receive assistance from Customer Support through other means. The document states, \"In certain instances, Customer Service may best be able to assist you by using a remote access support tool through which we have full access to your computer. If you do not want us to have this access, you should not consent to support through the remote access tool, and we will assist you through other means.\" Therefore, alternative channels or methods of customer support are available for users who opt-out of remote access.\n",
      "\n",
      "-----------------------------------\n",
      "\n"
     ]
    },
    {
     "data": {
      "application/vnd.jupyter.widget-view+json": {
       "model_id": "7ef6f27716c14b298c15541514bc56ad",
       "version_major": 2,
       "version_minor": 0
      },
      "text/plain": [
       "Batches:   0%|          | 0/1 [00:00<?, ?it/s]"
      ]
     },
     "metadata": {},
     "output_type": "display_data"
    },
    {
     "name": "stdout",
     "output_type": "stream",
     "text": [
      "Question: Can Apple disclose personal information about me if asked to by the government?\n",
      "Answer from pipeline:\n",
      "Yes, Apple can disclose personal information about you if they determine it is necessary to comply with any applicable law, regulation, legal process, or governmental request. This may include sharing information for investigations or complaints regarding your use of the Site, or in response to court orders or legal processes where Apple is legally required to provide such information.\n",
      "\n",
      "-----------------------------------\n",
      "\n"
     ]
    },
    {
     "data": {
      "application/vnd.jupyter.widget-view+json": {
       "model_id": "e6a8865b8112482599650c2473114a0c",
       "version_major": 2,
       "version_minor": 0
      },
      "text/plain": [
       "Batches:   0%|          | 0/1 [00:00<?, ?it/s]"
      ]
     },
     "metadata": {},
     "output_type": "display_data"
    },
    {
     "name": "stdout",
     "output_type": "stream",
     "text": [
      "Question: Am I allowed to scrape data on the services for a research project Im doing?\n",
      "Answer from pipeline:\n",
      "No, according to the provided context, you are not allowed to scrape data from the services using automated means, such as robots, spiders, scripts, software, or any manual or automatic device, tool, or process designed to data mine or scrape content from the Services. Doing so could result in civil, criminal, and/or administrative penalties, fines, or sanctions. Therefore, for a research project, you would need to request permission from The New York Times Rights and Permissions Department or the copyright holder identified in the copyright notice contained in the Content.\n",
      "\n",
      "-----------------------------------\n",
      "\n"
     ]
    },
    {
     "data": {
      "application/vnd.jupyter.widget-view+json": {
       "model_id": "0ec2fa402b2c4499bc4ddaea045403a8",
       "version_major": 2,
       "version_minor": 0
      },
      "text/plain": [
       "Batches:   0%|          | 0/1 [00:00<?, ?it/s]"
      ]
     },
     "metadata": {},
     "output_type": "display_data"
    },
    {
     "name": "stdout",
     "output_type": "stream",
     "text": [
      "Question: Does Amazon take responsibility for items sold by third parties through Amazon?\n",
      "Answer from pipeline:\n",
      "No, Amazon does not take responsibility for items sold by third parties through Amazon. According to the context, when you purchase any product or service offered by these third parties, you are purchasing directly from those third parties, not from Amazon. Amazon also does not warrant, examine, or evaluate the offerings of these businesses or individuals. Users are advised to carefully review the privacy statements and other conditions of use of those third parties.\n",
      "\n",
      "-----------------------------------\n",
      "\n"
     ]
    },
    {
     "data": {
      "application/vnd.jupyter.widget-view+json": {
       "model_id": "3677f75ec49f46a4831c333fb04c2822",
       "version_major": 2,
       "version_minor": 0
      },
      "text/plain": [
       "Batches:   0%|          | 0/1 [00:00<?, ?it/s]"
      ]
     },
     "metadata": {},
     "output_type": "display_data"
    },
    {
     "name": "stdout",
     "output_type": "stream",
     "text": [
      "Question: Does NYT check all user content before its uploaded and posted?\n",
      "Answer from pipeline:\n",
      "The provided context does not explicitly state whether The New York Times (NYT) checks all user content before it is uploaded and posted. However, NYT's Terms of Service do prohibit users from engaging in actions that could harm the Services, a third party, or violate applicable laws or intellectual property rights. It implies that there are certain controls and restrictions in place to maintain the integrity of the Services, but it does not directly address the procedure for content review before posting. Therefore, based on the given context, it cannot be definitively stated whether NYT checks all user content before it is uploaded and posted.\n",
      "\n",
      "-----------------------------------\n",
      "\n"
     ]
    },
    {
     "data": {
      "application/vnd.jupyter.widget-view+json": {
       "model_id": "bb3bc3eac6134daa95273874e96f732d",
       "version_major": 2,
       "version_minor": 0
      },
      "text/plain": [
       "Batches:   0%|          | 0/1 [00:00<?, ?it/s]"
      ]
     },
     "metadata": {},
     "output_type": "display_data"
    },
    {
     "name": "stdout",
     "output_type": "stream",
     "text": [
      "Question: Are there some changes to the terms that Instructure might not let me know about?\n",
      "Answer from pipeline:\n",
      "Yes, Instructure may revise the Acceptable Use Policy guidelines from time to time, and some of these revisions could meaningfully reduce your rights. Although Instructure will generally provide notice of significant revisions through notification methods such as email to the email address associated with your account, it is possible that not all changes are communicated to users. In such cases, you would be bound by and subject to the revised Acceptable Use Policy guidelines once they come into effect, as per the agreement stated in the Miscellaneous section of the context.\n",
      "\n",
      "-----------------------------------\n",
      "\n"
     ]
    },
    {
     "data": {
      "application/vnd.jupyter.widget-view+json": {
       "model_id": "84b3b0e1fb0a43978b0026e1e814aff9",
       "version_major": 2,
       "version_minor": 0
      },
      "text/plain": [
       "Batches:   0%|          | 0/1 [00:00<?, ?it/s]"
      ]
     },
     "metadata": {},
     "output_type": "display_data"
    },
    {
     "name": "stdout",
     "output_type": "stream",
     "text": [
      "Question: If someone else is using content I posted on Instagram, could this prevent the content from being deleted?\n",
      "Answer from pipeline:\n",
      "Yes, if someone else is using your content on Instagram in accordance with existing licenses and they have not deleted it, this could prevent the content from being immediately deleted. The license you granted allows them to use the content as outlined in the terms, and until they remove it or you delete your account, the content remains under those licensing terms and may not be deleted within 90 days of your request. However, eventually, your content may still be deleted if the person no longer uses it or if Instagram determines that deletion is necessary for legal, safety, security, or compliance reasons.\n",
      "\n",
      "Additionally, legal actions or regulations may also play a role in content removal timelines. In cases where deletion within 90 days is not technically feasible, Instagram will retain the content for as long as necessary, but the exact duration may vary, based on the specific context and legal or regulatory requirements.\n",
      "\n",
      "To summarize, while someone else's use of your content under your granted license may temporarily delay the deletion process, there are conditions and exceptions where deletion could still proceed if required for maintaining legal compliance, guaranteeing safety and security, or as per judicial directives. You may need to follow their guidelines or legal avenues to ensure the content is removed to your satisfaction.\n",
      "\n",
      "-----------------------------------\n",
      "\n"
     ]
    },
    {
     "data": {
      "application/vnd.jupyter.widget-view+json": {
       "model_id": "19c7c0ba6cef4a4893934ffbabb1a467",
       "version_major": 2,
       "version_minor": 0
      },
      "text/plain": [
       "Batches:   0%|          | 0/1 [00:00<?, ?it/s]"
      ]
     },
     "metadata": {},
     "output_type": "display_data"
    },
    {
     "name": "stdout",
     "output_type": "stream",
     "text": [
      "Question: Is eBay entitled to decide which party pays the costs of arbitration?\n",
      "Answer from pipeline:\n",
      "Yes, according to the context provided, eBay has the entitlement to decide which party will bear the costs of arbitration. Under Section D titled \"Arbitration Fees,\" it states, \"If You are unable to afford the arbitration costs, Zoom will advance those costs to You, subject to the arbitrators determination if costs should be reimbursed to Zoom if Zoom prevails.\" This implies that eBay may advance arbitration costs to the opposing party, but it might be reimbursed by the same party if eBay wins the arbitration case. \n",
      "\n",
      "Additionally, the section on Dispute Procedure under Section F mentions that if a party is unable to afford the arbitration costs, the other party may absorb those costs. However, it should be noted that the arbitrator may decide whether the costs should be reimbursed to eBay, depending on who prevails in the arbitration. Thus, while eBay may contribute initially to arbitration costs, the ultimate responsibilities of cost reimbursement are subject to the decision of the arbitrator and are not fixed to eBay.\n",
      "\n",
      "Moreover, under the Severability clause (Section G), if any provision of the arbitration agreement is found to be illegal or unenforceable, those provisions will be severed and the remaining portions of the clause will still apply and be interpreted to as nearly as possible achieve the original intent, further indicating that eBay's managerial decisions during arbitration processes are subject to the rule of law.\n",
      "\n",
      "In summary, while eBay may fund the arbitration fees, they could be reimbursed depending on how the arbitration resolves, and some provisions can be changed to achieve fairness if found unenforceable, based on these contexts. It's always advised to seek legal counsel for clarification coinciding with the specifics of a real-life situation.\n",
      "\n",
      "-----------------------------------\n",
      "\n"
     ]
    },
    {
     "data": {
      "application/vnd.jupyter.widget-view+json": {
       "model_id": "58a36c35758a4381a3589fc4b975a9c8",
       "version_major": 2,
       "version_minor": 0
      },
      "text/plain": [
       "Batches:   0%|          | 0/1 [00:00<?, ?it/s]"
      ]
     },
     "metadata": {},
     "output_type": "display_data"
    },
    {
     "name": "stdout",
     "output_type": "stream",
     "text": [
      "Question: Is it sufficient for me to disclose in the edit summary the compensation I received for the edits I made?\n",
      "Answer from pipeline:\n",
      "No, it is not sufficient to disclose compensation in the edit summary for edits made. The context provided does not specifically mention that you must disclose compensation for edits. Instead, the context discusses various aspects of Apple's Terms of Use, disclosure of information, enforcement and violation consequences, liability limitations, dispute resolutions, and the conditions under which the services may be used, among others. These sections do not dictate any requirements for participants to disclose compensation received for edits or contributions. Any such requirement would likely be outlined explicitly in the terms of that specific context. Always refer to the specific terms and conditions in each scenario.\n",
      "\n",
      "-----------------------------------\n",
      "\n"
     ]
    },
    {
     "data": {
      "application/vnd.jupyter.widget-view+json": {
       "model_id": "4fada387a78c487c8ab8742857ca65f6",
       "version_major": 2,
       "version_minor": 0
      },
      "text/plain": [
       "Batches:   0%|          | 0/1 [00:00<?, ?it/s]"
      ]
     },
     "metadata": {},
     "output_type": "display_data"
    },
    {
     "name": "stdout",
     "output_type": "stream",
     "text": [
      "Question: Does Verizon need to tell me if it makes changes to the services?\n",
      "Answer from pipeline:\n",
      "Yes, Verizon must inform you if changes are made to the services. According to the provided context, Verizon will let you know when they update the Services. Using the Services after these changes take effect means you agree to the new terms, although if you don't agree to the updates, you must cease using the Services and close your account, especially if you're a parent or guardian overseeing a minor child's account.\n",
      "\n",
      "-----------------------------------\n",
      "\n"
     ]
    },
    {
     "data": {
      "application/vnd.jupyter.widget-view+json": {
       "model_id": "42c5f7a6c2194d78aa340aa0ef8d0fb9",
       "version_major": 2,
       "version_minor": 0
      },
      "text/plain": [
       "Batches:   0%|          | 0/1 [00:00<?, ?it/s]"
      ]
     },
     "metadata": {},
     "output_type": "display_data"
    },
    {
     "name": "stdout",
     "output_type": "stream",
     "text": [
      "Question: Does Shopify agree to ensure the encryption of all data provided to it?\n",
      "Answer from pipeline:\n",
      "No, according to the context provided, while credit card information is always encrypted during transfer over networks, it is stated that \"Your Materials (not including credit card information), may be transferred unencrypted and involve transmissions over various networks.\" This implies that not all data provided to Shopify is guaranteed to be encrypted.\n",
      "\n",
      "-----------------------------------\n",
      "\n"
     ]
    },
    {
     "data": {
      "application/vnd.jupyter.widget-view+json": {
       "model_id": "99cdc51e6fbb47cc860bddaf4edff8c1",
       "version_major": 2,
       "version_minor": 0
      },
      "text/plain": [
       "Batches:   0%|          | 0/1 [00:00<?, ?it/s]"
      ]
     },
     "metadata": {},
     "output_type": "display_data"
    },
    {
     "name": "stdout",
     "output_type": "stream",
     "text": [
      "Question: Are there some Disney products that I cant access anonymously?\n",
      "Answer from pipeline:\n",
      "Yes, based on Section E of the provided context, some Disney products may require you to create an account, which includes providing your contact information, username, and password. By creating an account, Disney has the ability to verify your identity and maintain the confidentiality of the information you provide. This means that you cannot access these Disney products anonymously as they require account registration and information sharing to participate or secure additional benefits.\n",
      "\n",
      "-----------------------------------\n",
      "\n"
     ]
    },
    {
     "data": {
      "application/vnd.jupyter.widget-view+json": {
       "model_id": "f3d86377df254a31a47636ef1f69a053",
       "version_major": 2,
       "version_minor": 0
      },
      "text/plain": [
       "Batches:   0%|          | 0/1 [00:00<?, ?it/s]"
      ]
     },
     "metadata": {},
     "output_type": "display_data"
    },
    {
     "name": "stdout",
     "output_type": "stream",
     "text": [
      "Question: Can Twitch continue using my content for advertising and marketing after Ive deleted that content?\n",
      "Answer from pipeline:\n",
      "No, Twitch cannot continue using your content for advertising and marketing after you delete your content. According to the context provided, the rights granted by you to Twitch and its sub-licensees for User Content terminate once you delete such content from the Twitch Services or generally by closing your account. There are exceptions noted, such as if Twitch used the content for promotional purposes or if others copied or stored portions of the User Content (e.g., made a Clip). However, in your case, the deletion of the content would generally result in the termination of Twitch's rights to use it for advertising and marketing.\n",
      "\n",
      "-----------------------------------\n",
      "\n"
     ]
    },
    {
     "data": {
      "application/vnd.jupyter.widget-view+json": {
       "model_id": "2da4c5bbf5844b148114b0b8a0c003c9",
       "version_major": 2,
       "version_minor": 0
      },
      "text/plain": [
       "Batches:   0%|          | 0/1 [00:00<?, ?it/s]"
      ]
     },
     "metadata": {},
     "output_type": "display_data"
    },
    {
     "name": "stdout",
     "output_type": "stream",
     "text": [
      "Question: Does Facebook take responsibility for racist content posted on Facebook?\n",
      "Answer from pipeline:\n",
      "Facebook does not take responsibility for individual content posted on its platform. According to the provided context, users are expressly advised not to use language that abuses or discriminates on the basis of race, gender, sexual preference, age, region, disability, etc., as hate speech is grounds for immediate and permanent suspension of access to all or part of the service. Additionally, users are instructed to engage in debates without resorting to personal attacks.\n",
      "\n",
      "Furthermore, Facebook's Terms of Use state that the company is not responsible for the content users post. Any submitted content by a user, in their view, represents that they have all the necessary legal rights to upload, post, or submit such content and it will not violate any law or the rights of any person. Therefore, while Facebook does have measures in place against hate speech and abuse, it provides explicit disclaimers that it does not endorse or hold responsibility for the content shared on its platform.\n",
      "\n",
      "In addition, it should also be noted that in certain circumstances, regulations or laws may influence platform policies, impacting responsivity. Hence, while Facebook does not explicitly take responsibility for the content posted by users, it does establish guidelines regarding acceptable behavior and secures the provision of content removal under specific legal conditions. \n",
      "\n",
      "Finally, Facebook, being a global platform, might vary in its content policy or enforcement to comply with local laws and regulations, so users are encouraged to familiarize themselves with the specifics of their local rules. However, the general scope of their responsibility, as based on the given text, is limited. In case of legal violations, content removal and account suspension as stated in the text are practiced to ensure compliance with local and federal laws.\n",
      "\n",
      "-----------------------------------\n",
      "\n"
     ]
    },
    {
     "data": {
      "application/vnd.jupyter.widget-view+json": {
       "model_id": "781a06e4e0654c18a6a6519fb9d07193",
       "version_major": 2,
       "version_minor": 0
      },
      "text/plain": [
       "Batches:   0%|          | 0/1 [00:00<?, ?it/s]"
      ]
     },
     "metadata": {},
     "output_type": "display_data"
    },
    {
     "name": "stdout",
     "output_type": "stream",
     "text": [
      "Question: Are there circumstances in which a security breach of a users Microsoft account could give rise to a claim by Microsoft against such user?\n",
      "Answer from pipeline:\n",
      "Yes, according to the context provided, Microsoft may hold the user liable for any losses incurred by Microsoft or another party due to someone else using the user's account or password. This suggests that in cases of unauthorized use of a Microsoft account, Microsoft could potentially take legal action against the user whose account was compromised, leading to a claim. Additionally, the user is responsible for maintaining the confidentiality of their account and password, and any unauthorized use could constitute an unlawful and unfair business practice. Therefore, if Microsoft suffers damages because of such a security breach, it might seek appropriate legal remedies, which could include making a claim against the user. However, the user is not liable for any loss that Microsoft may incur due to unauthorized use of the account by a third party, whether with or without the user's knowledge.\n",
      "\n",
      "-----------------------------------\n",
      "\n"
     ]
    },
    {
     "data": {
      "application/vnd.jupyter.widget-view+json": {
       "model_id": "6090c81ba8a64f38a2b69a5ddf5d45d9",
       "version_major": 2,
       "version_minor": 0
      },
      "text/plain": [
       "Batches:   0%|          | 0/1 [00:00<?, ?it/s]"
      ]
     },
     "metadata": {},
     "output_type": "display_data"
    },
    {
     "name": "stdout",
     "output_type": "stream",
     "text": [
      "Question: Does NYT require parental consent in respect of persons aged 17 who wish to access NYT services?\n",
      "Answer from pipeline:\n",
      "No, NYT requires parental consent for individuals under the age of 18 to access NYT services. Specifically, it states that anyone under 18 years old must ask their parent or legal guardian to review and agree to the Terms of Service before using any part of the services, or have their parent or guardian complete the purchase and/or registration on their behalf. Therefore, for persons aged 17, parental consent would indeed be required according to these terms.\n",
      "\n",
      "-----------------------------------\n",
      "\n"
     ]
    },
    {
     "data": {
      "application/vnd.jupyter.widget-view+json": {
       "model_id": "8241505cb93e4c64a18c85848c40aa81",
       "version_major": 2,
       "version_minor": 0
      },
      "text/plain": [
       "Batches:   0%|          | 0/1 [00:00<?, ?it/s]"
      ]
     },
     "metadata": {},
     "output_type": "display_data"
    },
    {
     "name": "stdout",
     "output_type": "stream",
     "text": [
      "Question: Does Instagram become the owner of content that I post on Instagram?\n",
      "Answer from pipeline:\n",
      "No, Instagram does not claim ownership of your content. However, when you share, post, or upload content on Instagram, you grant Instagram a non-exclusive, royalty-free, transferable, sub-licensable, worldwide license to host, use, distribute, modify, run, copy, publicly perform or display, translate, and create derivative works of your content. This license expires when your content is deleted from Instagram's systems. You retain the rights to share your content with anyone else outside of Instagram.\n",
      "\n",
      "-----------------------------------\n",
      "\n"
     ]
    }
   ],
   "source": [
    "questions = all_questions[:20]\n",
    "ground_truths = all_ground_truths[:20]\n",
    "\n",
    "rag_answers = []\n",
    "retrieved_docs = []\n",
    "\n",
    "for question in questions:\n",
    "    response = rag_pipeline.run(\n",
    "        {\n",
    "            \"query_embedder\": {\"text\": question},\n",
    "            \"prompt_builder\": {\"question\": question},\n",
    "            \"answer_builder\": {\"query\": question},\n",
    "        }\n",
    "    )\n",
    "    print(f\"Question: {question}\")\n",
    "    print(\"Answer from pipeline:\")\n",
    "    print(response[\"answer_builder\"][\"answers\"][0].data)\n",
    "    print(\"\\n-----------------------------------\\n\")\n",
    "\n",
    "    rag_answers.append(response[\"answer_builder\"][\"answers\"][0].data)\n",
    "    retrieved_docs.append(response[\"answer_builder\"][\"answers\"][0].documents)"
   ]
  },
  {
   "cell_type": "markdown",
   "metadata": {},
   "source": [
    "We now convert the retrieved documents into a single string so `FlowJudge` can format the prompt properly under the hood."
   ]
  },
  {
   "cell_type": "code",
   "execution_count": 10,
   "metadata": {},
   "outputs": [],
   "source": [
    "# Concatenate the retrieved documents into a single string\n",
    "str_retrieved_docs = []\n",
    "for docs in retrieved_docs:\n",
    "    str_retrieved_doc = \"\"\n",
    "    for i, doc in enumerate(docs, 1):\n",
    "        str_retrieved_doc += doc.content\n",
    "        str_retrieved_doc += \"\\n\"\n",
    "    str_retrieved_docs.append(str_retrieved_doc)"
   ]
  },
  {
   "cell_type": "code",
   "execution_count": 11,
   "metadata": {},
   "outputs": [
    {
     "data": {
      "text/markdown": [
       "**Retrieved documents:** The Site contains copyrighted material, trademarks and other proprietary information, including, but not limited to, text, software, photos, video, graphics, music and sound, and the entire contents of the Site are copyrighted as a collective work under the United States copyright laws. CNN owns copyright in the selection, coordination, arrangement and enhancement of such content, as well as in the content original to it. You may not modify, publish, transmit, participate in the transfer or sale, create derivative works, or in any way exploit, any of the content, in whole or in part. You may download copyrighted material for your personal use only. Except as otherwise expressly permitted under copyright law, no copying, redistribution, retransmission, publication or commercial exploitation of downloaded material will be permitted without the express permission of CNN and the copyright owner. In the event of any permitted copying, redistribution or publication of copyrighted material, no changes in or deletion of author attribution, trademark legend or copyright notice shall be made. You acknowledge that you do not acquire any ownership rights by downloading copyrighted material.\n",
       "The following terms apply to content submitted by users, and user conduct, on the Site's Interactive Areas, including CNN iReport:\n",
       "\n",
       "(A) Interactive Areas. The Site may contain comments sections, discussion forums, or other interactive features, including CNN iReport, CNN's user-generated news community (\"Interactive Areas\") in which you may post or upload user-generated content, including but not limited to iReports, comments, video, photos, messages, other materials or items (collectively, \"User Content\"). You are solely responsible for your use of any Interactive Areas and you use them at your own risk. Interactive Areas are available for individuals aged 13 years or older. By submitting User Content to an Interactive Area, you represent that you are 13 years of age or older and, if you are under the age of 18, you either are an emancipated minor, or have obtained the legal consent of your parent or legal guardian to enter into these Terms of Use, submit content, participate on the Site, and fulfill the obligations set forth in these Terms of Use, which forms a binding contract between you and CNN. Employees of Cable News Network, Inc. may not submit User Content without permission from their supervisors.\n",
       "\n",
       "(B) Community Guidelines. By submitting any User Content or participating in an Interactive Area within or in connection with the Site, you agree to abide by the following rules of conduct:\n",
       "You agree not to upload, post or otherwise transmit any User Content that:\n",
       "violates or infringes in any way upon the rights of others, including any statements which may defame, harass, stalk or threaten others.\n",
       "you know to be false, misleading or inaccurate.\n",
       "contains blatant expressions of bigotry, racism, racially or ethnically offensive content, hate speech, abusiveness, vulgarity or profanity.\n",
       "contains or advocates pornography or sexually explicit content, pedophilia, incest, bestiality, or that is otherwise obscene or lewd.\n",
       "violates any law or advocates or provides instruction on dangerous, illegal, or predatory acts, or discusses illegal activities with the intent to commit them.\n",
       "advocates violent behavior.\n",
       "poses a reasonable threat to personal or public safety.\n",
       "contains violent images of killing or physical abuse that appear to have been captured solely, or principally, for exploitive, prurient, or gratuitous purposes.\n",
       "is protected by copyright, trademark, trade secret, right of publicity or other proprietary right without the express permission of the owner of such copyright, trademark, trade secret, right of publicity or other proprietary right. The burden of determining that any User Content is not protected by copyright, trademark, trade secret, right of publicity or other proprietary right rests with you. You shall be solely liable for any damage resulting from any infringement of copyrights, trademarks, trade secrets, rights of publicity or other proprietary rights or any other harm resulting from such a submission. Any person determined by CNN, in its sole discretion, to have violated the intellectual property or other rights of others shall be barred from submitting or posting any further material on the Site.\n",
       "does not generally pertain to the designated topic or theme of any Interactive Area.\n",
       "contains any unsolicited or unauthorized advertising or promotional materials with respect to products or services, \"junk mail,\" \"spam,\" \"chain letters,\" \"pyramid schemes,\" or any other form of solicitation.\n",
       "You agree not to engage in activity that would constitute a criminal offense or give rise to a civil liability.\n",
       "You agree that if necessary, you have the consent of each and every identifiable natural person in any submission to use such persons name or likeness in the manner contemplated by the Site.\n",
       "You agree that any person who appears in your submission who is a current member of the Screen Actors Guild (SAG), the American Federation of Television and Radio Actors (AFTRA) or any other rights society is not entitled to compensation by CNN.\n",
       "You agree not to impersonate any person or entity, including, but not limited to, CNN or any CNN employee, or falsely state or otherwise misrepresent your affiliation with any person or entity.\n",
       "You agree not to represent or suggest, directly or indirectly, CNN's endorsement of User Content.\n",
       "You agree not to interfere with any other user's right to privacy, including by harvesting or collecting personally-identifiable information about the Site users or posting private information about a third party.\n",
       "You agree not to upload, post or otherwise transmit any User Content, software or other materials which contain a virus or other harmful or disruptive component.\n",
       "You agree not to interfere with or disrupt the Site or the servers or networks connected to the Site, or disobey any requirements, procedures, policies or regulations of networks connected to the Site.\n",
       "You agree not to reproduce, duplicate, copy, sell, resell or exploit for any commercial purpose, any portion of the Site, use the Site, or access to the Site.\n",
       "You agree not to use any service, technology or automated system to artificially inflate the page views that your User Content receives. This includes pay-per-click services, web \"robots\" and any other current or future technologies. You also agree not to direct any third party to use these services, technologies or automated systems on your behalf.\n",
       "You agree not to use any technology, service or automated system to post more User Content than an individual could upload in a given period of time. You also agree not to direct any third party to use these services, technologies or automated systems on your behalf.\n",
       "Any conduct that in CNN's sole discretion restricts or inhibits anyone else from using or enjoying the Site will not be permitted. CNN reserves the right in its sole discretion to remove or edit User Content by you and to terminate Your Account for any reason.\n",
       "CNN does not vouch for the accuracy or credibility of any User Content, and does not take any responsibility or assume any liability for any actions you may take as a result of reading User Content posted on the Site. Through your use of Interactive Areas, you may be exposed to content that you may find offensive, objectionable, harmful, inaccurate or deceptive. There may also be risks of dealing with underage persons, people acting under false pretense, international trade issues and foreign nationals. By using Interactive Areas, you assume all associated risks.\n",
       "7. Indemnification.\n",
       "You agree to defend, indemnify and hold harmless CNN, its affiliates and their respective directors, officers, employees and agents from and against all claims and expenses, including attorneys' fees, arising out of the use of the Site by you or your Account. CNN reserves the right to take over the exclusive defense of any claim for which we are entitled to indemnification under this Section. In such event, you shall provide CNN with such cooperation as is reasonably requested by CNN.\n",
       "8. Termination.\n",
       "CNN may terminate or suspend these Terms of Use at any time without notice to you. Without limiting the foregoing, CNN shall have the right to immediately terminate Your Account in the event of any conduct by you which CNN, in its sole discretion, considers to be unacceptable, or in the event of any breach by you of these Terms of Use. The provisions of Sections 1 - 13 shall survive termination of these Terms of Use.\n",
       "9. Trademarks.\n",
       "CNN, its parent, subsidiaries and affiliates, own all rights to their logos and trademarks used in connection with the Site. All other logos and trademarks appearing on the Site are the property of their respective owners.\n"
      ],
      "text/plain": [
       "<IPython.core.display.Markdown object>"
      ]
     },
     "metadata": {},
     "output_type": "display_data"
    }
   ],
   "source": [
    "display(Markdown(f\"**Retrieved documents:** {str_retrieved_docs[0]}\"))"
   ]
  },
  {
   "cell_type": "markdown",
   "metadata": {},
   "source": [
    "### Evaluators in Haystack\n",
    "\n",
    "__Evaluators__ in Haystack are versatile components that can operate independently or as integral parts of a pipeline.\n",
    "\n",
    "We'll construct an evaluation pipeline to efficiently obtain scores from all evaluators in a single pass. Additionally, Haystack provides functionality to generate a comprehensive evaluation report."
   ]
  },
  {
   "cell_type": "markdown",
   "metadata": {},
   "source": [
    "#### Creating FlowJudge evaluators using the HaystackFlowJudge class\n",
    "\n",
    "We can use our integration with Haystack to create FlowJudge evaluators in a flexible way. The process is as follows:\n",
    "1. Create a `CustomMetric` that will be used to compute the score for the evaluator.\n",
    "2. Initialize the model - We are using the transformers configuration for Flow-Judge-v0.1.\n",
    "3. Instantiate the `HaystackFlowJudge` evaluator."
   ]
  },
  {
   "cell_type": "markdown",
   "metadata": {},
   "source": [
    "> **Important Note on Model Selection:**\n",
    "> \n",
    "> There's a known issue with Phi-3 models producing gibberish outputs for contexts exceeding 4096 tokens (including input and output). While this has been addressed in recent transformers library updates, still remains an issue in the vLLM engine. We recommend the following:\n",
    "> \n",
    "> - For longer contexts: Use the `Flow-Judge-v0.1_HF` model configuration.\n",
    "> - **Caveat:** Inference with transformers is significantly slower than with optimized runtimes.\n",
    "> \n",
    "> This approach ensures reliable outputs for extensive contexts, albeit with a trade-off in processing speed."
   ]
  },
  {
   "cell_type": "code",
   "execution_count": 12,
   "metadata": {},
   "outputs": [
    {
     "name": "stderr",
     "output_type": "stream",
     "text": [
      "INFO:flow_judge.models.huggingface:Downloading the model from Hugging Face Hub using hf-transfer for faster downloads...\n"
     ]
    },
    {
     "data": {
      "application/vnd.jupyter.widget-view+json": {
       "model_id": "3d6da710d5b344f7a11bb890aac2b733",
       "version_major": 2,
       "version_minor": 0
      },
      "text/plain": [
       "Fetching 12 files:   0%|          | 0/12 [00:00<?, ?it/s]"
      ]
     },
     "metadata": {},
     "output_type": "display_data"
    },
    {
     "name": "stderr",
     "output_type": "stream",
     "text": [
      "INFO:accelerate.utils.modeling:We will use 90% of the memory on device 0 for storing the model, and 10% for the buffer to avoid OOM. You can set `max_memory` in to a higher value to use more memory (at your own risk).\n"
     ]
    },
    {
     "data": {
      "application/vnd.jupyter.widget-view+json": {
       "model_id": "986a6f4bc73e4105a46035e4c8ca20cf",
       "version_major": 2,
       "version_minor": 0
      },
      "text/plain": [
       "Loading checkpoint shards:   0%|          | 0/2 [00:00<?, ?it/s]"
      ]
     },
     "metadata": {},
     "output_type": "display_data"
    }
   ],
   "source": [
    "from flow_judge.integrations.haystack import HaystackFlowJudge\n",
    "from flow_judge.metrics.metric import CustomMetric, RubricItem\n",
    "from flow_judge.metrics.presets import RESPONSE_FAITHFULNESS_5POINT\n",
    "\n",
    "from flow_judge.models import Vllm #, Llamafile, Hf\n",
    "\n",
    "# If you are running on an Ampere GPU or newer, create a model using VLLM\n",
    "model = Vllm()\n",
    "\n",
    "# If you are low on VRAM, you can use quantized AWQ of the VLLM model\n",
    "# model = Vllm(quantized=True)\n",
    "\n",
    "# Or if not running on Ampere GPU or newer, create a model using no flash attn and Hugging Face Transformers\n",
    "# model = Hf(flash_attn=False)\n",
    "\n",
    "# Or create a model using Llamafile if not running an Nvidia GPU & running a Silicon MacOS for example\n",
    "# model = Llamafile()"
   ]
  },
  {
   "cell_type": "markdown",
   "metadata": {},
   "source": [
    "We create the context relevancy metric from scratch. For learning more about how to create custom metrics, refer to the [custom metrics tutorial](https://github.com/flowaicom/flow-judge/blob/main/examples/2_custom_evaluation_criteria.ipynb)."
   ]
  },
  {
   "cell_type": "code",
   "execution_count": 13,
   "metadata": {},
   "outputs": [],
   "source": [
    "# Context relevancy\n",
    "cr_criteria = \"Based on the provided query and context, how relevant and sufficient is the context for responding to the query?\"\n",
    "cr_rubric = [\n",
    "    RubricItem(\n",
    "        score=1,\n",
    "        description=\"The context provided is not relevant or insufficient to respond to the query.\"\n",
    "    ),\n",
    "    RubricItem(\n",
    "        score=2,\n",
    "        description=\"The context is mostly irrelevant to the query. It may contain some tangentially related information but is insufficient for adequately responding to the query.\"\n",
    "    ),\n",
    "    RubricItem(\n",
    "        score=3,\n",
    "        description=\"The context is somewhat relevant to the query. It contains some information that could be used to partially respond to the query, but key details are missing for a complete response.\"\n",
    "    ),\n",
    "    RubricItem(\n",
    "        score=4,\n",
    "        description=\"The context is mostly relevant to the query. It contains most of the necessary information to respond to the query, but may be missing some minor details.\"\n",
    "    ),\n",
    "    RubricItem(\n",
    "        score=5,\n",
    "        description=\"The context is highly relevant to the query. It contains all the necessary information to comprehensively respond to the query without needing any additional context.\"\n",
    "    )\n",
    "]\n",
    "cr_metric = CustomMetric(\n",
    "    name=\"Context Relevancy\",\n",
    "    criteria=cr_criteria,\n",
    "    rubric=cr_rubric,\n",
    "    required_inputs=[\"question\"],\n",
    "    required_output=\"contexts\"\n",
    ")"
   ]
  },
  {
   "cell_type": "markdown",
   "metadata": {},
   "source": [
    "For creating the faithfulness evaluator, we are going to use the `RESPONSE_FAITHFULNESS_5POINT` preset in flow-judge library as a template.\n",
    "\n",
    "> Note that we need to use the expected keys so we need to update required inputs and outputs to match the expected keys in the RAG pipeline. In this case, the score descriptions are still relevant with these changes."
   ]
  },
  {
   "cell_type": "code",
   "execution_count": 14,
   "metadata": {},
   "outputs": [
    {
     "data": {
      "text/markdown": [
       "**Criteria:** Based on the given context, evaluate how consistent and faithful the generated response is to the context. The response should not contain any hallucinated or fabricated information that is not supported by the context."
      ],
      "text/plain": [
       "<IPython.core.display.Markdown object>"
      ]
     },
     "metadata": {},
     "output_type": "display_data"
    },
    {
     "data": {
      "text/markdown": [
       "**Rubric:**"
      ],
      "text/plain": [
       "<IPython.core.display.Markdown object>"
      ]
     },
     "metadata": {},
     "output_type": "display_data"
    },
    {
     "data": {
      "text/markdown": [
       "- **Score 1:** The response is completely inconsistent with the provided context. It contains significant amount of hallucinated or fabricated information that directly contradicts or is not supported at all by the context."
      ],
      "text/plain": [
       "<IPython.core.display.Markdown object>"
      ]
     },
     "metadata": {},
     "output_type": "display_data"
    },
    {
     "data": {
      "text/markdown": [
       "- **Score 2:** The response is mostly inconsistent with the provided context. While it may contain some information from the context, it introduces a substantial amount of hallucinated or fabricated details that deviate from the context."
      ],
      "text/plain": [
       "<IPython.core.display.Markdown object>"
      ]
     },
     "metadata": {},
     "output_type": "display_data"
    },
    {
     "data": {
      "text/markdown": [
       "- **Score 3:** The response is somewhat consistent with the provided context. It includes a mix of information from the context and some hallucinated or fabricated details. The fabrications are minor and do not significantly contradict the context."
      ],
      "text/plain": [
       "<IPython.core.display.Markdown object>"
      ]
     },
     "metadata": {},
     "output_type": "display_data"
    },
    {
     "data": {
      "text/markdown": [
       "- **Score 4:** The response is mostly consistent with the provided context. The vast majority of the content is supported by the context, with only minor and inconsequential inconsistencies or fabrications, if any."
      ],
      "text/plain": [
       "<IPython.core.display.Markdown object>"
      ]
     },
     "metadata": {},
     "output_type": "display_data"
    },
    {
     "data": {
      "text/markdown": [
       "- **Score 5:** The response is completely consistent with and faithful to the provided context. All details in the response are directly supported by the context, without any hallucinated or fabricated information."
      ],
      "text/plain": [
       "<IPython.core.display.Markdown object>"
      ]
     },
     "metadata": {},
     "output_type": "display_data"
    }
   ],
   "source": [
    "ff_criteria = RESPONSE_FAITHFULNESS_5POINT.criteria\n",
    "ff_rubric = RESPONSE_FAITHFULNESS_5POINT.rubric\n",
    "\n",
    "display(Markdown(f\"**Criteria:** {ff_criteria}\"))\n",
    "display(Markdown(\"**Rubric:**\"))\n",
    "\n",
    "for item in ff_rubric:\n",
    "    display(Markdown(f\"- **Score {item.score}:** {item.description}\"))\n",
    "\n",
    "ff_metric = CustomMetric(\n",
    "    name=\"Faithfulness\",\n",
    "    criteria=ff_criteria,\n",
    "    rubric=ff_rubric,\n",
    "    required_inputs=[\"question\", \"contexts\"],\n",
    "    required_output=\"predicted_answers\"\n",
    ")"
   ]
  },
  {
   "cell_type": "markdown",
   "metadata": {},
   "source": [
    "We can now create the Flow Judge evaluators:"
   ]
  },
  {
   "cell_type": "code",
   "execution_count": 15,
   "metadata": {},
   "outputs": [],
   "source": [
    "cr_evaluator = HaystackFlowJudge(\n",
    "    metric=cr_metric,\n",
    "    model=model, # the vLLM instance of Flow-Judge-v0.1\n",
    "    progress_bar=True,\n",
    "    raise_on_failure=True, # to raise an error when pipeline run fails\n",
    "    save_results=True, # to save evaluation results to disk\n",
    "    fail_on_parse_error=False # to fail if there is a parsing error, otherwise return \"Error\" and score -1\n",
    ")\n",
    "\n",
    "ff_evaluator = HaystackFlowJudge(\n",
    "    metric=ff_metric,\n",
    "    model=model,\n",
    "    progress_bar=True,\n",
    "    raise_on_failure=True,\n",
    "    save_results=True,\n",
    "    fail_on_parse_error=False\n",
    ")"
   ]
  },
  {
   "cell_type": "markdown",
   "metadata": {},
   "source": [
    "#### Haystack evaluators\n",
    "\n",
    "Now let's crete the semantic answer similarity evaluator using the Haystack implementation. This evaluator will use the same embedding model as the retriever in the RAG pipeline."
   ]
  },
  {
   "cell_type": "code",
   "execution_count": 16,
   "metadata": {},
   "outputs": [],
   "source": [
    "from haystack.components.evaluators.sas_evaluator import SASEvaluator\n",
    "\n",
    "sas_evaluator = SASEvaluator(model=\"sentence-transformers/all-MiniLM-L6-v2\")"
   ]
  },
  {
   "cell_type": "markdown",
   "metadata": {},
   "source": [
    "### Evaluation pipeline\n",
    "\n",
    "We can now create a Haystack evaluation pipeline that will evaluate the RAG pipeline and obtains the evaluation results."
   ]
  },
  {
   "cell_type": "code",
   "execution_count": 17,
   "metadata": {},
   "outputs": [],
   "source": [
    "eval_pipeline = Pipeline()\n",
    "\n",
    "# add components to the pipeline\n",
    "eval_pipeline.add_component(\"sas_evaluator\", sas_evaluator)\n",
    "eval_pipeline.add_component(\"cr_evaluator\", cr_evaluator)\n",
    "eval_pipeline.add_component(\"ff_evaluator\", ff_evaluator)"
   ]
  },
  {
   "cell_type": "markdown",
   "metadata": {},
   "source": [
    ">Note that executing the following cell might take a while to complete due to the size of the inputs, specially if running on a machine with low resources."
   ]
  },
  {
   "cell_type": "code",
   "execution_count": 18,
   "metadata": {},
   "outputs": [
    {
     "name": "stderr",
     "output_type": "stream",
     "text": [
      "INFO:haystack.core.pipeline.base:Warming up component sas_evaluator...\n",
      "/home/bernardo/repos/flow-judge/.test_env/lib/python3.10/site-packages/transformers/models/auto/configuration_auto.py:991: FutureWarning: The `use_auth_token` argument is deprecated and will be removed in v5 of Transformers. Please use `token` instead.\n",
      "  warnings.warn(\n",
      "/home/bernardo/repos/flow-judge/.test_env/lib/python3.10/site-packages/sentence_transformers/SentenceTransformer.py:181: FutureWarning: The `use_auth_token` argument is deprecated and will be removed in v4 of SentenceTransformers.\n",
      "  warnings.warn(\n",
      "INFO:sentence_transformers.SentenceTransformer:Load pretrained SentenceTransformer: sentence-transformers/all-MiniLM-L6-v2\n",
      "/home/bernardo/repos/flow-judge/.test_env/lib/python3.10/site-packages/transformers/tokenization_utils_base.py:1617: FutureWarning: `clean_up_tokenization_spaces` was not set. It will be set to `True` by default. This behavior will be deprecated in transformers v4.45, and will be then set to `False` by default. For more details check this issue: https://github.com/huggingface/transformers/issues/31884\n",
      "  warnings.warn(\n",
      "INFO:haystack.core.pipeline.pipeline:Running component sas_evaluator\n"
     ]
    },
    {
     "data": {
      "application/vnd.jupyter.widget-view+json": {
       "model_id": "4152653d6d3040c3a507510aadd52dcc",
       "version_major": 2,
       "version_minor": 0
      },
      "text/plain": [
       "Batches:   0%|          | 0/1 [00:00<?, ?it/s]"
      ]
     },
     "metadata": {},
     "output_type": "display_data"
    },
    {
     "data": {
      "application/vnd.jupyter.widget-view+json": {
       "model_id": "d0a50401e1394b749628add51ba670ed",
       "version_major": 2,
       "version_minor": 0
      },
      "text/plain": [
       "Batches:   0%|          | 0/1 [00:00<?, ?it/s]"
      ]
     },
     "metadata": {},
     "output_type": "display_data"
    },
    {
     "name": "stderr",
     "output_type": "stream",
     "text": [
      "INFO:haystack.core.pipeline.pipeline:Running component cr_evaluator\n",
      "Starting from v4.46, the `logits` model output will have the same type as the model (except at train time, where it will always be FP32)\n",
      "We detected that you are passing `past_key_values` as a tuple of tuples. This is deprecated and will be removed in v4.47. Please convert your cache or use an appropriate `Cache` class (https://huggingface.co/docs/transformers/kv_cache#legacy-cache-format)\n",
      "INFO:flow_judge.models.huggingface:Automatically determined batch size: 2\n",
      "Processing batches:   0%|          | 0/10 [00:00<?, ?it/s]Both `max_new_tokens` (=1000) and `max_length`(=8192) seem to have been set. `max_new_tokens` will take precedence. Please refer to the documentation for more information. (https://huggingface.co/docs/transformers/main/en/main_classes/text_generation)\n",
      "Processing batches:  10%|█         | 1/10 [00:17<02:35, 17.26s/it]Both `max_new_tokens` (=1000) and `max_length`(=8192) seem to have been set. `max_new_tokens` will take precedence. Please refer to the documentation for more information. (https://huggingface.co/docs/transformers/main/en/main_classes/text_generation)\n",
      "Processing batches:  20%|██        | 2/10 [00:37<02:30, 18.87s/it]Both `max_new_tokens` (=1000) and `max_length`(=8192) seem to have been set. `max_new_tokens` will take precedence. Please refer to the documentation for more information. (https://huggingface.co/docs/transformers/main/en/main_classes/text_generation)\n",
      "Processing batches:  30%|███       | 3/10 [00:53<02:04, 17.74s/it]Both `max_new_tokens` (=1000) and `max_length`(=8192) seem to have been set. `max_new_tokens` will take precedence. Please refer to the documentation for more information. (https://huggingface.co/docs/transformers/main/en/main_classes/text_generation)\n",
      "Processing batches:  40%|████      | 4/10 [01:09<01:41, 16.93s/it]Both `max_new_tokens` (=1000) and `max_length`(=8192) seem to have been set. `max_new_tokens` will take precedence. Please refer to the documentation for more information. (https://huggingface.co/docs/transformers/main/en/main_classes/text_generation)\n",
      "Processing batches:  50%|█████     | 5/10 [01:26<01:24, 16.98s/it]Both `max_new_tokens` (=1000) and `max_length`(=8192) seem to have been set. `max_new_tokens` will take precedence. Please refer to the documentation for more information. (https://huggingface.co/docs/transformers/main/en/main_classes/text_generation)\n",
      "Processing batches:  60%|██████    | 6/10 [01:52<01:20, 20.06s/it]Both `max_new_tokens` (=1000) and `max_length`(=8192) seem to have been set. `max_new_tokens` will take precedence. Please refer to the documentation for more information. (https://huggingface.co/docs/transformers/main/en/main_classes/text_generation)\n",
      "Processing batches:  70%|███████   | 7/10 [02:10<00:58, 19.37s/it]Both `max_new_tokens` (=1000) and `max_length`(=8192) seem to have been set. `max_new_tokens` will take precedence. Please refer to the documentation for more information. (https://huggingface.co/docs/transformers/main/en/main_classes/text_generation)\n",
      "If you are not using the generate method, you may encounter nonsensical outputs after the 4096th token, as the KV cache needs to be recomputed.\n",
      "Processing batches:  80%|████████  | 8/10 [02:40<00:45, 22.89s/it]Both `max_new_tokens` (=1000) and `max_length`(=8192) seem to have been set. `max_new_tokens` will take precedence. Please refer to the documentation for more information. (https://huggingface.co/docs/transformers/main/en/main_classes/text_generation)\n",
      "Processing batches:  90%|█████████ | 9/10 [03:04<00:23, 23.29s/it]Both `max_new_tokens` (=1000) and `max_length`(=8192) seem to have been set. `max_new_tokens` will take precedence. Please refer to the documentation for more information. (https://huggingface.co/docs/transformers/main/en/main_classes/text_generation)\n",
      "Processing batches: 100%|██████████| 10/10 [03:23<00:00, 20.36s/it]\n",
      "INFO:flow_judge.flow_judge:Saving results to output/\n",
      "INFO:flow_judge.utils.result_writer:Results saved to output/context_relevancy/results_context_relevancy_flowaicom__Flow-Judge-v0.1_transformers_2024-10-03T15-03-05.783.jsonl\n",
      "INFO:haystack.core.pipeline.pipeline:Running component ff_evaluator\n",
      "INFO:flow_judge.models.huggingface:Automatically determined batch size: 2\n",
      "Processing batches:   0%|          | 0/10 [00:00<?, ?it/s]Both `max_new_tokens` (=1000) and `max_length`(=8192) seem to have been set. `max_new_tokens` will take precedence. Please refer to the documentation for more information. (https://huggingface.co/docs/transformers/main/en/main_classes/text_generation)\n",
      "Processing batches:  10%|█         | 1/10 [00:20<03:07, 20.84s/it]Both `max_new_tokens` (=1000) and `max_length`(=8192) seem to have been set. `max_new_tokens` will take precedence. Please refer to the documentation for more information. (https://huggingface.co/docs/transformers/main/en/main_classes/text_generation)\n",
      "Processing batches:  20%|██        | 2/10 [00:43<02:53, 21.66s/it]Both `max_new_tokens` (=1000) and `max_length`(=8192) seem to have been set. `max_new_tokens` will take precedence. Please refer to the documentation for more information. (https://huggingface.co/docs/transformers/main/en/main_classes/text_generation)\n",
      "Processing batches:  30%|███       | 3/10 [01:01<02:20, 20.12s/it]Both `max_new_tokens` (=1000) and `max_length`(=8192) seem to have been set. `max_new_tokens` will take precedence. Please refer to the documentation for more information. (https://huggingface.co/docs/transformers/main/en/main_classes/text_generation)\n",
      "Processing batches:  40%|████      | 4/10 [01:14<01:44, 17.48s/it]Both `max_new_tokens` (=1000) and `max_length`(=8192) seem to have been set. `max_new_tokens` will take precedence. Please refer to the documentation for more information. (https://huggingface.co/docs/transformers/main/en/main_classes/text_generation)\n",
      "Processing batches:  50%|█████     | 5/10 [01:34<01:31, 18.33s/it]Both `max_new_tokens` (=1000) and `max_length`(=8192) seem to have been set. `max_new_tokens` will take precedence. Please refer to the documentation for more information. (https://huggingface.co/docs/transformers/main/en/main_classes/text_generation)\n",
      "Processing batches:  60%|██████    | 6/10 [02:05<01:29, 22.47s/it]Both `max_new_tokens` (=1000) and `max_length`(=8192) seem to have been set. `max_new_tokens` will take precedence. Please refer to the documentation for more information. (https://huggingface.co/docs/transformers/main/en/main_classes/text_generation)\n",
      "Processing batches:  70%|███████   | 7/10 [02:22<01:02, 20.79s/it]Both `max_new_tokens` (=1000) and `max_length`(=8192) seem to have been set. `max_new_tokens` will take precedence. Please refer to the documentation for more information. (https://huggingface.co/docs/transformers/main/en/main_classes/text_generation)\n",
      "If you are not using the generate method, you may encounter nonsensical outputs after the 4096th token, as the KV cache needs to be recomputed.\n",
      "Processing batches:  80%|████████  | 8/10 [02:41<00:40, 20.08s/it]Both `max_new_tokens` (=1000) and `max_length`(=8192) seem to have been set. `max_new_tokens` will take precedence. Please refer to the documentation for more information. (https://huggingface.co/docs/transformers/main/en/main_classes/text_generation)\n",
      "Processing batches:  90%|█████████ | 9/10 [02:59<00:19, 19.67s/it]Both `max_new_tokens` (=1000) and `max_length`(=8192) seem to have been set. `max_new_tokens` will take precedence. Please refer to the documentation for more information. (https://huggingface.co/docs/transformers/main/en/main_classes/text_generation)\n",
      "Processing batches: 100%|██████████| 10/10 [03:19<00:00, 19.90s/it]\n",
      "INFO:flow_judge.flow_judge:Saving results to output/\n",
      "INFO:flow_judge.utils.result_writer:Results saved to output/faithfulness/results_faithfulness_flowaicom__Flow-Judge-v0.1_transformers_2024-10-03T15-07-11.626.jsonl\n"
     ]
    }
   ],
   "source": [
    "results = eval_pipeline.run(\n",
    "    {\n",
    "        \"sas_evaluator\": {\n",
    "            'predicted_answers': rag_answers,\n",
    "            'ground_truth_answers': ground_truths,\n",
    "        },\n",
    "        \"cr_evaluator\": {\n",
    "            'question': questions,\n",
    "            'contexts': str_retrieved_docs,\n",
    "        },\n",
    "        \"ff_evaluator\": {\n",
    "            'question': questions,\n",
    "            'contexts': str_retrieved_docs,\n",
    "            'predicted_answers': rag_answers,\n",
    "        }\n",
    "    }\n",
    ")"
   ]
  },
  {
   "cell_type": "code",
   "execution_count": 19,
   "metadata": {},
   "outputs": [
    {
     "data": {
      "text/plain": [
       "{'sas_evaluator': {'score': 0.8931622713804245,\n",
       "  'individual_scores': [0.8243861198425293,\n",
       "   0.9228897094726562,\n",
       "   0.8793361186981201,\n",
       "   0.9031497836112976,\n",
       "   0.8966434597969055,\n",
       "   0.8381413221359253,\n",
       "   0.9597147703170776,\n",
       "   0.9309449195861816,\n",
       "   0.798747181892395,\n",
       "   0.9507496356964111,\n",
       "   0.818832516670227,\n",
       "   0.853968620300293,\n",
       "   0.8608775734901428,\n",
       "   0.8927598595619202,\n",
       "   0.930637001991272,\n",
       "   0.9335268139839172,\n",
       "   0.8244764804840088,\n",
       "   0.9270716309547424,\n",
       "   0.9546440243721008,\n",
       "   0.9617478847503662]},\n",
       " 'cr_evaluator': {'results': [{'feedback': 'The context provided is highly relevant to the query about whether CNN permits using bots to artificially increase page visits for certain content. The context includes specific clauses that directly address this issue:\\n\\n1. \"You agree not to use any technology, service or automated system to artificially inflate the page views that your User Content receives.\"\\n2. \"You also agree not to direct any third party to use these services, technologies or automated systems on your behalf.\"\\n\\nThese clauses clearly prohibit the use of bots or any automated system to artificially increase page views, which directly answers the query. Additionally, the context outlines the consequences of violating these terms, further emphasizing the prohibition.\\n\\nThe context also includes other relevant information about user conduct and content submission guidelines, which, while not directly answering the specific question about bots, provide a comprehensive understanding of the rules and restrictions in place on the site.\\n\\nGiven the direct relevance and sufficiency of the information provided to answer the query, the context is highly relevant and contains all necessary information to comprehensively respond to the query.',\n",
       "    'score': 5},\n",
       "   {'feedback': 'The context provided in the output is mostly relevant to the query, but it falls short of being comprehensive. The query asks whether eBay promises that the product data it provides will be somewhat accurate. The context does address this to some extent, stating, \"We try to offer reliable product data, but cannot promise that the content provided through our Services will always be available, accurate, complete, and up-to-date.\" This directly answers the query by acknowledging that while eBay strives for accuracy, it cannot guarantee it.\\n\\nHowever, the context could have been more explicit in stating that eBay does not promise the accuracy of the product data. The current wording suggests that eBay tries to offer reliable data but cannot guarantee its accuracy, which is somewhat different from a clear promise of accuracy. Additionally, the context includes a lot of other information about eBay\\'s terms of service, which, while potentially useful, is not directly relevant to the specific question about product data accuracy.\\n\\nTherefore, the context is mostly relevant but misses some key details for a complete response.',\n",
       "    'score': 4},\n",
       "   {'feedback': \"The context provided is highly relevant and comprehensive in addressing the query about whether certain terms will remain in force even if a user terminates the service. The context explicitly mentions that specific sections of the terms (4, 6, 10, 11, 12, 13, 16, and 17) will survive any termination of the terms or the account. This directly answers the question posed.\\n\\nFurthermore, the context elaborates on the implications of termination, including the possibility of suspension or termination of the service, the rights of the service provider to modify or terminate the services, and the conditions under which an account may be terminated. This additional information provides a thorough understanding of the terms and conditions related to termination, which is crucial for a comprehensive response to the query.\\n\\nThe context also addresses the user's ability to terminate the service themselves, mentioning that they can stop using the services at any time, but also that the service provider reserves the right to suspend or terminate the service at any time without notice. This balanced view further supports the relevance and sufficiency of the context in responding to the query.\\n\\nOverall, the context is highly relevant and contains all the necessary information to comprehensively respond to the query without needing any additional context.\",\n",
       "    'score': 5},\n",
       "   {'feedback': 'The context provided in the output is highly relevant to the query about Netflix customer support alternatives. Specifically, the section \"8.3. Customer Support\" directly addresses the question by stating that if a customer does not consent to remote access support, Netflix will assist through other means. This section provides a clear alternative to remote access support, which is the main focus of the query.\\n\\nAdditionally, the context mentions that \"In the event of any conflict between these Terms of Use and information provided by Customer Support or other portions of our website, these Terms of Use will control.\" This implies that there are other means of obtaining customer support if the terms of service are not agreed upon, further supporting the relevance of the context to the query.\\n\\nOverall, the context contains all the necessary information to comprehensively respond to the query without needing any additional context.',\n",
       "    'score': 5},\n",
       "   {'feedback': \"The context provided is highly relevant and comprehensive in addressing the query about Apple's ability to disclose personal information. The context includes specific clauses from Apple's Terms of Use that directly address the conditions under which Apple may disclose personal information. \\n\\nKey relevant points from the context include:\\n\\n1. Apple reserves the right to disclose information necessary to comply with applicable law, regulation, legal process, or governmental request.\\n2. Apple may disclose information when required to do so by law or if it determines that such preservation or disclosure is reasonably necessary.\\n3. Apple may preserve any communication with the user and disclose it if required by law.\\n4. Apple may terminate access to the site if it determines that the user has violated the terms of use or other associated guidelines.\\n\\nThese points directly address the core of the query, providing a clear and comprehensive answer about Apple's rights to disclose personal information in response to government requests. The context does not omit any critical information that would be necessary to fully answer the question.\\n\\nTherefore, the context is highly relevant and sufficient to comprehensively respond to the query without needing any additional context.\",\n",
       "    'score': 5},\n",
       "   {'feedback': 'The context provided is highly relevant and comprehensive in addressing the query about scraping data for a research project. The output clearly states that copying or storing content for any use other than personal use is expressly prohibited without prior written permission from The New York Times Rights and Permissions Department or the copyright holder. This directly addresses the core of the query by outlining the legal restrictions on data scraping for research purposes.\\n\\nThe context also includes additional relevant information, such as the prohibition of using robots, spiders, or automated means to scrape content, which further emphasizes the restrictions on data scraping. It also mentions potential legal consequences for engaging in prohibited uses, which underscores the seriousness of the restrictions.\\n\\nWhile the context is thorough and directly relevant to the query, it could be slightly more explicit about the specific implications for research projects. However, this minor detail does not significantly detract from the overall relevance and sufficiency of the information provided.\\n\\nOverall, the context contains all the necessary information to comprehensively respond to the query without needing any additional context.',\n",
       "    'score': 5},\n",
       "   {'feedback': 'The context provided is not directly relevant to the query about Amazon\\'s responsibility for items sold by third parties through Amazon. The query specifically asks about Amazon\\'s liability and responsibility for third-party sales, while the context focuses on various other aspects such as app permissions, sanctions and export policy, copyright, trademarks, patents, and licensing.\\n\\nThe relevant information that could address the query is found in the \"Other Businesses\" section, which states: \"We are not responsible for examining or evaluating, and we do not warrant, the offerings of any of these businesses or individuals (including the content of their Web sites). Amazon does not assume any responsibility or liability for the actions, product, and content of all these and any other third parties.\"\\n\\nThis section directly addresses the query by stating that Amazon does not assume responsibility or liability for third-party offerings. However, the context is not comprehensive and does not provide a detailed explanation of Amazon\\'s policies regarding third-party sales.\\n\\nTherefore, while the context contains some relevant information, it is not sufficiently detailed to fully answer the query. The context is mostly relevant but misses some key details for a complete response.',\n",
       "    'score': 3},\n",
       "   {'feedback': \"The context provided is not relevant to the query about whether the New York Times (NYT) checks all user content before uploading and posting. The context focuses on the terms of service, user agreements, and restrictions for accessing NYT's services. It does not address the content moderation or pre-uploading checks that the user is inquiring about.\\n\\nThe context mentions copyright and intellectual property rights, user restrictions, and security measures, but it does not provide any information about the content review process before posting. Therefore, the context is insufficient and irrelevant for responding to the specific query about content checks.\\n\\nBased on the evaluation criteria and scoring rubric, the context falls under the description for a score of 1, as it is not relevant or sufficient to respond to the query.\",\n",
       "    'score': 1},\n",
       "   {'feedback': \"The context provided is highly relevant to the query about potential changes to the terms that Instructure might not let the user know about. The context includes detailed information about the Termination section, which directly addresses the user's concern about changes to the terms. Specifically, it mentions that Instructure may suspend or terminate the user's account, moderator status, or ability to access or use the services at any time for any or no reason, including for violating the terms or the Content Policy. This information is crucial for understanding the user's rights and the potential for changes that they might not be aware of.\\n\\nAdditionally, the context includes information about the Miscellaneous section, which states that any provision of these Terms that is held to be illegal, invalid, or unenforceable will remain in effect, and that the rest of the Terms will remain in effect. This is directly relevant to the user's concern about not being informed of changes.\\n\\nThe context also mentions that the Acceptable Use Policy rules and guidelines are subject to change, which aligns with the user's query about potential changes to the terms.\\n\\nOverall, the context provides comprehensive information that directly addresses the user's query, making it highly relevant and sufficient for responding to the query.\",\n",
       "    'score': 5},\n",
       "   {'feedback': \"The context provided is highly relevant to the query about content deletion on Instagram. It addresses several key points that are directly related to the question:\\n\\n1. It explains the conditions under which content can be deleted, including scenarios where other users have used the content.\\n2. It mentions that content will not be deleted within 90 days of account deletion or content deletion process beginning, which is relevant to the query.\\n3. It outlines situations where deletion is not possible due to technical limitations or legal obligations, which is pertinent to the question.\\n4. It clarifies that the content will remain visible to other users while the deletion process is ongoing, which is an important detail for the query.\\n\\nThe context provides comprehensive information about Instagram's content removal policies, including the reasons for deletion, the process, and the rights of users. It also addresses the specific scenario of content being used by others, which is the core of the query. Therefore, the context contains all the necessary information to comprehensively respond to the query without needing any additional context.\\n\\nBased on the evaluation criteria and scoring rubric, the context is highly relevant and sufficient to respond to the query.\",\n",
       "    'score': 5},\n",
       "   {'feedback': 'The context provided is highly relevant to the query about whether eBay is entitled to decide which party pays the costs of arbitration. The context includes specific information about the arbitration procedures and costs, which directly addresses the question. It states that \"Payment of all filing, administration and arbitrator fees will be governed by the AAA\\'s rules, unless otherwise stated in this Agreement to Arbitrate.\" Additionally, it mentions that \"If you complied with the Notice of Dispute procedures of Section 2 of this Agreement (\\'Arbitration Procedures\\') and the value of the relief sought is $10,000 or less, at your request, eBay will pay all administration and arbitrator fees associated with the arbitration.\" This clearly indicates that eBay has the right to decide which party pays the costs of arbitration, at least under certain conditions.\\n\\nThe context also includes information about the arbitration process, the role of the arbitrator, and the rules governing the arbitration, which further supports the relevance of the information to the query. There are no significant details missing that would prevent a comprehensive response to the query. Therefore, the context contains all the necessary information to comprehensively respond to the query without needing any additional context.\\n\\nBased on the evaluation criteria and scoring rubric, the context is highly relevant and sufficiently detailed to answer the query.',\n",
       "    'score': 5},\n",
       "   {'feedback': \"The context provided is highly relevant to the query about disclosing compensation for edits made. It includes specific sections that directly address the terms of service and user agreements, which are crucial for understanding the conditions under which Apple (or in this case, Zoom) may disclose user information. The context mentions that Apple may disclose information if necessary for investigations, legal actions, or to protect rights, which is pertinent to the query. It also explicitly states that Apple reserves the right to disclose any information deemed necessary to comply with the law or legal processes, which is directly relevant to the question of whether compensation for edits can be disclosed.\\n\\nFurthermore, the context includes information about the user's acknowledgment of these terms, including the possibility of termination of access and legal actions, which could be related to compensation disclosure. The detailed explanation of the terms, including the disclaimer of warranties and limitations on liability, provides a comprehensive framework for understanding the conditions under which user data, including potentially compensation information, might be disclosed.\\n\\nThe context does not explicitly mention compensation for edits, but it provides enough information about the general conditions of data disclosure and legal compliance to adequately address the query. It covers the necessary bases to determine the relevance of the information to the question at hand, making it highly relevant and sufficient for responding to the query without needing additional context.\\n\\nTherefore, the context is highly relevant and contains all the necessary information to comprehensively respond to the query.\",\n",
       "    'score': 5},\n",
       "   {'feedback': 'The context provided is highly relevant to the query about whether Verizon needs to inform users about changes to the services. The context includes multiple sections that address changes to services, updates, and modifications, which directly pertains to the query. Specifically, the context mentions:\\n\\n1. \"We may change these Terms at any time, and well tell you when we do.\"\\n2. \"Sometimes you\\'ll need software updates to keep using the Services. We may automatically check your version of the software and download software updates or configuration changes.\"\\n3. \"Additionally, there may be times when we need to remove or change features or functionality of the Service or stop providing a Service or access to Third-Party Apps and Services altogether.\"\\n\\nThese sections clearly indicate that Verizon may make changes to the services and that users will be informed about such changes. The context also outlines the procedures for updates and changes, including the possibility of automatic updates and the company\\'s discretion in making modifications.\\n\\nGiven the comprehensive nature of the information provided, which directly addresses the query about informing users of changes to the services, the context is highly relevant and sufficient for responding to the query without needing any additional context.',\n",
       "    'score': 5},\n",
       "   {'feedback': \"The context provided in the output is not relevant or sufficient to answer the query about Shopify's agreement to ensure the encryption of all data provided to it. The query specifically asks about Shopify's commitment to data encryption, but the context includes information about Shopify's rights to modify services, refuse service, remove materials, and other general terms and conditions. There is no specific mention of data encryption policies or commitments. Therefore, the context is mostly irrelevant to the query.\\n\\nBased on the evaluation criteria and scoring rubric, the context is mostly irrelevant to the query, which aligns with a score of 2.\",\n",
       "    'score': 2},\n",
       "   {'feedback': \"The context provided is highly relevant to the query about accessing Disney products anonymously. The context includes detailed information about various aspects of using Disney products, including internet and system requirements, mobile networks, consent to messages, app permissions, and more. \\n\\nSpecifically, the context addresses the question of anonymity in several ways:\\n\\n1. It mentions that users must read and agree to terms of use, which likely includes privacy policies that address anonymity.\\n2. It discusses app permissions, which could include options for anonymity.\\n3. It covers internet and system requirements, which could impact anonymity.\\n4. It mentions mobile networks and data usage, which are relevant to maintaining anonymity.\\n5. It addresses consent to messages and unsubscribe options, which could be related to maintaining anonymity.\\n\\nHowever, the context does not explicitly state whether it's possible to access Disney products anonymously. Instead, it provides comprehensive information about the terms and conditions of using Disney products, which indirectly relates to the question of anonymity. The information about third-party services and platforms is particularly relevant, as it implies that Disney does not control these aspects and that users must adhere to their terms, which could include privacy and anonymity considerations.\\n\\nWhile the context does not directly answer the question, it provides a wealth of information that could be used to infer or discuss the possibilities and limitations of accessing Disney products anonymously. The detailed nature of the information suggests that it covers the necessary bases to address the query comprehensively, even if it doesn't provide a straightforward answer.\\n\\nGiven these points, the context is mostly relevant and contains most of the necessary information to respond to the query, but it is missing a direct statement about anonymity, which is a minor detail in the context of such a comprehensive document.\",\n",
       "    'score': 4},\n",
       "   {'feedback': 'The context provided is highly relevant to the query and contains all the necessary information to comprehensively respond to it. The query asks whether Twitch can continue using the content for advertising and marketing after it has been deleted by the content creator. The context clearly outlines Twitch\\'s rights and permissions regarding the use of User Content, including the ability to use, reproduce, modify, adapt, publish, and distribute such content for promotional purposes.\\n\\nSpecifically, the context mentions that Twitch grants the right to use the User Content \"to the furthest extent and for the maximum duration permitted by applicable law (including in perpetuity if permitted under applicable law),\" which includes the right to use the content for promoting and redistributing part or all of the Twitch Services. This directly addresses the core of the query, confirming that Twitch retains the right to use the content for advertising and marketing even after it has been deleted by the content creator.\\n\\nAdditionally, the context specifies that these rights are granted \"unless otherwise agreed to in a written agreement between you and Twitch that was signed by an authorized representative of Twitch.\" This implies that if no such agreement exists, Twitch retains the rights as described. The context also notes that these rights are granted \"unless you delete such Submitted Projects from the Twitch Services,\" which directly relates to the scenario presented in the query.\\n\\nThe information provided is thorough and directly addresses the key aspects of the query without omitting any crucial details. Therefore, the context is highly relevant and sufficient for responding to the query comprehensively.\\n\\nBased on the evaluation criteria and scoring rubric, the context meets the highest standard of relevance and sufficiency, as it contains all the necessary information to respond to the query without needing any additional context.',\n",
       "    'score': 5},\n",
       "   {'feedback': \"The context provided is highly relevant to the query about Facebook's responsibility for racist content. The context outlines Facebook's policies regarding content removal, account termination, and the limitations of their liability. It specifically addresses the company's stance on not being responsible for user actions or content, which directly relates to the question of whether Facebook takes responsibility for racist content posted on their platform.\\n\\nThe context mentions that Facebook cannot predict when issues might arise with their products and that their liability is limited to the fullest extent permitted by law. It also states that Facebook is not responsible for lost profits, revenues, or data, even if advised of the possibility of such damages. This information is crucial in understanding Facebook's position on content responsibility.\\n\\nFurthermore, the context includes specific guidelines about what constitutes inappropriate content, such as libelous, defamatory, obscene, pornographic, abusive, or illegal material. It also mentions that hate speech is grounds for immediate and permanent suspension of access to the services. These details are directly relevant to the question of racist content and provide a clear framework for Facebook's content moderation policies.\\n\\nOverall, the context contains all the necessary information to comprehensively respond to the query about Facebook's responsibility for racist content, without needing any additional context.\",\n",
       "    'score': 5},\n",
       "   {'feedback': 'The context provided is highly relevant to the query and contains all the necessary information to comprehensively respond to it. The context includes specific clauses from Microsoft\\'s terms of service that directly address the liability and potential claims arising from security breaches of Microsoft accounts.\\n\\nKey relevant sections include:\\n\\n1. \"You are entirely responsible for maintaining the confidentiality of your password and account.\"\\n2. \"Microsoft will not be liable for any loss that you may incur as a result of someone else using your password or account, either with or without your knowledge.\"\\n3. \"However, you could be held liable for losses incurred by Microsoft or another party due to someone else using your account or password.\"\\n4. \"You may not use anyone else\\'s account at any time, without the permission of the account holder.\"\\n5. \"You agree to notify Microsoft immediately of any unauthorized use of your account or any other breach of security.\"\\n6. \"If Apple does take any legal action against you as a result of your violation of these Terms of Use, Apple will be entitled to recover from you, and you agree to pay, all reasonable attorneys fees and costs of such action.\"\\n\\nThese sections clearly outline the circumstances under which Microsoft could potentially claim against a user in the event of a security breach. The context provides a comprehensive overview of the user\\'s responsibilities, the company\\'s liability limitations, and the potential consequences of unauthorized account use.\\n\\nThe information is presented in a clear and detailed manner, addressing all aspects of the query without requiring any additional context. Therefore, the context is highly relevant and sufficient for responding to the query.',\n",
       "    'score': 5},\n",
       "   {'feedback': 'The context provided is highly relevant to the query about whether NYT requires parental consent for persons aged 17 who wish to access NYT services. The context includes specific sections that directly address the issue of age restrictions and parental consent.\\n\\nKey relevant information includes:\\n\\n1. Section 6.3 states, \"If you are less than 18 years of age and would like to use, subscribe or register to any part of the Services, please ask your parent or legal guardian to review and agree to these Terms of Service before you use any part of the Services or ask them to complete the purchase and/or registration on your behalf.\"\\n\\n2. The same section also mentions that \"Any fraudulent, abusive, or otherwise illegal activity may be grounds for termination of your account, at our sole discretion, and we may refer you to appropriate law-enforcement agencies.\"\\n\\nThis information clearly indicates that NYT requires parental consent for users under 18, which directly answers the query. The context is comprehensive and does not omit any critical information needed to respond to the question.\\n\\nTherefore, the context is highly relevant and sufficient to respond to the query without needing any additional context.',\n",
       "    'score': 5},\n",
       "   {'feedback': 'The context provided is highly relevant and comprehensive in addressing the query about Instagram\\'s ownership of user-posted content. The context clearly states, \"We do not claim ownership of your content that you post on or through the Service and you are free to share your content with anyone else, wherever you want.\" This directly answers the core question of whether Instagram becomes the owner of the content posted on the platform.\\n\\nAdditionally, the context elaborates on the permissions granted to Instagram, including the non-exclusive, royalty-free, transferable, sub-licensable, worldwide license to use the content, which further clarifies the nature of the relationship between the user and Instagram regarding content ownership.\\n\\nThe context also addresses related aspects such as content removal, account termination, and the conditions under which content may be retained or deleted, which, while not directly answering the ownership question, provides a comprehensive understanding of how Instagram handles user content.\\n\\nOverall, the context is thorough and directly relevant to the query, providing all necessary information to comprehensively respond to the question about Instagram\\'s ownership of user-posted content.',\n",
       "    'score': 5}],\n",
       "  'metadata': {'model_id': 'flowaicom/Flow-Judge-v0.1',\n",
       "   'model_type': 'transformers',\n",
       "   'generation_params': {'temperature': 0.1,\n",
       "    'top_p': 0.95,\n",
       "    'max_new_tokens': 1000,\n",
       "    'do_sample': True,\n",
       "    'max_length': 8192},\n",
       "   'kwargs': {'device_map': 'auto',\n",
       "    'torch_dtype': 'bfloat16',\n",
       "    'attn_implementation': 'flash_attention_2'}},\n",
       "  'score': 4.45,\n",
       "  'individual_scores': [5.0,\n",
       "   4.0,\n",
       "   5.0,\n",
       "   5.0,\n",
       "   5.0,\n",
       "   5.0,\n",
       "   3.0,\n",
       "   1.0,\n",
       "   5.0,\n",
       "   5.0,\n",
       "   5.0,\n",
       "   5.0,\n",
       "   5.0,\n",
       "   2.0,\n",
       "   4.0,\n",
       "   5.0,\n",
       "   5.0,\n",
       "   5.0,\n",
       "   5.0,\n",
       "   5.0]},\n",
       " 'ff_evaluator': {'results': [{'feedback': 'The response is highly consistent with the provided context. The context explicitly states that users agree not to use any technology, service, or automated system to artificially inflate page views, post more User Content than an individual could upload in a given period, or direct any third party to use these systems on their behalf. The response accurately reflects this prohibition and includes additional relevant information about the consequences of violating these terms. There are no hallucinated or fabricated details in the response, making it completely faithful to the context.\\n\\nTherefore, the response meets the criteria for a score of 5.',\n",
       "    'score': 5},\n",
       "   {'feedback': 'The response is mostly consistent with the provided context, but it contains a significant inconsistency. The context clearly states that \"You agree that Apple may preserve any transmittal or communication by you with Apple through the Site or any service offered on or through the Site, and may also disclose such data if required to do so by law or Apple determines that such preservation or disclosure is reasonably necessary to (1) comply with legal process, (2) enforce these Terms of Use, (3) respond to claims that any such data violates the rights of others, or (4) protect the rights, property or personal safety of Apple, its employees, users of or visitors to the Site, and the public.\" However, the response incorrectly attributes this information to eBay instead of Apple.\\n\\nThe rest of the response is accurate in stating that eBay warrants the accuracy of the product data provided, but it also correctly notes that eBay cannot promise that the content will always be available, accurate, complete, and up-to-date. This part of the response is consistent with the context.\\n\\nGiven the significant inconsistency regarding the attribution of the information to eBay instead of Apple, the response does not fully meet the criteria for a higher score. Therefore, it is mostly consistent with the context but contains a notable error.',\n",
       "    'score': 2},\n",
       "   {'feedback': 'The response is mostly consistent with the provided context, demonstrating a good understanding of the terms that remain in force despite user termination. The predicted answers correctly identify sections 4 (Your Content), 6 (Things You Cannot Do), 10 (Indemnity), 11 (Disclaimers), 12 (Limitation of Liability), 13 (Governing Law and Venue), 16 (Termination), and 17 (Miscellaneous) as the sections that will survive termination. These sections are indeed mentioned in the context, and their inclusion in the response is accurate and supported by the provided information.\\n\\nHowever, there are a few minor inconsistencies. For instance, the response mentions that \"The termination of a service or an account does not automatically nullify these sections,\" which is not explicitly stated in the context. While it is implied, it is not directly quoted. Additionally, the response includes a slightly redundant statement about the user being prohibited from assigning or transferring rights without the service provider\\'s consent, which is already mentioned in the context.\\n\\nDespite these minor issues, the vast majority of the content in the response is supported by the context, and there are no significant hallucinated or fabricated details that contradict the provided information.\\n\\nTherefore, the response is mostly consistent with the provided context, with only minor and inconsequential inconsistencies.',\n",
       "    'score': 4},\n",
       "   {'feedback': 'The response provided is highly consistent with the context given. It accurately reflects the information provided in the context regarding alternative means of customer support when a Netflix subscriber does not consent to remote access support. The response correctly cites the relevant section from the context: \"If you do not want us to have this access, you should not consent to support through the remote access tool, and we will assist you through other means.\" This statement directly supports the claim that alternative channels or methods of customer support are available.\\n\\nThere are no hallucinated or fabricated details in the response. All information presented is directly supported by the context provided. Therefore, the response is completely consistent with and faithful to the provided context.\\n\\nBased on the evaluation criteria and scoring rubric, the response deserves the highest score.',\n",
       "    'score': 5},\n",
       "   {'feedback': 'The response provided is highly consistent with the context given. The context clearly states that Apple may disclose any information about the user if it is necessary to comply with applicable law, regulation, legal process, or governmental request. The response accurately reflects this by mentioning that Apple can disclose personal information if they determine it is necessary to comply with any applicable law, regulation, legal process, or governmental request. There are no hallucinated or fabricated details in the response, and it is entirely supported by the context provided.\\n\\nTherefore, the response is completely consistent with and faithful to the provided context.',\n",
       "    'score': 5},\n",
       "   {'feedback': 'The response is highly consistent with the provided context. It accurately reflects the restrictions outlined in the Terms of Service regarding the use of the services for data scraping. Specifically, the response correctly identifies that automated means of data scraping, such as using robots, spiders, scripts, software, or any manual or automatic device designed to mine or scrape content, is prohibited. This is directly supported by the context, which states: \"(ii) use robots, spiders, scripts, service, software or any manual or automatic device, tool, or process designed to data mine or scrape the Content, data or information from the Services, or otherwise access or collect the Content, data or information from the Services using automated means.\"\\n\\nFurthermore, the response correctly mentions that engaging in such prohibited use may result in civil, criminal, and/or administrative penalties, fines, or sanctions, which is also supported by the context: \"Engaging in a prohibited use of the Services may result in civil, criminal, and/or administrative penalties, fines, or sanctions against the user and those assisting the user.\"\\n\\nThe response does not contain any hallucinated or fabricated information and is entirely faithful to the provided context. Therefore, it meets the highest standard of the evaluation criteria.',\n",
       "    'score': 5},\n",
       "   {'feedback': \"The response provided is highly consistent with the given context. It accurately reflects the information provided in the context regarding Amazon's stance on third-party sales through its platform. The response correctly states that Amazon does not take responsibility for items sold by third parties and emphasizes that purchases from these third parties are direct transactions with them, not with Amazon. Additionally, it mentions that Amazon does not warrant, examine, or evaluate the offerings of these businesses or individuals, which is directly supported by the context.\\n\\nThere are no hallucinated or fabricated details in the response. All the information presented is directly supported by the context provided. Therefore, the response is completely consistent with and faithful to the provided context.\\n\\nBased on the evaluation criteria and scoring rubric, the response deserves the highest score.\",\n",
       "    'score': 5},\n",
       "   {'feedback': 'The response provided is mostly consistent with the given context. It accurately reflects that the New York Times (NYT) Terms of Service do not explicitly state whether all user content is checked before being uploaded and posted. The response correctly notes that the context implies certain controls and restrictions to maintain the integrity of the Services, but it does not directly address the content review procedure.\\n\\nThe response avoids introducing any hallucinated or fabricated information and stays within the bounds of the provided context. It does not deviate significantly from the information given in the Terms of Service.\\n\\nHowever, the response could have been more specific by mentioning that the lack of explicit information about content review procedures in the Terms of Service suggests that such a process may not be clearly defined or publicly disclosed. This would have provided a slightly more nuanced interpretation of the context.\\n\\nOverall, the response is faithful to the context and does not contain any significant inconsistencies or fabrications.',\n",
       "    'score': 4},\n",
       "   {'feedback': \"The response is mostly consistent with the provided context. It accurately reflects the information given in the context regarding Instructure's ability to revise the Acceptable Use Policy guidelines and the notice requirements. The response correctly states that Instructure may revise the guidelines from time to time and that they generally provide notice through email, but it also acknowledges the possibility that not all changes are communicated to users. This is in line with the context, which mentions that users agree to be bound by the revised guidelines once they come into effect, even if not all changes are communicated.\\n\\nThere are no significant hallucinated or fabricated details in the response. The information provided is directly supported by the context, particularly in the Miscellaneous section where it mentions that users agree to be bound by the revised guidelines once they come into effect.\\n\\nTherefore, the response meets the criteria for a score of 4, as it is mostly consistent with the provided context, with only minor and inconsequential inconsistencies or fabrications, if any.\",\n",
       "    'score': 4},\n",
       "   {'feedback': 'The response provided is mostly consistent with the given context, demonstrating a good understanding of the terms and conditions outlined in the Instagram content removal policy. The answer correctly identifies that if someone else is using your content in accordance with existing licenses and they have not deleted it, this could prevent the content from being immediately deleted. This aligns with the context, which states that content will not be deleted within 90 days of the account deletion or content deletion process beginning if it has been used by others in accordance with the license.\\n\\nThe response also accurately mentions that eventually, the content may still be deleted if the person no longer uses it or if Instagram determines that deletion is necessary for legal, safety, security, or compliance reasons. This is consistent with the context, which outlines several reasons why content might not be deleted within 90 days, including legal obligations, safety and security concerns, and compliance requirements.\\n\\nHowever, the response could have been more precise in mentioning that the exact duration of content retention when deletion is not technically feasible may vary on a case-by-case basis, as stated in the context. This minor detail, while not significantly contradicting the context, could have been included for a more comprehensive answer.\\n\\nOverall, the response is mostly consistent with the provided context, with only minor and inconsequential inconsistencies or fabrications, if any.',\n",
       "    'score': 4},\n",
       "   {'feedback': \"The response provided is mostly consistent with the given context, but it contains some minor inaccuracies and misinterpretations. \\n\\nThe response correctly identifies that eBay may initially bear the costs of arbitration, as stated in Section D of the context. However, it incorrectly suggests that eBay has the entitlement to decide which party will pay the costs, when the context actually indicates that the costs may be reimbursed by the prevailing party, depending on the arbitrator's decision. This is a significant misinterpretation of the context.\\n\\nThe response also mentions the Severability clause in Section G, which is accurate, but it misinterprets the clause by suggesting that eBay's managerial decisions during arbitration processes are subject to the rule of law. The Severability clause actually states that if any part of the arbitration agreement is found to be illegal or unenforceable, the remaining provisions will still apply and be interpreted to achieve the original intent, which does not directly address eBay's entitlement to decide on costs.\\n\\nFurthermore, the response introduces information about the Opt-Out Procedure and the Dispute Procedure, which are not directly relevant to the question about who bears the costs of arbitration. While these sections are part of the context, they are not pertinent to the specific question asked.\\n\\nOverall, the response includes some correct information from the context but also introduces minor inaccuracies and irrelevant details. These inconsistencies prevent it from being fully consistent with the provided context.\\n\\nTherefore, the response is mostly consistent with the provided context but with notable exceptions that prevent it from being completely accurate.\",\n",
       "    'score': 3},\n",
       "   {'feedback': 'The response provided is highly consistent with the given context. It accurately reflects the information contained within the Terms of Use document, addressing the specific question about disclosing compensation for edits without introducing any hallucinated or fabricated information. The output correctly identifies that the context does not explicitly mention the requirement to disclose compensation for edits, which aligns with the actual content of the document. The response also correctly notes that any such requirement would likely be outlined explicitly in the terms, which is a reasonable interpretation based on the provided information. There are no significant inconsistencies or fabrications in the response, and it remains entirely faithful to the provided context throughout.\\n\\nThe response demonstrates a thorough understanding of the Terms of Use, focusing on the relevant sections that pertain to the question asked without deviating into unrelated or unsupported details. It accurately summarizes the key points of the document, including the lack of explicit requirement for disclosing compensation, the general nature of the terms, and the conditions under which information may be disclosed or actions taken against users. This level of consistency and accuracy in interpreting and summarizing the provided context warrants the highest score.\\n\\nOverall, the response is completely consistent with and faithful to the provided context, with all details directly supported by the text without any hallucinated or fabricated information.',\n",
       "    'score': 5},\n",
       "   {'feedback': 'The response is mostly consistent with the provided context, but it contains a significant inconsistency. The context clearly states that \"Verizon may change these Terms at any time, and we will tell you when we do. Using the Services after the changes become effective means you agree to the new terms.\" This indicates that Verizon must inform users of changes to the services.\\n\\nHowever, the response incorrectly states that \"Verizon must inform you if changes are made to the services,\" which is not explicitly supported by the context. The context does not explicitly state that Verizon \"must\" inform users, but rather that they \"will tell you\" when changes occur. This is a subtle but important distinction.\\n\\nTherefore, while the response is mostly consistent with the context, it introduces a minor inconsistency regarding the obligation of Verizon to inform users. This inconsistency is not a fabrication but a misinterpretation of the provided information.\\n\\nBased on the scoring rubric, this response fits best under a score of 4, as it is mostly consistent with the context with only minor and inconsequential inconsistencies.',\n",
       "    'score': 4},\n",
       "   {'feedback': 'The response is mostly consistent with the provided context, but it contains a minor inconsistency. The context clearly states that \"Your Materials (not including credit card information), may be transferred unencrypted and involve transmissions over various networks.\" This implies that not all data provided to Shopify is guaranteed to be encrypted. However, the response incorrectly states that \"credit card information is always encrypted during transfer over networks,\" which contradicts the context.\\n\\nWhile the response is mostly accurate, this specific inconsistency prevents it from being completely faithful to the context. Therefore, it does not fully meet the criteria for a score of 5, but it is not entirely fabricated or hallucinated either.\\n\\nBased on the evaluation criteria and scoring rubric, the response fits best with a score of 4, as it is mostly consistent with the context with only minor and inconsequential inconsistencies.',\n",
       "    'score': 4},\n",
       "   {'feedback': 'The response provided is mostly consistent with the provided context. It correctly identifies that some Disney products may require account creation, which involves sharing personal information such as contact details, username, and password. This information is directly supported by Section E of the context, which discusses account requirements for certain Disney products. The response does not introduce any hallucinated or fabricated information and is entirely based on the given context.\\n\\nHowever, the response could be slightly improved by explicitly mentioning that the inability to access Disney products anonymously is due to the requirement of creating an account, which is a condition of use as stated in Section E. This would make the connection between account creation and the inability to remain anonymous even more explicit. Despite this minor point, the response remains highly consistent with the provided context and does not contain any significant inconsistencies or fabrications.\\n\\nOverall, the response is accurate and faithful to the context, with only a minor opportunity for enhancement in explicitly connecting the account requirement to the inability to access products anonymously.',\n",
       "    'score': 4},\n",
       "   {'feedback': 'The response provided is highly consistent with the context given. It accurately reflects the information about Twitch\\'s rights to User Content and the conditions under which these rights terminate. Specifically, it correctly states that Twitch\\'s rights to use the content for advertising and marketing end once the content is deleted, which aligns with the context\\'s mention that \"the rights granted by you hereunder terminate once you delete such User Content from the Twitch Services, or generally by closing your account.\" The response also acknowledges the exceptions noted in the context, such as if Twitch used the content for promotional purposes or if others copied or stored portions of the User Content, which demonstrates a thorough understanding of the provided information. There are no hallucinated or fabricated details in the response, and all information presented is directly supported by the context.\\n\\nTherefore, the response is completely consistent with and faithful to the provided context, meeting the highest standard of the evaluation criteria.',\n",
       "    'score': 5},\n",
       "   {'feedback': 'The response is mostly consistent with the provided context, but it introduces a minor inconsistency. The response accurately reflects the context by stating that Facebook does not take responsibility for individual content posted on its platform and that users are advised against using language that abuses or discriminates on the basis of race, gender, sexual preference, age, region, disability, etc. It also correctly mentions that Facebook\\'s Terms of Use state that the company is not responsible for the content users post.\\n\\nHowever, the response includes a minor inconsistency when it states, \"In case of legal violations, content removal and account suspension as stated in the text are practiced to ensure compliance with local and federal laws.\" While this is generally true, the context does not explicitly state that content removal and account suspension are practiced to ensure compliance with local and federal laws. Instead, it mentions that content removal and account suspension are done to comply with local and federal laws, which is a slightly different phrasing.\\n\\nThis minor inconsistency does not significantly contradict the context, but it is present. Therefore, the response is mostly consistent with the provided context, with only a minor and inconsequential inconsistency.',\n",
       "    'score': 4},\n",
       "   {'feedback': 'The response is mostly consistent with the provided context, but it contains a minor inconsistency. The context clearly states that \"You are entirely responsible for any and all activities that occur under your account. You agree to notify Microsoft immediately of any unauthorized use of your account or any other breach of security. Microsoft will not be liable for any loss that you may incur as a result of someone else using your password or account, either with or without your knowledge.\" This directly contradicts the response\\'s claim that \"the user is not liable for any loss that Microsoft may incur due to unauthorized use of the account by a third party, whether with or without the user\\'s knowledge.\"\\n\\nThe rest of the response is largely accurate and aligns well with the context, particularly regarding Microsoft\\'s potential liability for losses incurred by Microsoft or another party due to unauthorized use of the user\\'s account or password.\\n\\nTherefore, the response is mostly consistent with the context but contains a significant inconsistency that affects its overall accuracy.',\n",
       "    'score': 2},\n",
       "   {'feedback': 'The response provided is completely consistent with the context given. The context clearly states that individuals under the age of 18 must have their parent or legal guardian review and agree to the Terms of Service, or have their parent or guardian complete the purchase and/or registration on their behalf. The response accurately reflects this requirement, stating that NYT requires parental consent for individuals under the age of 18 to access NYT services. There is no hallucinated or fabricated information in the response; all details are directly supported by the context provided.\\n\\nTherefore, the response meets the highest standard of the scoring rubric.',\n",
       "    'score': 5},\n",
       "   {'feedback': 'The response provided is highly consistent with the context given. It accurately reflects the information provided in the context regarding Instagram\\'s Terms of Use. The response correctly states that Instagram does not claim ownership of user content, but grants a non-exclusive, royalty-free, transferable, sub-licensable, worldwide license to use the content. This is directly supported by the text in the context, which states: \"Nothing is changing about your rights in your content. We do not claim ownership of your content that you post on or through the Service and you are free to share your content with anyone else, wherever you want. However, we need certain legal permissions from you (known as a license) to provide the Service.\"\\n\\nThe response also correctly mentions that the license ends when the content is deleted from Instagram\\'s systems, which is consistent with the context: \"This license will end when your content is deleted from our systems.\"\\n\\nThere are no hallucinated or fabricated details in the response. All information provided is directly supported by the context, making the response completely consistent with and faithful to the provided information.\\n\\nTherefore, based on the evaluation criteria and scoring rubric, the response deserves the highest score.',\n",
       "    'score': 5}],\n",
       "  'metadata': {'model_id': 'flowaicom/Flow-Judge-v0.1',\n",
       "   'model_type': 'transformers',\n",
       "   'generation_params': {'temperature': 0.1,\n",
       "    'top_p': 0.95,\n",
       "    'max_new_tokens': 1000,\n",
       "    'do_sample': True,\n",
       "    'max_length': 8192},\n",
       "   'kwargs': {'device_map': 'auto',\n",
       "    'torch_dtype': 'bfloat16',\n",
       "    'attn_implementation': 'flash_attention_2'}},\n",
       "  'score': 4.2,\n",
       "  'individual_scores': [5.0,\n",
       "   2.0,\n",
       "   4.0,\n",
       "   5.0,\n",
       "   5.0,\n",
       "   5.0,\n",
       "   5.0,\n",
       "   4.0,\n",
       "   4.0,\n",
       "   4.0,\n",
       "   3.0,\n",
       "   5.0,\n",
       "   4.0,\n",
       "   4.0,\n",
       "   4.0,\n",
       "   5.0,\n",
       "   4.0,\n",
       "   2.0,\n",
       "   5.0,\n",
       "   5.0]}}"
      ]
     },
     "execution_count": 19,
     "metadata": {},
     "output_type": "execute_result"
    }
   ],
   "source": [
    "results"
   ]
  },
  {
   "cell_type": "markdown",
   "metadata": {},
   "source": [
    "### Evaluation report\n",
    "\n",
    "Haystack provides a convenient way to generate an evaluation report using the `EvaluationRunResult` class."
   ]
  },
  {
   "cell_type": "code",
   "execution_count": 20,
   "metadata": {},
   "outputs": [
    {
     "data": {
      "text/html": [
       "<div>\n",
       "<style scoped>\n",
       "    .dataframe tbody tr th:only-of-type {\n",
       "        vertical-align: middle;\n",
       "    }\n",
       "\n",
       "    .dataframe tbody tr th {\n",
       "        vertical-align: top;\n",
       "    }\n",
       "\n",
       "    .dataframe thead th {\n",
       "        text-align: right;\n",
       "    }\n",
       "</style>\n",
       "<table border=\"1\" class=\"dataframe\">\n",
       "  <thead>\n",
       "    <tr style=\"text-align: right;\">\n",
       "      <th></th>\n",
       "      <th>metrics</th>\n",
       "      <th>score</th>\n",
       "    </tr>\n",
       "  </thead>\n",
       "  <tbody>\n",
       "    <tr>\n",
       "      <th>0</th>\n",
       "      <td>sas_evaluator</td>\n",
       "      <td>0.893162</td>\n",
       "    </tr>\n",
       "    <tr>\n",
       "      <th>1</th>\n",
       "      <td>cr_evaluator</td>\n",
       "      <td>4.450000</td>\n",
       "    </tr>\n",
       "    <tr>\n",
       "      <th>2</th>\n",
       "      <td>ff_evaluator</td>\n",
       "      <td>4.200000</td>\n",
       "    </tr>\n",
       "  </tbody>\n",
       "</table>\n",
       "</div>"
      ],
      "text/plain": [
       "         metrics     score\n",
       "0  sas_evaluator  0.893162\n",
       "1   cr_evaluator  4.450000\n",
       "2   ff_evaluator  4.200000"
      ]
     },
     "execution_count": 20,
     "metadata": {},
     "output_type": "execute_result"
    }
   ],
   "source": [
    "from haystack.evaluation.eval_run_result import EvaluationRunResult\n",
    "\n",
    "inputs = {\n",
    "    \"question\": questions,\n",
    "    \"contexts\": str_retrieved_docs,\n",
    "    \"answer\": ground_truths,\n",
    "    \"predicted_answer\": rag_answers,\n",
    "}\n",
    "\n",
    "evaluation_result = EvaluationRunResult(run_name=\"report\", inputs=inputs, results=results)\n",
    "evaluation_result.score_report()\n"
   ]
  },
  {
   "cell_type": "markdown",
   "metadata": {},
   "source": [
    "We can also easily conver to a pandas dataframe."
   ]
  },
  {
   "cell_type": "code",
   "execution_count": 22,
   "metadata": {},
   "outputs": [
    {
     "data": {
      "text/html": [
       "<div>\n",
       "<style scoped>\n",
       "    .dataframe tbody tr th:only-of-type {\n",
       "        vertical-align: middle;\n",
       "    }\n",
       "\n",
       "    .dataframe tbody tr th {\n",
       "        vertical-align: top;\n",
       "    }\n",
       "\n",
       "    .dataframe thead th {\n",
       "        text-align: right;\n",
       "    }\n",
       "</style>\n",
       "<table border=\"1\" class=\"dataframe\">\n",
       "  <thead>\n",
       "    <tr style=\"text-align: right;\">\n",
       "      <th></th>\n",
       "      <th>question</th>\n",
       "      <th>contexts</th>\n",
       "      <th>answer</th>\n",
       "      <th>predicted_answer</th>\n",
       "      <th>sas_evaluator</th>\n",
       "      <th>cr_evaluator</th>\n",
       "      <th>ff_evaluator</th>\n",
       "    </tr>\n",
       "  </thead>\n",
       "  <tbody>\n",
       "    <tr>\n",
       "      <th>0</th>\n",
       "      <td>Does CNN permit using bots to artificially inc...</td>\n",
       "      <td>The Site contains copyrighted material, tradem...</td>\n",
       "      <td>No, CNN does not permit using bots to artifici...</td>\n",
       "      <td>No, CNN does not permit the use of any technol...</td>\n",
       "      <td>0.824386</td>\n",
       "      <td>5.0</td>\n",
       "      <td>5.0</td>\n",
       "    </tr>\n",
       "    <tr>\n",
       "      <th>1</th>\n",
       "      <td>Does eBay promise that the product data it pro...</td>\n",
       "      <td>When you provide content using our Services (d...</td>\n",
       "      <td>No, eBay does not promise that the product dat...</td>\n",
       "      <td>Yes, eBay does acknowledge and warrant that th...</td>\n",
       "      <td>0.922890</td>\n",
       "      <td>4.0</td>\n",
       "      <td>2.0</td>\n",
       "    </tr>\n",
       "    <tr>\n",
       "      <th>2</th>\n",
       "      <td>Will certain terms remain in force notwithstan...</td>\n",
       "      <td>16. Termination\\nYou may terminate these Terms...</td>\n",
       "      <td>Yes, certain terms will remain in force notwit...</td>\n",
       "      <td>Yes, certain terms will remain in force even i...</td>\n",
       "      <td>0.879336</td>\n",
       "      <td>5.0</td>\n",
       "      <td>4.0</td>\n",
       "    </tr>\n",
       "    <tr>\n",
       "      <th>3</th>\n",
       "      <td>Where a Netflix subscriber requires customer s...</td>\n",
       "      <td>8. Miscellaneous\\n\\n8.1. Governing Law. These ...</td>\n",
       "      <td>Yes, according to the provided context, there ...</td>\n",
       "      <td>Yes, according to the provided context, if a N...</td>\n",
       "      <td>0.903150</td>\n",
       "      <td>5.0</td>\n",
       "      <td>5.0</td>\n",
       "    </tr>\n",
       "    <tr>\n",
       "      <th>4</th>\n",
       "      <td>Can Apple disclose personal information about ...</td>\n",
       "      <td>Violation of These Terms of Use\\nApple may dis...</td>\n",
       "      <td>Yes, Apple can disclose personal information a...</td>\n",
       "      <td>Yes, Apple can disclose personal information a...</td>\n",
       "      <td>0.896643</td>\n",
       "      <td>5.0</td>\n",
       "      <td>5.0</td>\n",
       "    </tr>\n",
       "  </tbody>\n",
       "</table>\n",
       "</div>"
      ],
      "text/plain": [
       "                                            question  \\\n",
       "0  Does CNN permit using bots to artificially inc...   \n",
       "1  Does eBay promise that the product data it pro...   \n",
       "2  Will certain terms remain in force notwithstan...   \n",
       "3  Where a Netflix subscriber requires customer s...   \n",
       "4  Can Apple disclose personal information about ...   \n",
       "\n",
       "                                            contexts  \\\n",
       "0  The Site contains copyrighted material, tradem...   \n",
       "1  When you provide content using our Services (d...   \n",
       "2  16. Termination\\nYou may terminate these Terms...   \n",
       "3  8. Miscellaneous\\n\\n8.1. Governing Law. These ...   \n",
       "4  Violation of These Terms of Use\\nApple may dis...   \n",
       "\n",
       "                                              answer  \\\n",
       "0  No, CNN does not permit using bots to artifici...   \n",
       "1  No, eBay does not promise that the product dat...   \n",
       "2  Yes, certain terms will remain in force notwit...   \n",
       "3  Yes, according to the provided context, there ...   \n",
       "4  Yes, Apple can disclose personal information a...   \n",
       "\n",
       "                                    predicted_answer  sas_evaluator  \\\n",
       "0  No, CNN does not permit the use of any technol...       0.824386   \n",
       "1  Yes, eBay does acknowledge and warrant that th...       0.922890   \n",
       "2  Yes, certain terms will remain in force even i...       0.879336   \n",
       "3  Yes, according to the provided context, if a N...       0.903150   \n",
       "4  Yes, Apple can disclose personal information a...       0.896643   \n",
       "\n",
       "   cr_evaluator  ff_evaluator  \n",
       "0           5.0           5.0  \n",
       "1           4.0           2.0  \n",
       "2           5.0           4.0  \n",
       "3           5.0           5.0  \n",
       "4           5.0           5.0  "
      ]
     },
     "execution_count": 22,
     "metadata": {},
     "output_type": "execute_result"
    }
   ],
   "source": [
    "results_df = evaluation_result.to_pandas()\n",
    "results_df.head(5)"
   ]
  },
  {
   "cell_type": "markdown",
   "metadata": {},
   "source": [
    "## Summary\n",
    "\n",
    "In this tutorial, we demonstrated how to evaluate a Retrieval-Augmented Generation (RAG) pipeline using `FlowJudge` and Haystack. Key aspects covered include:\n",
    "\n",
    "1. Setting up a basic RAG pipeline with Haystack:\n",
    "   - Using `InMemoryDocumentStore` for document storage\n",
    "   - Implementing `SentenceTransformersDocumentEmbedder` for document embedding\n",
    "   - Utilizing `HuggingFaceAPIChatGenerator` for answer generation\n",
    "\n",
    "2. Creating custom evaluators with `FlowJudge`:\n",
    "   - Developing a custom metric for context relevancy\n",
    "   - Adapting a preset metric for faithfulness\n",
    "   - Using the `HaystackFlowJudge` class to integrate FlowJudge evaluators into Haystack\n",
    "\n",
    "3. Building a comprehensive evaluation pipeline:\n",
    "   - Incorporating both FlowJudge and native Haystack evaluators\n",
    "   - Using `SASEvaluator` for semantic answer similarity\n",
    "\n",
    "4. Executing the evaluation and analyzing results:\n",
    "   - Running the evaluation pipeline on a subset of questions\n",
    "   - Utilizing `EvaluationRunResult` to generate a summary report\n",
    "   - Converting results to a pandas DataFrame for further analysis\n",
    "\n",
    "5. Demonstrating the flexibility of `FlowJudge`:\n",
    "   - Seamless integration with Haystack's evaluation framework\n",
    "   - Ability to create custom metrics and adapt existing ones\n",
    "   - Using open-source models to avoid reliance on proprietary large language models\n",
    "\n",
    "This tutorial showcases how `FlowJudge` can be effectively used to evaluate and iteratively improve RAG pipelines built with Haystack, providing a comprehensive assessment of performance across multiple dimensions including semantic similarity, context relevancy, and faithfulness."
   ]
  }
 ],
 "metadata": {
  "kernelspec": {
   "display_name": ".test_env",
   "language": "python",
   "name": "python3"
  },
  "language_info": {
   "codemirror_mode": {
    "name": "ipython",
    "version": 3
   },
   "file_extension": ".py",
   "mimetype": "text/x-python",
   "name": "python",
   "nbconvert_exporter": "python",
   "pygments_lexer": "ipython3",
   "version": "3.11.9"
  }
 },
 "nbformat": 4,
 "nbformat_minor": 2
}
