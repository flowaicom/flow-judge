{
 "cells": [
  {
   "cell_type": "markdown",
   "metadata": {},
   "source": [
    "# Evaluating a Haystack RAG pipeline with FlowJudge\n",
    "\n",
    "## Overview\n",
    "\n",
    "This tutorial demonstrates how to evaluate a Retrieval-Augmented Generation (RAG) pipeline built with Haystack using `FlowJudge`. We'll showcase how to:\n",
    "\n",
    "1. Set up a basic RAG pipeline using Haystack\n",
    "2. Integrate `FlowJudge` evaluators into a Haystack evaluation pipeline\n",
    "3. Assess the RAG system's performance using multiple metrics:\n",
    "   - Semantic Answer Similarity (SAS)\n",
    "   - Context Relevancy\n",
    "   - Faithfulness\n",
    "\n",
    "Key highlights:\n",
    "\n",
    "- Use of the `HaystackFlowJudge` class to seamlessly incorporate `FlowJudge` evaluators\n",
    "- Demonstration of custom metric creation for tailored evaluations\n",
    "- Utilization of both pre-built Haystack evaluators and custom `FlowJudge` evaluators\n",
    "\n",
    "By the end of this tutorial, you'll have a clear understanding of how to comprehensively evaluate your Haystack RAG pipelines using `FlowJudge`, enabling you to iteratively improve your system's performance without relying on proprietary large language models.\n",
    "\n",
    "### Additional requirements\n",
    "\n",
    "- Haystack: Make sure you have Haystack installed. You can install it via pip:\n",
    "  ```bash\n",
    "  pip install haystack-ai\n",
    "  ```\n",
    "\n",
    "- Sentence Transformers: Make sure you have Sentence Transformers installed. You can install it via pip:\n",
    "  ```bash\n",
    "  pip install \"sentence-transformers>=3.0.0\"\n",
    "  ```\n",
    "\n",
    "- Set your free HuggingFace API token as an environment variable:\n",
    "    ```python\n",
    "    import os\n",
    "    os.environ[\"HF_TOKEN\"] = \"your_token_here\"\n",
    "    ```\n",
    "\n",
    "    You can get your HuggingFace API token [here](https://huggingface.co/settings/tokens)."
   ]
  },
  {
   "cell_type": "markdown",
   "metadata": {},
   "source": [
    "Note that this notebook primarily demonstrates the integration of `FlowJudge` with Haystack for evaluating RAG pipelines. While we do set up a basic RAG pipeline using Haystack, the main emphasis is on the evaluation process using FlowJudge evaluators.\n",
    "\n",
    "For detailed explanations on building RAG pipelines with Haystack, please refer to the official [Haystack documentation](https://docs.haystack.deepset.ai/docs/intro)."
   ]
  },
  {
   "cell_type": "markdown",
   "metadata": {},
   "source": [
    "## Dataset\n",
    "\n",
    "For this tutorial, we are going to use a subset of the `LegalBench` dataset, which contains contracts and questions from the contracts."
   ]
  },
  {
   "cell_type": "code",
   "execution_count": 1,
   "metadata": {},
   "outputs": [],
   "source": [
    "from datasets import load_dataset\n",
    "\n",
    "ds = load_dataset(\"flowaicom/legalbench_contracts_qa_subset\", \"default\")"
   ]
  },
  {
   "cell_type": "code",
   "execution_count": 2,
   "metadata": {},
   "outputs": [
    {
     "data": {
      "text/plain": [
       "DatasetDict({\n",
       "    train: Dataset({\n",
       "        features: ['id', 'question', 'context', 'original_answer', 'answer', 'answer_with_reasoning'],\n",
       "        num_rows: 100\n",
       "    })\n",
       "})"
      ]
     },
     "execution_count": 2,
     "metadata": {},
     "output_type": "execute_result"
    }
   ],
   "source": [
    "ds"
   ]
  },
  {
   "cell_type": "markdown",
   "metadata": {},
   "source": [
    "This dataset contains:\n",
    "- Questions: A question about the contract.\n",
    "- Context: The contract itself.\n",
    "- Original answer: The original answer to the question which can be considered as the ground truth.\n",
    "- Answer: The answer used for generating the answer with reasoning, which can include noise with respect to the original answer.\n",
    "- Answer with reasoning: An answer to the question including the reasoning for the answer based on the contract.\n",
    "\n",
    "For this tutorial:\n",
    "- We use instances without perturbations (where original_answer == answer)\n",
    "- The contract text (context) is used to create documents\n",
    "- We use `answer_with_reasoning` as the ground truth for evaluators"
   ]
  },
  {
   "cell_type": "code",
   "execution_count": 3,
   "metadata": {},
   "outputs": [
    {
     "name": "stderr",
     "output_type": "stream",
     "text": [
      "/home/ks/repos/flow-judge/.venv/lib/python3.11/site-packages/haystack/core/errors.py:34: DeprecationWarning: PipelineMaxLoops is deprecated and will be remove in version '2.7.0'; use PipelineMaxComponentRuns instead.\n",
      "  warnings.warn(\n"
     ]
    },
    {
     "name": "stdout",
     "output_type": "stream",
     "text": [
      "Number of documents: 59\n",
      "Number of questions: 59\n",
      "Number of ground truths: 59\n"
     ]
    }
   ],
   "source": [
    "try:\n",
    "    from haystack import Document\n",
    "except ImportError:\n",
    "    print(\"Haystack is not installed. Please install it using:\")\n",
    "    print(\"pip install haystack-ai\")\n",
    "    print(\"\\nAfter installation, restart the kernel and run this cell again.\")\n",
    "    raise SystemExit(\"Stopping execution due to missing Haystack dependency.\")\n",
    "\n",
    "filtered_ds = ds.filter(lambda x: x['original_answer'] == x['answer'])\n",
    "\n",
    "all_documents = [Document(content=context) for context in filtered_ds['train']['context']]\n",
    "all_questions = [q for q in filtered_ds['train']['question']]\n",
    "all_ground_truths = [a for a in filtered_ds['train']['answer_with_reasoning']]\n",
    "\n",
    "print(f\"Number of documents: {len(all_documents)}\")\n",
    "print(f\"Number of questions: {len(all_questions)}\")\n",
    "print(f\"Number of ground truths: {len(all_ground_truths)}\")"
   ]
  },
  {
   "cell_type": "code",
   "execution_count": 4,
   "metadata": {},
   "outputs": [
    {
     "data": {
      "text/markdown": [
       "**Question:** Does CNN permit using bots to artificially increase page visits for certain content?"
      ],
      "text/plain": [
       "<IPython.core.display.Markdown object>"
      ]
     },
     "metadata": {},
     "output_type": "display_data"
    },
    {
     "data": {
      "text/markdown": [
       "**Context:** The following terms apply to content submitted by users, and user conduct, on the Site's Interactive Areas, including CNN iReport:\n",
       "\n",
       "(A) Interactive Areas. The Site may contain comments sections, discussion forums, or other interactive features, including CNN iReport, CNN's user-generated news community (\"Interactive Areas\") in which you may post or upload user-generated content, including but not limited to iReports, comments, video, photos, messages, other materials or items (collectively, \"User Content\"). You are solely responsible for your use of any Interactive Areas and you use them at your own risk. Interactive Areas are available for individuals aged 13 years or older. By submitting User Content to an Interactive Area, you represent that you are 13 years of age or older and, if you are under the age of 18, you either are an emancipated minor, or have obtained the legal consent of your parent or legal guardian to enter into these Terms of Use, submit content, participate on the Site, and fulfill the obligations set forth in these Terms of Use, which forms a binding contract between you and CNN. Employees of Cable News Network, Inc. may not submit User Content without permission from their supervisors.\n",
       "\n",
       "(B) Community Guidelines. By submitting any User Content or participating in an Interactive Area within or in connection with the Site, you agree to abide by the following rules of conduct:\n",
       "You agree not to upload, post or otherwise transmit any User Content that:\n",
       "violates or infringes in any way upon the rights of others, including any statements which may defame, harass, stalk or threaten others.\n",
       "you know to be false, misleading or inaccurate.\n",
       "contains blatant expressions of bigotry, racism, racially or ethnically offensive content, hate speech, abusiveness, vulgarity or profanity.\n",
       "contains or advocates pornography or sexually explicit content, pedophilia, incest, bestiality, or that is otherwise obscene or lewd.\n",
       "violates any law or advocates or provides instruction on dangerous, illegal, or predatory acts, or discusses illegal activities with the intent to commit them.\n",
       "advocates violent behavior.\n",
       "poses a reasonable threat to personal or public safety.\n",
       "contains violent images of killing or physical abuse that appear to have been captured solely, or principally, for exploitive, prurient, or gratuitous purposes.\n",
       "is protected by copyright, trademark, trade secret, right of publicity or other proprietary right without the express permission of the owner of such copyright, trademark, trade secret, right of publicity or other proprietary right. The burden of determining that any User Content is not protected by copyright, trademark, trade secret, right of publicity or other proprietary right rests with you. You shall be solely liable for any damage resulting from any infringement of copyrights, trademarks, trade secrets, rights of publicity or other proprietary rights or any other harm resulting from such a submission. Any person determined by CNN, in its sole discretion, to have violated the intellectual property or other rights of others shall be barred from submitting or posting any further material on the Site.\n",
       "does not generally pertain to the designated topic or theme of any Interactive Area.\n",
       "contains any unsolicited or unauthorized advertising or promotional materials with respect to products or services, \"junk mail,\" \"spam,\" \"chain letters,\" \"pyramid schemes,\" or any other form of solicitation.\n",
       "You agree not to engage in activity that would constitute a criminal offense or give rise to a civil liability.\n",
       "You agree that if necessary, you have the consent of each and every identifiable natural person in any submission to use such persons name or likeness in the manner contemplated by the Site.\n",
       "You agree that any person who appears in your submission who is a current member of the Screen Actors Guild (SAG), the American Federation of Television and Radio Actors (AFTRA) or any other rights society is not entitled to compensation by CNN.\n",
       "You agree not to impersonate any person or entity, including, but not limited to, CNN or any CNN employee, or falsely state or otherwise misrepresent your affiliation with any person or entity.\n",
       "You agree not to represent or suggest, directly or indirectly, CNN's endorsement of User Content.\n",
       "You agree not to interfere with any other user's right to privacy, including by harvesting or collecting personally-identifiable information about the Site users or posting private information about a third party.\n",
       "You agree not to upload, post or otherwise transmit any User Content, software or other materials which contain a virus or other harmful or disruptive component.\n",
       "You agree not to interfere with or disrupt the Site or the servers or networks connected to the Site, or disobey any requirements, procedures, policies or regulations of networks connected to the Site.\n",
       "You agree not to reproduce, duplicate, copy, sell, resell or exploit for any commercial purpose, any portion of the Site, use the Site, or access to the Site.\n",
       "You agree not to use any service, technology or automated system to artificially inflate the page views that your User Content receives. This includes pay-per-click services, web \"robots\" and any other current or future technologies. You also agree not to direct any third party to use these services, technologies or automated systems on your behalf.\n",
       "You agree not to use any technology, service or automated system to post more User Content than an individual could upload in a given period of time. You also agree not to direct any third party to use these services, technologies or automated systems on your behalf.\n",
       "Any conduct that in CNN's sole discretion restricts or inhibits anyone else from using or enjoying the Site will not be permitted. CNN reserves the right in its sole discretion to remove or edit User Content by you and to terminate Your Account for any reason.\n",
       "CNN does not vouch for the accuracy or credibility of any User Content, and does not take any responsibility or assume any liability for any actions you may take as a result of reading User Content posted on the Site. Through your use of Interactive Areas, you may be exposed to content that you may find offensive, objectionable, harmful, inaccurate or deceptive. There may also be risks of dealing with underage persons, people acting under false pretense, international trade issues and foreign nationals. By using Interactive Areas, you assume all associated risks."
      ],
      "text/plain": [
       "<IPython.core.display.Markdown object>"
      ]
     },
     "metadata": {},
     "output_type": "display_data"
    },
    {
     "data": {
      "text/markdown": [
       "**Ground truth answer:** No, CNN does not permit using bots to artificially increase page visits for certain content. \n",
       "\n",
       "This is explicitly stated in the Community Guidelines, which prohibits users from using \"any service, technology or automated system to artificially inflate the page views that your User Content receives.\" This rule specifically includes \"web 'robots' and any other current or future technologies\" and extends to directing third parties to use these services on the user's behalf. This means that any attempt to manipulate page views through automated means is a direct violation of CNN's terms of use and can result in the removal of the content or even termination of the user's account."
      ],
      "text/plain": [
       "<IPython.core.display.Markdown object>"
      ]
     },
     "metadata": {},
     "output_type": "display_data"
    }
   ],
   "source": [
    "from IPython.display import Markdown, display\n",
    "\n",
    "display(Markdown(f\"**Question:** {all_questions[0]}\"))\n",
    "display(Markdown(f\"**Context:** {all_documents[0].content}\"))\n",
    "display(Markdown(f\"**Ground truth answer:** {all_ground_truths[0]}\"))"
   ]
  },
  {
   "cell_type": "markdown",
   "metadata": {},
   "source": [
    "## Creating a RAG pipeline with Haystack\n",
    "\n",
    "We will be creating a very simple RAG pipeline with Haystack.\n",
    "\n",
    "For more detail explanations about building the RAG pipeline, please refer to this tutorial in the Haystack documentation - [Tutorial: Evaluating RAG pipelines](https://haystack.deepset.ai/tutorials/35_evaluating_rag_pipelines)\n",
    "\n",
    ">Note that we have made minor modifications to the pipeline for this tutorial. In particular, we are using `HuggingFaceAPIChatGenerator` and `ChatPromptBuilder`.\n",
    "\n",
    "### Indexing the documents\n",
    "\n",
    "We need to index the documents so we can later use a retriever to find the most similar document to the question.\n",
    "\n",
    "We are using the `InMemoryDocumentStore`, which is a simple in-memory document store that doesn't require setting up a database.\n",
    "\n",
    "We are also using an small open-source embedding model from Sentence Transformers to convert the documents into embeddings.\n",
    "\n",
    "Finally, we are using the `DocumentWriter` to write the documents into the document store."
   ]
  },
  {
   "cell_type": "code",
   "execution_count": 5,
   "metadata": {},
   "outputs": [
    {
     "name": "stderr",
     "output_type": "stream",
     "text": [
      "/home/ks/repos/flow-judge/.venv/lib/python3.11/site-packages/sentence_transformers/SentenceTransformer.py:181: FutureWarning: The `use_auth_token` argument is deprecated and will be removed in v4 of SentenceTransformers.\n",
      "  warnings.warn(\n",
      "/home/ks/repos/flow-judge/.venv/lib/python3.11/site-packages/transformers/tokenization_utils_base.py:1617: FutureWarning: `clean_up_tokenization_spaces` was not set. It will be set to `True` by default. This behavior will be deprecated in transformers v4.45, and will be then set to `False` by default. For more details check this issue: https://github.com/huggingface/transformers/issues/31884\n",
      "  warnings.warn(\n"
     ]
    },
    {
     "data": {
      "application/vnd.jupyter.widget-view+json": {
       "model_id": "afa0eaf112e5495d80727408513df614",
       "version_major": 2,
       "version_minor": 0
      },
      "text/plain": [
       "Batches:   0%|          | 0/2 [00:00<?, ?it/s]"
      ]
     },
     "metadata": {},
     "output_type": "display_data"
    },
    {
     "name": "stderr",
     "output_type": "stream",
     "text": [
      "ID 'c0836ba2f9d26978182748cd7560eb3f4e88a82850b29a2243b1cc63da11b6e5' already exists\n",
      "ID '88987c8c6fbb5fac2bbe6689fce472c5df6f7d650fbe42d218dcf7e1b77aa975' already exists\n",
      "ID '676bedf216ff078645168c0b1567e4c78dbc22ec710fc74216a74f7a0b5167fc' already exists\n",
      "ID 'f4fcb43ca4803f5ac8a34374d7cbf9cf248347e5d9ca63f32aaac6296794de6d' already exists\n",
      "ID 'c59aba33746d10420a8e8f09a70d2fa5961a81fc9c41cdc47850a49f6568808b' already exists\n",
      "ID '8805408d3f6c8ae955cf721219c0b4b3891438faa059189e1fd4c1111712c205' already exists\n"
     ]
    },
    {
     "data": {
      "text/plain": [
       "{'document_writer': {'documents_written': 53}}"
      ]
     },
     "execution_count": 5,
     "metadata": {},
     "output_type": "execute_result"
    }
   ],
   "source": [
    "from haystack import Pipeline\n",
    "from haystack.components.embedders import SentenceTransformersDocumentEmbedder\n",
    "from haystack.components.writers import DocumentWriter\n",
    "from haystack.document_stores.in_memory import InMemoryDocumentStore\n",
    "from haystack.document_stores.types import DuplicatePolicy\n",
    "\n",
    "document_store = InMemoryDocumentStore()\n",
    "\n",
    "document_embedder = SentenceTransformersDocumentEmbedder(model=\"sentence-transformers/all-MiniLM-L6-v2\")\n",
    "document_writer = DocumentWriter(document_store=document_store, policy=DuplicatePolicy.SKIP)\n",
    "\n",
    "indexing = Pipeline()\n",
    "indexing.add_component(instance=document_embedder, name=\"document_embedder\")\n",
    "indexing.add_component(instance=document_writer, name=\"document_writer\")\n",
    "\n",
    "indexing.connect(\"document_embedder.documents\", \"document_writer.documents\")\n",
    "\n",
    "indexing.run({\"document_embedder\": {\"documents\": all_documents}})"
   ]
  },
  {
   "cell_type": "markdown",
   "metadata": {},
   "source": [
    "### Create the RAG pipeline\n",
    "\n",
    "Haystack lets us easily create a RAG pipeline using:\n",
    "\n",
    "- `InMemoryEmbeddingRetriever` which will get the relevant documents to the query.\n",
    "- `HuggingFaceAPIChatGenerator` to generate the answer to the question. We are going to use a small open model for this example.\n",
    "\n",
    ">Note you can use the free serverless inference API from HuggingFace to quickly experiment with different models. However, it's rate-limited and not suitable for production. To make use of the API, you just need to provide [your free HuggingFace API token](https://huggingface.co/settings/tokens).\n",
    "\n"
   ]
  },
  {
   "cell_type": "code",
   "execution_count": 6,
   "metadata": {},
   "outputs": [
    {
     "data": {
      "text/plain": [
       "<haystack.core.pipeline.pipeline.Pipeline object at 0x7f9aec02dd90>\n",
       "🚅 Components\n",
       "  - query_embedder: SentenceTransformersTextEmbedder\n",
       "  - retriever: InMemoryEmbeddingRetriever\n",
       "  - prompt_builder: ChatPromptBuilder\n",
       "  - llm: HuggingFaceAPIChatGenerator\n",
       "  - answer_builder: AnswerBuilder\n",
       "🛤️ Connections\n",
       "  - query_embedder.embedding -> retriever.query_embedding (List[float])\n",
       "  - retriever.documents -> prompt_builder.documents (List[Document])\n",
       "  - retriever.documents -> answer_builder.documents (List[Document])\n",
       "  - prompt_builder.prompt -> llm.messages (List[ChatMessage])\n",
       "  - llm.replies -> answer_builder.replies (List[ChatMessage])"
      ]
     },
     "execution_count": 6,
     "metadata": {},
     "output_type": "execute_result"
    }
   ],
   "source": [
    "from haystack.components.builders import AnswerBuilder, ChatPromptBuilder\n",
    "from haystack.components.embedders import SentenceTransformersTextEmbedder\n",
    "from haystack.components.generators.chat import HuggingFaceAPIChatGenerator\n",
    "from haystack.components.retrievers.in_memory import InMemoryEmbeddingRetriever\n",
    "from haystack.utils.hf import HFGenerationAPIType, Secret\n",
    "from haystack.dataclasses import ChatMessage\n",
    "\n",
    "api_type = HFGenerationAPIType.SERVERLESS_INFERENCE_API\n",
    "llm = HuggingFaceAPIChatGenerator(api_type=api_type,\n",
    "                                        api_params={\"model\": \"microsoft/Phi-3.5-mini-instruct\"},\n",
    "                                        token=Secret.from_env_var(\"HF_TOKEN\")\n",
    "                                        )\n",
    "\n",
    "\n",
    "template_str = \"\"\"\n",
    "You have to answer the following question based on the given context information only.\n",
    "\n",
    "Context:\n",
    "{% for document in documents %}\n",
    "    {{ document.content }}\n",
    "{% endfor %}\n",
    "\n",
    "Question: {{question}}\n",
    "Answer:\n",
    "\"\"\"\n",
    "template = [ChatMessage.from_user(template_str)]\n",
    "prompt_builder = ChatPromptBuilder(template=template)\n",
    "\n",
    "rag_pipeline = Pipeline()\n",
    "rag_pipeline.add_component(\n",
    "    \"query_embedder\", SentenceTransformersTextEmbedder(model=\"sentence-transformers/all-MiniLM-L6-v2\")\n",
    ")\n",
    "rag_pipeline.add_component(\"retriever\", InMemoryEmbeddingRetriever(document_store, top_k=3))\n",
    "rag_pipeline.add_component(\"prompt_builder\", prompt_builder)\n",
    "rag_pipeline.add_component(\"llm\", llm)\n",
    "rag_pipeline.add_component(\"answer_builder\", AnswerBuilder())\n",
    "\n",
    "rag_pipeline.connect(\"query_embedder\", \"retriever.query_embedding\")\n",
    "rag_pipeline.connect(\"retriever\", \"prompt_builder.documents\")\n",
    "rag_pipeline.connect(\"prompt_builder\", \"llm\")\n",
    "rag_pipeline.connect(\"llm.replies\", \"answer_builder.replies\")\n",
    "rag_pipeline.connect(\"retriever\", \"answer_builder.documents\")"
   ]
  },
  {
   "cell_type": "markdown",
   "metadata": {},
   "source": [
    "Let's test the pipeline with a single question."
   ]
  },
  {
   "cell_type": "code",
   "execution_count": 7,
   "metadata": {},
   "outputs": [
    {
     "data": {
      "application/vnd.jupyter.widget-view+json": {
       "model_id": "2032e382905a4c0d9bb1b9e11d5f15fe",
       "version_major": 2,
       "version_minor": 0
      },
      "text/plain": [
       "Batches:   0%|          | 0/1 [00:00<?, ?it/s]"
      ]
     },
     "metadata": {},
     "output_type": "display_data"
    },
    {
     "name": "stdout",
     "output_type": "stream",
     "text": [
      "No, CNN does not permit the use of any technology, service, or automated system, including bots, to artificially inflate page views that any content receives. This rule also applies to the directive not to direct any third party to use these services, technologies, or automated systems for this purpose. Users agree not to interfere with the Site's normal operations, including not using such tactics to manipulate page views.\n"
     ]
    }
   ],
   "source": [
    "# Quick test of the pipeline\n",
    "question = \"Does CNN permit using bots to artificially increase page visits for certain content?\"\n",
    "\n",
    "response = rag_pipeline.run(\n",
    "    {\n",
    "        \"query_embedder\": {\"text\": question},\n",
    "        \"prompt_builder\": {\"question\": question},\n",
    "        \"answer_builder\": {\"query\": question},\n",
    "    }\n",
    ")\n",
    "print(response[\"answer_builder\"][\"answers\"][0].data)\n"
   ]
  },
  {
   "cell_type": "code",
   "execution_count": 8,
   "metadata": {},
   "outputs": [
    {
     "data": {
      "text/markdown": [
       "**Document 1 (Score: 0.3840):**\n",
       "\n",
       "The Site contains copyrighted material, trademarks and other proprietary information, including, but not limited to, text, software, photos, video, graphics, music and sound, and the entire contents of the Site are copyrighted as a collective work under the United States copyright laws. CNN owns copyright in the selection, coordination, arrangement and enhancement of such content, as well as in the content original to it. You may not modify, publish, transmit, participate in the transfer or sale..."
      ],
      "text/plain": [
       "<IPython.core.display.Markdown object>"
      ]
     },
     "metadata": {},
     "output_type": "display_data"
    },
    {
     "data": {
      "text/markdown": [
       "**Document 2 (Score: 0.3641):**\n",
       "\n",
       "The following terms apply to content submitted by users, and user conduct, on the Site's Interactive Areas, including CNN iReport:\n",
       "\n",
       "(A) Interactive Areas. The Site may contain comments sections, discussion forums, or other interactive features, including CNN iReport, CNN's user-generated news community (\"Interactive Areas\") in which you may post or upload user-generated content, including but not limited to iReports, comments, video, photos, messages, other materials or items (collectively, \"Use..."
      ],
      "text/plain": [
       "<IPython.core.display.Markdown object>"
      ]
     },
     "metadata": {},
     "output_type": "display_data"
    },
    {
     "data": {
      "text/markdown": [
       "**Document 3 (Score: 0.3209):**\n",
       "\n",
       "7. Indemnification.\n",
       "You agree to defend, indemnify and hold harmless CNN, its affiliates and their respective directors, officers, employees and agents from and against all claims and expenses, including attorneys' fees, arising out of the use of the Site by you or your Account. CNN reserves the right to take over the exclusive defense of any claim for which we are entitled to indemnification under this Section. In such event, you shall provide CNN with such cooperation as is reasonably requeste..."
      ],
      "text/plain": [
       "<IPython.core.display.Markdown object>"
      ]
     },
     "metadata": {},
     "output_type": "display_data"
    }
   ],
   "source": [
    "# display the retrieved documents and similarity scores\n",
    "for i, doc in enumerate(response['answer_builder']['answers'][0].documents, 1):\n",
    "    display(Markdown(f\"\"\"**Document {i} (Score: {doc.score:.4f}):**\\n\\n{doc.content[:500]}...\"\"\"))"
   ]
  },
  {
   "cell_type": "markdown",
   "metadata": {},
   "source": [
    "## Evaluating the pipeline\n",
    "\n",
    "With our initial RAG pipeline prototype in place, we can now focus on evaluation.\n",
    "\n",
    "To showcase the integration of `FlowJudge` within the Haystack framework, we'll evaluate the pipeline using both statistical and model-based evaluators.\n",
    "\n",
    "Haystack employs the concept of an __Evaluation pipeline__, which computes scoring metrics to assess the RAG pipeline's performance.\n",
    "\n",
    "Our evaluation pipeline will incorporate three key metrics:\n",
    "- __Semantic Answer Similarity (SAS)__: Measures the semantic similarity between generated and ground truth answers, going beyond simple lexical matching.\n",
    "- __Context Relevancy__: Determines how well the retrieved documents align with the given query.\n",
    "- __Faithfulness__: Assesses the extent to which the generated answer is grounded in the retrieved documents.\n",
    "\n",
    "For context relevancy and faithfulness, we'll leverage `FlowJudge` evaluators, eliminating the need for proprietary large models like GPT-4 or Claude 3.5 Sonnet.\n",
    "\n",
    "### Obtaining generated answers\n",
    "\n",
    "Our first step is to generate answers using the RAG pipeline.\n",
    "\n",
    ">Note: We're using HuggingFace's free serverless inference API, which may take several minutes. To avoid rate limits, we're processing only 20 questions. If execution fails, you can resume from the last successful point by rerunning the cell."
   ]
  },
  {
   "cell_type": "code",
   "execution_count": 9,
   "metadata": {},
   "outputs": [
    {
     "data": {
      "application/vnd.jupyter.widget-view+json": {
       "model_id": "fb2adb7aef0c48d08d95025ff8ee78d8",
       "version_major": 2,
       "version_minor": 0
      },
      "text/plain": [
       "Batches:   0%|          | 0/1 [00:00<?, ?it/s]"
      ]
     },
     "metadata": {},
     "output_type": "display_data"
    },
    {
     "name": "stdout",
     "output_type": "stream",
     "text": [
      "Question: Does CNN permit using bots to artificially increase page visits for certain content?\n",
      "Answer from pipeline:\n",
      "No, CNN does not permit the use of any technology, service, or automated system, including bots, to artificially inflate page views that any content receives. This rule also applies to the directive not to direct any third party to use these services, technologies, or automated systems for this purpose. Users agree not to interfere with the Site's normal operations, including not using such tactics to manipulate page views.\n",
      "\n",
      "-----------------------------------\n",
      "\n"
     ]
    },
    {
     "data": {
      "application/vnd.jupyter.widget-view+json": {
       "model_id": "2f2ce61996844d26b8402de219045ef5",
       "version_major": 2,
       "version_minor": 0
      },
      "text/plain": [
       "Batches:   0%|          | 0/1 [00:00<?, ?it/s]"
      ]
     },
     "metadata": {},
     "output_type": "display_data"
    },
    {
     "name": "stdout",
     "output_type": "stream",
     "text": [
      "Question: Does eBay promise that the product data it provides will be somewhat accurate?\n",
      "Answer from pipeline:\n",
      "eBay represents and warrants that the product data provided is accurate. However, it does not guarantee that the content provided through its Services will always be available, complete, or up-to-date. Therefore, while eBay asserts the accuracy of the product data, it does not promise absolute accuracy at all times.\n",
      "\n",
      "-----------------------------------\n",
      "\n"
     ]
    },
    {
     "data": {
      "application/vnd.jupyter.widget-view+json": {
       "model_id": "9a59cb36cf014e4a9a7336fbe9745bc5",
       "version_major": 2,
       "version_minor": 0
      },
      "text/plain": [
       "Batches:   0%|          | 0/1 [00:00<?, ?it/s]"
      ]
     },
     "metadata": {},
     "output_type": "display_data"
    },
    {
     "name": "stdout",
     "output_type": "stream",
     "text": [
      "Question: Will certain terms remain in force notwithstanding a users termination of the service?\n",
      "Answer from pipeline:\n",
      "Yes, certain terms will remain in force even if a user terminates the service. The specific sections that will survive any termination of the Terms or of the user's Account are: 4 (Your Content), 6 (Things You Cannot Do), 10 (Indemnity), 11 (Disclaimers), 12 (Limitation of Liability), 13 (Governing Law and Venue), 16 (Termination), and 17 (Miscellaneous). These sections outline the user's responsibilities, limitations, liability, governing law, and other general miscellaneous terms that are crucial and unaffected by the user's termination. These surviving provisions ensure that some fundamental aspects of the agreement between the user and the service provider remain intact after termination.\n",
      "\n",
      "-----------------------------------\n",
      "\n"
     ]
    },
    {
     "data": {
      "application/vnd.jupyter.widget-view+json": {
       "model_id": "b357232776da43e3b983a8e3cc05c8d0",
       "version_major": 2,
       "version_minor": 0
      },
      "text/plain": [
       "Batches:   0%|          | 0/1 [00:00<?, ?it/s]"
      ]
     },
     "metadata": {},
     "output_type": "display_data"
    },
    {
     "name": "stdout",
     "output_type": "stream",
     "text": [
      "Question: Where a Netflix subscriber requires customer support, is there an alternative means to obtaining customer support apart from enabling Netflix to remotely access the device or devices in question?\n",
      "Answer from pipeline:\n",
      "Yes, if a Netflix subscriber does not consent to support through remote access, they can still receive assistance through other means. The context does not specify what these alternative means are, but it implies that customer support is available through different channels besides remote access tools. Subscribers should visit the Netflix Help Center on the website, which likely contains FAQs, guides, and contact information for further assistance.\n",
      "\n",
      "-----------------------------------\n",
      "\n"
     ]
    },
    {
     "data": {
      "application/vnd.jupyter.widget-view+json": {
       "model_id": "0c4ef11f007348d893663f05d958e32d",
       "version_major": 2,
       "version_minor": 0
      },
      "text/plain": [
       "Batches:   0%|          | 0/1 [00:00<?, ?it/s]"
      ]
     },
     "metadata": {},
     "output_type": "display_data"
    },
    {
     "name": "stdout",
     "output_type": "stream",
     "text": [
      "Question: Can Apple disclose personal information about me if asked to by the government?\n",
      "Answer from pipeline:\n",
      "Yes, according to the provided context, Apple reserves the right to disclose any information about you, including your identity, if it determines that such a disclosure is necessary in connection with a legal process, governmental request, or to comply with applicable laws, regulations, legal procedures, or governmental requests. In such cases, Apple may be required to exchange information with other companies and organizations for fraud protection purposes or fulfill a lawful obligation.\n",
      "\n",
      "-----------------------------------\n",
      "\n"
     ]
    },
    {
     "data": {
      "application/vnd.jupyter.widget-view+json": {
       "model_id": "b608dc2b2a1a490fa312385936e12cf4",
       "version_major": 2,
       "version_minor": 0
      },
      "text/plain": [
       "Batches:   0%|          | 0/1 [00:00<?, ?it/s]"
      ]
     },
     "metadata": {},
     "output_type": "display_data"
    },
    {
     "name": "stdout",
     "output_type": "stream",
     "text": [
      "Question: Am I allowed to scrape data on the services for a research project Im doing?\n",
      "Answer from pipeline:\n",
      "No, you are not allowed to scrape data from the Services for any purpose, including a research project. According to the Terms of Service, specifically Section 2(ii), you are not permitted to use services, software, or any manual or automatic device, tool, or process designed to data mine or scrape the Content, data, or information from the Services using automated means. Engaging in such prohibited use may result in civil, criminal, and/or administrative penalties, fines, or sanctions against you. Always ensure to follow the guidelines and laws applicable to the use of any data and respect the copyright and intellectual property rights.\n",
      "\n",
      "-----------------------------------\n",
      "\n"
     ]
    },
    {
     "data": {
      "application/vnd.jupyter.widget-view+json": {
       "model_id": "351d4e75328e489aaacfb3d5ed60dab5",
       "version_major": 2,
       "version_minor": 0
      },
      "text/plain": [
       "Batches:   0%|          | 0/1 [00:00<?, ?it/s]"
      ]
     },
     "metadata": {},
     "output_type": "display_data"
    },
    {
     "name": "stdout",
     "output_type": "stream",
     "text": [
      "Question: Does Amazon take responsibility for items sold by third parties through Amazon?\n",
      "Answer from pipeline:\n",
      "No, Amazon does not take responsibility for items sold by third parties through Amazon. When you purchase from parties other than Amazon, you are buying directly from those third parties. Amazon operates the platform and provides links to affiliated companies and other businesses, but does not assume responsibility or liability for their actions, products, or content. Users should review their privacy statements and conditions of use for these third-party businesses or individuals.\n",
      "\n",
      "-----------------------------------\n",
      "\n"
     ]
    },
    {
     "data": {
      "application/vnd.jupyter.widget-view+json": {
       "model_id": "bf5f30a829d741308749305ce704b86b",
       "version_major": 2,
       "version_minor": 0
      },
      "text/plain": [
       "Batches:   0%|          | 0/1 [00:00<?, ?it/s]"
      ]
     },
     "metadata": {},
     "output_type": "display_data"
    },
    {
     "name": "stdout",
     "output_type": "stream",
     "text": [
      "Question: Does NYT check all user content before its uploaded and posted?\n",
      "Answer from pipeline:\n",
      "Based on the given context, NYT does not explicitly mention a process for checking all user content before it is uploaded and posted. The context primarily focuses on prohibiting unauthorized access, use, modification, and sharing of the Services, Content, and proprietary rights, along with guidelines for registration, security, and age requirements. For detailed information regarding content moderation or pre-upload checks, you may need to refer to NYT's official privacy policy or terms of service, or contact their support.\n",
      "\n",
      "-----------------------------------\n",
      "\n"
     ]
    },
    {
     "data": {
      "application/vnd.jupyter.widget-view+json": {
       "model_id": "d8f843cddbeb4992b8808d73a5ed5153",
       "version_major": 2,
       "version_minor": 0
      },
      "text/plain": [
       "Batches:   0%|          | 0/1 [00:00<?, ?it/s]"
      ]
     },
     "metadata": {},
     "output_type": "display_data"
    },
    {
     "name": "stdout",
     "output_type": "stream",
     "text": [
      "Question: Are there some changes to the terms that Instructure might not let me know about?\n",
      "Answer from pipeline:\n",
      "Yes, the context states that Instructure may revise the Acceptable Use Policy (AUP) guidelines from time to time without necessarily providing notice to users. The only indication given is that in cases of significant reduction in user rights, Instructure will notify users. However, it's not explicitly stated that users will be notified about all changes, including those that might not significantly reduce rights. Therefore, theoretically, there could be changes that the user may not be aware of.\n",
      "\n",
      "-----------------------------------\n",
      "\n"
     ]
    },
    {
     "data": {
      "application/vnd.jupyter.widget-view+json": {
       "model_id": "7fdd4005768e4089ae2cb39a68c1c809",
       "version_major": 2,
       "version_minor": 0
      },
      "text/plain": [
       "Batches:   0%|          | 0/1 [00:00<?, ?it/s]"
      ]
     },
     "metadata": {},
     "output_type": "display_data"
    },
    {
     "name": "stdout",
     "output_type": "stream",
     "text": [
      "Question: If someone else is using content I posted on Instagram, could this prevent the content from being deleted?\n",
      "Answer from pipeline:\n",
      "Yes, if someone else is using your content and it has been used by others in accordance with the license granted to Verizon Media, the content will not be deleted within 90 days of the account deletion or content deletion process beginning. The license will continue to apply until that content is deleted by the content owner. Therefore, if others are actively using your content under the license terms, it may prevent the content from being deleted.\n",
      "\n",
      "-----------------------------------\n",
      "\n"
     ]
    },
    {
     "data": {
      "application/vnd.jupyter.widget-view+json": {
       "model_id": "dd94370f9e9b41e780e0338a93dd2ec7",
       "version_major": 2,
       "version_minor": 0
      },
      "text/plain": [
       "Batches:   0%|          | 0/1 [00:00<?, ?it/s]"
      ]
     },
     "metadata": {},
     "output_type": "display_data"
    },
    {
     "name": "stdout",
     "output_type": "stream",
     "text": [
      "Question: Is eBay entitled to decide which party pays the costs of arbitration?\n",
      "Answer from pipeline:\n",
      "Yes, according to the provided text, under Section D of the arbitration guidelines, eBay has the right to advance arbitration costs to the party if they are unable to afford them. However, should eBay prevail in the arbitration, they may seek reimbursement of the costs, as determined by the arbitrator. The specific arbitration rules of the American Arbitration Association (AAA) will govern payment of filing fees and AAA's and arbitrators' fees and expenses in cases involving more than $75,000. Additionally, the arbitration hearing location and decision-making process for costs are outlined within the agreement's terms. Hence, eBay does have a say in the arbitration costs within the framework of the rules and conditions specified in the agreement.\n",
      "\n",
      "-----------------------------------\n",
      "\n"
     ]
    },
    {
     "data": {
      "application/vnd.jupyter.widget-view+json": {
       "model_id": "ccb91782bc7a42e9b389cd1b6bc333da",
       "version_major": 2,
       "version_minor": 0
      },
      "text/plain": [
       "Batches:   0%|          | 0/1 [00:00<?, ?it/s]"
      ]
     },
     "metadata": {},
     "output_type": "display_data"
    },
    {
     "name": "stdout",
     "output_type": "stream",
     "text": [
      "Question: Is it sufficient for me to disclose in the edit summary the compensation I received for the edits I made?\n",
      "Answer from pipeline:\n",
      "No, based on the provided context, it is not sufficient to disclose compensation for your edits in the edit summary. The terms of use for the Site indicate that you acknowledge and agree that Apple may disclose any information about you, including your identity, if necessary for legal reasons or to protect Apple's rights. There is no specific mention or provision regarding the disclosure of compensation information in the context provided.\n",
      "\n",
      "While transparency is often encouraged, you are also agreeing to Apple's discretion in disclosing information for legal reasons or other necessary actions. It's essential to review the terms of use for specific guidelines on compensation disclosure if not mentioned explicitly in the provided context.\n",
      "\n",
      "Additionally, remember that Apple may also disclose your data if required by law or to protect Apple's interests. Be sure to carefully review and understand all the terms to comply with any applicable laws or guidelines.\n",
      "\n",
      "-----------------------------------\n",
      "\n"
     ]
    },
    {
     "data": {
      "application/vnd.jupyter.widget-view+json": {
       "model_id": "c4fe2929dec442df800b7b34206b0530",
       "version_major": 2,
       "version_minor": 0
      },
      "text/plain": [
       "Batches:   0%|          | 0/1 [00:00<?, ?it/s]"
      ]
     },
     "metadata": {},
     "output_type": "display_data"
    },
    {
     "name": "stdout",
     "output_type": "stream",
     "text": [
      "Question: Does Verizon need to tell me if it makes changes to the services?\n",
      "Answer from pipeline:\n",
      "Yes, Verizon will inform you when changes are made to the Services. They may change these terms at any time, and you will be notified when the changes become effective. Using the Services after changes become effective means you agree to the new terms. If you don't agree to the new terms, you must stop using the Services and may be required to close associated accounts, especially if you are a parent or guardian of a minor.\n",
      "\n",
      "-----------------------------------\n",
      "\n"
     ]
    },
    {
     "data": {
      "application/vnd.jupyter.widget-view+json": {
       "model_id": "67a83a789f7245bca7c46c4ed3eac8ee",
       "version_major": 2,
       "version_minor": 0
      },
      "text/plain": [
       "Batches:   0%|          | 0/1 [00:00<?, ?it/s]"
      ]
     },
     "metadata": {},
     "output_type": "display_data"
    },
    {
     "name": "stdout",
     "output_type": "stream",
     "text": [
      "Question: Does Shopify agree to ensure the encryption of all data provided to it?\n",
      "Answer from pipeline:\n",
      "No, Shopify does not explicitly agree to ensure the encryption of all data provided to it. According to the context provided, credit card information is always encrypted during transfer over networks, but there is no specific mention of the encryption of all other data. The terms mention that the Services allow unencrypted transmissions over various networks and involve changes to conform and adapt to technical requirements, which may imply some degree of data handling, but it does not state a blanket agreement on encrypting all data.\n",
      "\n",
      "Additionally, while Shopify reserves the right to modify or terminate services, refuse service, and remove materials violating their AUP, the context provided does not explicitly address encryption as a mandated feature. Therefore, while Shopify may take measures to secure data, there is no clear, outlined agreement to ensure the encryption of all data provided to their platform.\n",
      "\n",
      "For further clarification, it is advisable to review the entire privacy policy mentioned within the terms (https://www.shopify.com/legal/privacy) to understand more about Shopify's handling of data security and encryption for all materials but based on the provided context, the answer is no.\n",
      "\n",
      "**Reference:**\n",
      "\n",
      "- Terms provided: There is no explicit reference to the encryption of all data, just credit card information during transfer.\n",
      " \n",
      "- Privacy Policy: Customers are urged to review Shopify's full privacy policy, but again, the provided context does not directly address encryption of all data.\n",
      "\n",
      "Therefore, based on the provided context, there is no direct agreement for Shopify to ensure the encryption of all data other than credit card information during transfer.\n",
      "\n",
      "**Disclaimer:** This analysis is based only on the given context, and without access to Shopify's full privacy policy, assertions cannot be fully established. For comprehensive and accurate information, consult the full privacy policy and terms of service from Shopify.\n",
      "\n",
      "-----------------------------------\n",
      "\n"
     ]
    },
    {
     "data": {
      "application/vnd.jupyter.widget-view+json": {
       "model_id": "941df3e864f24b64952b29602b3dab81",
       "version_major": 2,
       "version_minor": 0
      },
      "text/plain": [
       "Batches:   0%|          | 0/1 [00:00<?, ?it/s]"
      ]
     },
     "metadata": {},
     "output_type": "display_data"
    },
    {
     "name": "stdout",
     "output_type": "stream",
     "text": [
      "Question: Are there some Disney products that I cant access anonymously?\n",
      "Answer from pipeline:\n",
      "Yes, based on the context provided, there are certain Disney products that require user accounts or engagement with third-party services, which means access cannot be completely anonymous. When using such products, you are responsible for maintaining accurate and current information, including contact details and payment information. Creating or sharing accounts, especially with others, is strictly prohibited, and you must notify Disney of any unauthorized use of your account. Therefore, if you wish to use certain Disney products, including those that may require accounts or integrated third-party services, you cannot access them anonymously or without disclosing some personal information.\n",
      "\n",
      "-----------------------------------\n",
      "\n"
     ]
    },
    {
     "data": {
      "application/vnd.jupyter.widget-view+json": {
       "model_id": "7ac77ae3c36c4b94b188d4d4affaa76f",
       "version_major": 2,
       "version_minor": 0
      },
      "text/plain": [
       "Batches:   0%|          | 0/1 [00:00<?, ?it/s]"
      ]
     },
     "metadata": {},
     "output_type": "display_data"
    },
    {
     "name": "stdout",
     "output_type": "stream",
     "text": [
      "Question: Can Twitch continue using my content for advertising and marketing after Ive deleted that content?\n",
      "Answer from pipeline:\n",
      "No, Twitch cannot continue using your content for advertising and marketing after you have deleted the content. According to the context, your rights granted by you under the Terms of Service terminate once you delete such User Content from the Twitch Services, except for the following limited circumstances: \n",
      "\n",
      "1. If you shared it with others as part of the Twitch Services, and others copied or stored portions of the User Content.\n",
      "2. If Twitch used it for promotional purposes.\n",
      "3. For the reasonable time it takes to remove from backup and other systems.\n",
      "\n",
      "General use of the content for advertising or marketing purposes after deletion won't be permitted. In summary, deleting your content also effectively rescinds these rights, barring very specific cases where your content is being used in a distributable manner or for promotional activities.\n",
      "\n",
      "-----------------------------------\n",
      "\n"
     ]
    },
    {
     "data": {
      "application/vnd.jupyter.widget-view+json": {
       "model_id": "e5a011845a7a4b5381da37aa3770f636",
       "version_major": 2,
       "version_minor": 0
      },
      "text/plain": [
       "Batches:   0%|          | 0/1 [00:00<?, ?it/s]"
      ]
     },
     "metadata": {},
     "output_type": "display_data"
    },
    {
     "name": "stdout",
     "output_type": "stream",
     "text": [
      "Question: Does Facebook take responsibility for racist content posted on Facebook?\n",
      "Answer from pipeline:\n",
      "Facebook does not take responsibility for racist content posted on its platform. According to the provided context, Facebook reserves the right to delete, move, or edit Submissions that it deems abusive, defamatory, obscene, in violation of copyright or trademark laws, in violation of these Terms of Service, or otherwise unacceptable. This includes content that abuses or discriminates on the basis of race, as stated in the terms. Facebook users are aware that the platform may remove such content if it violates their Terms of Use, policies, or legal standards. While Facebook has policies in place to address hate speech and racist content, it is ultimately the responsibility of the users to adhere to these guidelines, and the company does not tolerate or accept racially abusive or discriminatory behavior on its platform.\n",
      "\n",
      "-----------------------------------\n",
      "\n"
     ]
    },
    {
     "data": {
      "application/vnd.jupyter.widget-view+json": {
       "model_id": "d66514fee8f04e748dc6d16de00af70b",
       "version_major": 2,
       "version_minor": 0
      },
      "text/plain": [
       "Batches:   0%|          | 0/1 [00:00<?, ?it/s]"
      ]
     },
     "metadata": {},
     "output_type": "display_data"
    },
    {
     "name": "stdout",
     "output_type": "stream",
     "text": [
      "Question: Are there circumstances in which a security breach of a users Microsoft account could give rise to a claim by Microsoft against such user?\n",
      "Answer from pipeline:\n",
      "Yes, there are circumstances in which a security breach of a user's Microsoft account could give rise to a claim by Microsoft against the user. As stated in the context, \"You also are entirely responsible for any and all activities that occur under your account. You agree to notify Microsoft immediately of any unauthorized use of your account or any other breach of security. Microsoft will not be liable for any loss that you may incur as a result of someone else using your password or account, either with or without your knowledge. However, you could be held liable for losses incurred by Microsoft or another party due to someone else using your account or password.\"\n",
      "\n",
      "Such a situation falls under a security breach where unauthorized use of the account occurs. Here, the user acknowledges their responsibility, and in a situation where harm is caused to Microsoft or any other party, due to misuse of the account or password, this can potentially result in a claim by Microsoft against the user for any damages.\n",
      "\n",
      "It is always advised that users maintain strong security measures (like unique passwords, two-factor authentication, etc.) to avoid such situations. Moreover, rapid action to report any unauthorized usage also supports mitigation efforts. Failure to do so could bring them under liability for any damages incurred during the unauthorized use.\n",
      "\n",
      "-----------------------------------\n",
      "\n"
     ]
    },
    {
     "data": {
      "application/vnd.jupyter.widget-view+json": {
       "model_id": "aea0bf169e2d4c2db188e84baab39bc5",
       "version_major": 2,
       "version_minor": 0
      },
      "text/plain": [
       "Batches:   0%|          | 0/1 [00:00<?, ?it/s]"
      ]
     },
     "metadata": {},
     "output_type": "display_data"
    },
    {
     "name": "stdout",
     "output_type": "stream",
     "text": [
      "Question: Does NYT require parental consent in respect of persons aged 17 who wish to access NYT services?\n",
      "Answer from pipeline:\n",
      "No, NYT requires individuals to be at least 16 years old to access the services, anywhere outside the USA and the UK. For users who are under the age of 18, it is recommended that they obtain the legal consent of their parent or legal guardian before using any part of the services. However, if a person is exactly 18 years old, parental consent is not explicitly required according to the provided context.\n",
      "\n",
      "-----------------------------------\n",
      "\n"
     ]
    },
    {
     "data": {
      "application/vnd.jupyter.widget-view+json": {
       "model_id": "0fb3b2f1157a44409c8fcb989e346496",
       "version_major": 2,
       "version_minor": 0
      },
      "text/plain": [
       "Batches:   0%|          | 0/1 [00:00<?, ?it/s]"
      ]
     },
     "metadata": {},
     "output_type": "display_data"
    },
    {
     "name": "stdout",
     "output_type": "stream",
     "text": [
      "Question: Does Instagram become the owner of content that I post on Instagram?\n",
      "Answer from pipeline:\n",
      "No, Instagram does not claim ownership of your content that you post on or through the Service. You are free to share your content with anyone else and can delete your account, which will result in the deletion of your content and the termination of these Terms as an agreement between you and Instagram. However, the license you grant to Instagram allows them to use your content for hosting, distribution, and other purposes as specified in the Terms, but they do not claim ownership of it.\n",
      "\n",
      "-----------------------------------\n",
      "\n"
     ]
    }
   ],
   "source": [
    "questions = all_questions[:20]\n",
    "ground_truths = all_ground_truths[:20]\n",
    "\n",
    "rag_answers = []\n",
    "retrieved_docs = []\n",
    "\n",
    "for question in questions:\n",
    "    response = rag_pipeline.run(\n",
    "        {\n",
    "            \"query_embedder\": {\"text\": question},\n",
    "            \"prompt_builder\": {\"question\": question},\n",
    "            \"answer_builder\": {\"query\": question},\n",
    "        }\n",
    "    )\n",
    "    print(f\"Question: {question}\")\n",
    "    print(\"Answer from pipeline:\")\n",
    "    print(response[\"answer_builder\"][\"answers\"][0].data)\n",
    "    print(\"\\n-----------------------------------\\n\")\n",
    "\n",
    "    rag_answers.append(response[\"answer_builder\"][\"answers\"][0].data)\n",
    "    retrieved_docs.append(response[\"answer_builder\"][\"answers\"][0].documents)"
   ]
  },
  {
   "cell_type": "markdown",
   "metadata": {},
   "source": [
    "We now convert the retrieved documents into a single string so `FlowJudge` can format the prompt properly under the hood."
   ]
  },
  {
   "cell_type": "code",
   "execution_count": 10,
   "metadata": {},
   "outputs": [],
   "source": [
    "# Concatenate the retrieved documents into a single string\n",
    "str_retrieved_docs = []\n",
    "for docs in retrieved_docs:\n",
    "    str_retrieved_doc = \"\"\n",
    "    for i, doc in enumerate(docs, 1):\n",
    "        str_retrieved_doc += doc.content\n",
    "        str_retrieved_doc += \"\\n\"\n",
    "    str_retrieved_docs.append(str_retrieved_doc)"
   ]
  },
  {
   "cell_type": "code",
   "execution_count": 11,
   "metadata": {},
   "outputs": [
    {
     "data": {
      "text/markdown": [
       "**Retrieved documents:** The Site contains copyrighted material, trademarks and other proprietary information, including, but not limited to, text, software, photos, video, graphics, music and sound, and the entire contents of the Site are copyrighted as a collective work under the United States copyright laws. CNN owns copyright in the selection, coordination, arrangement and enhancement of such content, as well as in the content original to it. You may not modify, publish, transmit, participate in the transfer or sale, create derivative works, or in any way exploit, any of the content, in whole or in part. You may download copyrighted material for your personal use only. Except as otherwise expressly permitted under copyright law, no copying, redistribution, retransmission, publication or commercial exploitation of downloaded material will be permitted without the express permission of CNN and the copyright owner. In the event of any permitted copying, redistribution or publication of copyrighted material, no changes in or deletion of author attribution, trademark legend or copyright notice shall be made. You acknowledge that you do not acquire any ownership rights by downloading copyrighted material.\n",
       "The following terms apply to content submitted by users, and user conduct, on the Site's Interactive Areas, including CNN iReport:\n",
       "\n",
       "(A) Interactive Areas. The Site may contain comments sections, discussion forums, or other interactive features, including CNN iReport, CNN's user-generated news community (\"Interactive Areas\") in which you may post or upload user-generated content, including but not limited to iReports, comments, video, photos, messages, other materials or items (collectively, \"User Content\"). You are solely responsible for your use of any Interactive Areas and you use them at your own risk. Interactive Areas are available for individuals aged 13 years or older. By submitting User Content to an Interactive Area, you represent that you are 13 years of age or older and, if you are under the age of 18, you either are an emancipated minor, or have obtained the legal consent of your parent or legal guardian to enter into these Terms of Use, submit content, participate on the Site, and fulfill the obligations set forth in these Terms of Use, which forms a binding contract between you and CNN. Employees of Cable News Network, Inc. may not submit User Content without permission from their supervisors.\n",
       "\n",
       "(B) Community Guidelines. By submitting any User Content or participating in an Interactive Area within or in connection with the Site, you agree to abide by the following rules of conduct:\n",
       "You agree not to upload, post or otherwise transmit any User Content that:\n",
       "violates or infringes in any way upon the rights of others, including any statements which may defame, harass, stalk or threaten others.\n",
       "you know to be false, misleading or inaccurate.\n",
       "contains blatant expressions of bigotry, racism, racially or ethnically offensive content, hate speech, abusiveness, vulgarity or profanity.\n",
       "contains or advocates pornography or sexually explicit content, pedophilia, incest, bestiality, or that is otherwise obscene or lewd.\n",
       "violates any law or advocates or provides instruction on dangerous, illegal, or predatory acts, or discusses illegal activities with the intent to commit them.\n",
       "advocates violent behavior.\n",
       "poses a reasonable threat to personal or public safety.\n",
       "contains violent images of killing or physical abuse that appear to have been captured solely, or principally, for exploitive, prurient, or gratuitous purposes.\n",
       "is protected by copyright, trademark, trade secret, right of publicity or other proprietary right without the express permission of the owner of such copyright, trademark, trade secret, right of publicity or other proprietary right. The burden of determining that any User Content is not protected by copyright, trademark, trade secret, right of publicity or other proprietary right rests with you. You shall be solely liable for any damage resulting from any infringement of copyrights, trademarks, trade secrets, rights of publicity or other proprietary rights or any other harm resulting from such a submission. Any person determined by CNN, in its sole discretion, to have violated the intellectual property or other rights of others shall be barred from submitting or posting any further material on the Site.\n",
       "does not generally pertain to the designated topic or theme of any Interactive Area.\n",
       "contains any unsolicited or unauthorized advertising or promotional materials with respect to products or services, \"junk mail,\" \"spam,\" \"chain letters,\" \"pyramid schemes,\" or any other form of solicitation.\n",
       "You agree not to engage in activity that would constitute a criminal offense or give rise to a civil liability.\n",
       "You agree that if necessary, you have the consent of each and every identifiable natural person in any submission to use such persons name or likeness in the manner contemplated by the Site.\n",
       "You agree that any person who appears in your submission who is a current member of the Screen Actors Guild (SAG), the American Federation of Television and Radio Actors (AFTRA) or any other rights society is not entitled to compensation by CNN.\n",
       "You agree not to impersonate any person or entity, including, but not limited to, CNN or any CNN employee, or falsely state or otherwise misrepresent your affiliation with any person or entity.\n",
       "You agree not to represent or suggest, directly or indirectly, CNN's endorsement of User Content.\n",
       "You agree not to interfere with any other user's right to privacy, including by harvesting or collecting personally-identifiable information about the Site users or posting private information about a third party.\n",
       "You agree not to upload, post or otherwise transmit any User Content, software or other materials which contain a virus or other harmful or disruptive component.\n",
       "You agree not to interfere with or disrupt the Site or the servers or networks connected to the Site, or disobey any requirements, procedures, policies or regulations of networks connected to the Site.\n",
       "You agree not to reproduce, duplicate, copy, sell, resell or exploit for any commercial purpose, any portion of the Site, use the Site, or access to the Site.\n",
       "You agree not to use any service, technology or automated system to artificially inflate the page views that your User Content receives. This includes pay-per-click services, web \"robots\" and any other current or future technologies. You also agree not to direct any third party to use these services, technologies or automated systems on your behalf.\n",
       "You agree not to use any technology, service or automated system to post more User Content than an individual could upload in a given period of time. You also agree not to direct any third party to use these services, technologies or automated systems on your behalf.\n",
       "Any conduct that in CNN's sole discretion restricts or inhibits anyone else from using or enjoying the Site will not be permitted. CNN reserves the right in its sole discretion to remove or edit User Content by you and to terminate Your Account for any reason.\n",
       "CNN does not vouch for the accuracy or credibility of any User Content, and does not take any responsibility or assume any liability for any actions you may take as a result of reading User Content posted on the Site. Through your use of Interactive Areas, you may be exposed to content that you may find offensive, objectionable, harmful, inaccurate or deceptive. There may also be risks of dealing with underage persons, people acting under false pretense, international trade issues and foreign nationals. By using Interactive Areas, you assume all associated risks.\n",
       "7. Indemnification.\n",
       "You agree to defend, indemnify and hold harmless CNN, its affiliates and their respective directors, officers, employees and agents from and against all claims and expenses, including attorneys' fees, arising out of the use of the Site by you or your Account. CNN reserves the right to take over the exclusive defense of any claim for which we are entitled to indemnification under this Section. In such event, you shall provide CNN with such cooperation as is reasonably requested by CNN.\n",
       "8. Termination.\n",
       "CNN may terminate or suspend these Terms of Use at any time without notice to you. Without limiting the foregoing, CNN shall have the right to immediately terminate Your Account in the event of any conduct by you which CNN, in its sole discretion, considers to be unacceptable, or in the event of any breach by you of these Terms of Use. The provisions of Sections 1 - 13 shall survive termination of these Terms of Use.\n",
       "9. Trademarks.\n",
       "CNN, its parent, subsidiaries and affiliates, own all rights to their logos and trademarks used in connection with the Site. All other logos and trademarks appearing on the Site are the property of their respective owners.\n"
      ],
      "text/plain": [
       "<IPython.core.display.Markdown object>"
      ]
     },
     "metadata": {},
     "output_type": "display_data"
    }
   ],
   "source": [
    "display(Markdown(f\"**Retrieved documents:** {str_retrieved_docs[0]}\"))"
   ]
  },
  {
   "cell_type": "markdown",
   "metadata": {},
   "source": [
    "### Evaluators in Haystack\n",
    "\n",
    "__Evaluators__ in Haystack are versatile components that can operate independently or as integral parts of a pipeline.\n",
    "\n",
    "We'll construct an evaluation pipeline to efficiently obtain scores from all evaluators in a single pass. Additionally, Haystack provides functionality to generate a comprehensive evaluation report."
   ]
  },
  {
   "cell_type": "markdown",
   "metadata": {},
   "source": [
    "#### Creating FlowJudge evaluators using the HaystackFlowJudge class\n",
    "\n",
    "We can use our integration with Haystack to create FlowJudge evaluators in a flexible way. The process is as follows:\n",
    "1. Create a `CustomMetric` that will be used to compute the score for the evaluator.\n",
    "2. Initialize the model - We are using the transformers configuration for Flow-Judge-v0.1.\n",
    "3. Instantiate the `HaystackFlowJudge` evaluator."
   ]
  },
  {
   "cell_type": "markdown",
   "metadata": {},
   "source": [
    "> **Important Note on Model Selection:**\n",
    "> \n",
    "> There's a known issue with Phi-3 models producing gibberish outputs for contexts exceeding 4096 tokens (including input and output). While this has been addressed in recent transformers library updates, still remains an issue in the vLLM engine. We recommend the following:\n",
    "> \n",
    "> - For longer contexts: Use the `Flow-Judge-v0.1_HF` model configuration.\n",
    "> - **Caveat:** Inference with transformers is significantly slower than with optimized runtimes.\n",
    "> \n",
    "> This approach ensures reliable outputs for extensive contexts, albeit with a trade-off in processing speed."
   ]
  },
  {
   "cell_type": "code",
   "execution_count": 12,
   "metadata": {},
   "outputs": [
    {
     "name": "stderr",
     "output_type": "stream",
     "text": [
      "DEBUG:haystack.core.component.component:Registering <class 'flow_judge.integrations.haystack.HaystackFlowJudge'> as a component\n",
      "DEBUG:haystack.core.component.component:Registered Component <class 'flow_judge.integrations.haystack.HaystackFlowJudge'>\n",
      "DEBUG:httpx:load_ssl_context verify=True cert=None trust_env=True http2=False\n",
      "DEBUG:httpx:load_verify_locations cafile='/home/ks/repos/flow-judge/.venv/lib/python3.11/site-packages/certifi/cacert.pem'\n",
      "DEBUG:httpx:load_ssl_context verify=True cert=None trust_env=True http2=False\n",
      "DEBUG:httpx:load_verify_locations cafile='/home/ks/repos/flow-judge/.venv/lib/python3.11/site-packages/certifi/cacert.pem'\n"
     ]
    }
   ],
   "source": [
    "from flow_judge.integrations.haystack import HaystackFlowJudge\n",
    "from flow_judge.models import Llamafile\n",
    "from flow_judge.metrics.metric import CustomMetric, RubricItem\n",
    "from flow_judge.metrics.presets import RESPONSE_FAITHFULNESS_5POINT\n",
    "\n",
    "# Create a model using ModelFactory\n",
    "model = Llamafile()\n"
   ]
  },
  {
   "cell_type": "markdown",
   "metadata": {},
   "source": [
    "We create the context relevancy metric from scratch. For learning more about how to create custom metrics, refer to the [custom metrics tutorial](https://github.com/flowaicom/flow-judge/blob/main/examples/2_custom_evaluation_criteria.ipynb)."
   ]
  },
  {
   "cell_type": "code",
   "execution_count": 13,
   "metadata": {},
   "outputs": [],
   "source": [
    "# Context relevancy\n",
    "cr_criteria = \"Based on the provided query and context, how relevant and sufficient is the context for responding to the query?\"\n",
    "cr_rubric = [\n",
    "    RubricItem(\n",
    "        score=1,\n",
    "        description=\"The context provided is not relevant or insufficient to respond to the query.\"\n",
    "    ),\n",
    "    RubricItem(\n",
    "        score=2,\n",
    "        description=\"The context is mostly irrelevant to the query. It may contain some tangentially related information but is insufficient for adequately responding to the query.\"\n",
    "    ),\n",
    "    RubricItem(\n",
    "        score=3,\n",
    "        description=\"The context is somewhat relevant to the query. It contains some information that could be used to partially respond to the query, but key details are missing for a complete response.\"\n",
    "    ),\n",
    "    RubricItem(\n",
    "        score=4,\n",
    "        description=\"The context is mostly relevant to the query. It contains most of the necessary information to respond to the query, but may be missing some minor details.\"\n",
    "    ),\n",
    "    RubricItem(\n",
    "        score=5,\n",
    "        description=\"The context is highly relevant to the query. It contains all the necessary information to comprehensively respond to the query without needing any additional context.\"\n",
    "    )\n",
    "]\n",
    "cr_metric = CustomMetric(\n",
    "    name=\"Context Relevancy\",\n",
    "    criteria=cr_criteria,\n",
    "    rubric=cr_rubric,\n",
    "    required_inputs=[\"question\"],\n",
    "    required_output=\"contexts\"\n",
    ")"
   ]
  },
  {
   "cell_type": "markdown",
   "metadata": {},
   "source": [
    "For creating the faithfulness evaluator, we are going to use the `RESPONSE_FAITHFULNESS_5POINT` preset in flow-judge library as a template.\n",
    "\n",
    "> Note that we need to use the expected keys so we need to update required inputs and outputs to match the expected keys in the RAG pipeline. In this case, the score descriptions are still relevant with these changes."
   ]
  },
  {
   "cell_type": "code",
   "execution_count": 14,
   "metadata": {},
   "outputs": [
    {
     "data": {
      "text/markdown": [
       "**Criteria:** Based on the given context, evaluate how consistent and faithful the generated response is to the context. The response should not contain any hallucinated or fabricated information that is not supported by the context."
      ],
      "text/plain": [
       "<IPython.core.display.Markdown object>"
      ]
     },
     "metadata": {},
     "output_type": "display_data"
    },
    {
     "data": {
      "text/markdown": [
       "**Rubric:**"
      ],
      "text/plain": [
       "<IPython.core.display.Markdown object>"
      ]
     },
     "metadata": {},
     "output_type": "display_data"
    },
    {
     "data": {
      "text/markdown": [
       "- **Score 1:** The response is completely inconsistent with the provided context. It contains significant amount of hallucinated or fabricated information that directly contradicts or is not supported at all by the context."
      ],
      "text/plain": [
       "<IPython.core.display.Markdown object>"
      ]
     },
     "metadata": {},
     "output_type": "display_data"
    },
    {
     "data": {
      "text/markdown": [
       "- **Score 2:** The response is mostly inconsistent with the provided context. While it may contain some information from the context, it introduces a substantial amount of hallucinated or fabricated details that deviate from the context."
      ],
      "text/plain": [
       "<IPython.core.display.Markdown object>"
      ]
     },
     "metadata": {},
     "output_type": "display_data"
    },
    {
     "data": {
      "text/markdown": [
       "- **Score 3:** The response is somewhat consistent with the provided context. It includes a mix of information from the context and some hallucinated or fabricated details. The fabrications are minor and do not significantly contradict the context."
      ],
      "text/plain": [
       "<IPython.core.display.Markdown object>"
      ]
     },
     "metadata": {},
     "output_type": "display_data"
    },
    {
     "data": {
      "text/markdown": [
       "- **Score 4:** The response is mostly consistent with the provided context. The vast majority of the content is supported by the context, with only minor and inconsequential inconsistencies or fabrications, if any."
      ],
      "text/plain": [
       "<IPython.core.display.Markdown object>"
      ]
     },
     "metadata": {},
     "output_type": "display_data"
    },
    {
     "data": {
      "text/markdown": [
       "- **Score 5:** The response is completely consistent with and faithful to the provided context. All details in the response are directly supported by the context, without any hallucinated or fabricated information."
      ],
      "text/plain": [
       "<IPython.core.display.Markdown object>"
      ]
     },
     "metadata": {},
     "output_type": "display_data"
    }
   ],
   "source": [
    "ff_criteria = RESPONSE_FAITHFULNESS_5POINT.criteria\n",
    "ff_rubric = RESPONSE_FAITHFULNESS_5POINT.rubric\n",
    "\n",
    "display(Markdown(f\"**Criteria:** {ff_criteria}\"))\n",
    "display(Markdown(\"**Rubric:**\"))\n",
    "\n",
    "for item in ff_rubric:\n",
    "    display(Markdown(f\"- **Score {item.score}:** {item.description}\"))\n",
    "\n",
    "ff_metric = CustomMetric(\n",
    "    name=\"Faithfulness\",\n",
    "    criteria=ff_criteria,\n",
    "    rubric=ff_rubric,\n",
    "    required_inputs=[\"question\", \"contexts\"],\n",
    "    required_output=\"predicted_answers\"\n",
    ")"
   ]
  },
  {
   "cell_type": "markdown",
   "metadata": {},
   "source": [
    "We can now create the Flow Judge evaluators:"
   ]
  },
  {
   "cell_type": "code",
   "execution_count": 15,
   "metadata": {},
   "outputs": [],
   "source": [
    "cr_evaluator = HaystackFlowJudge(\n",
    "    metric=cr_metric,\n",
    "    model=model, # the vLLM instance of Flow-Judge-v0.1\n",
    "    progress_bar=True,\n",
    "    raise_on_failure=True, # to raise an error when pipeline run fails\n",
    "    save_results=True, # to save evaluation results to disk\n",
    "    fail_on_parse_error=False # to fail if there is a parsing error, otherwise return \"Error\" and score -1\n",
    ")\n",
    "\n",
    "ff_evaluator = HaystackFlowJudge(\n",
    "    metric=ff_metric,\n",
    "    model=model,\n",
    "    progress_bar=True,\n",
    "    raise_on_failure=True,\n",
    "    save_results=True,\n",
    "    fail_on_parse_error=False\n",
    ")"
   ]
  },
  {
   "cell_type": "markdown",
   "metadata": {},
   "source": [
    "#### Haystack evaluators\n",
    "\n",
    "Now let's crete the semantic answer similarity evaluator using the Haystack implementation. This evaluator will use the same embedding model as the retriever in the RAG pipeline."
   ]
  },
  {
   "cell_type": "code",
   "execution_count": 16,
   "metadata": {},
   "outputs": [
    {
     "name": "stderr",
     "output_type": "stream",
     "text": [
      "DEBUG:haystack.core.component.component:Registering <class 'haystack.components.evaluators.answer_exact_match.AnswerExactMatchEvaluator'> as a component\n",
      "DEBUG:haystack.core.component.component:Registered Component <class 'haystack.components.evaluators.answer_exact_match.AnswerExactMatchEvaluator'>\n",
      "DEBUG:haystack.core.component.component:Registering <class 'haystack.components.evaluators.llm_evaluator.LLMEvaluator'> as a component\n",
      "DEBUG:haystack.core.component.component:Registered Component <class 'haystack.components.evaluators.llm_evaluator.LLMEvaluator'>\n",
      "DEBUG:haystack.core.component.component:Registering <class 'haystack.components.evaluators.context_relevance.ContextRelevanceEvaluator'> as a component\n",
      "DEBUG:haystack.core.component.component:Registered Component <class 'haystack.components.evaluators.context_relevance.ContextRelevanceEvaluator'>\n",
      "DEBUG:haystack.core.component.component:Registering <class 'haystack.components.evaluators.document_map.DocumentMAPEvaluator'> as a component\n",
      "DEBUG:haystack.core.component.component:Registered Component <class 'haystack.components.evaluators.document_map.DocumentMAPEvaluator'>\n",
      "DEBUG:haystack.core.component.component:Registering <class 'haystack.components.evaluators.document_mrr.DocumentMRREvaluator'> as a component\n",
      "DEBUG:haystack.core.component.component:Registered Component <class 'haystack.components.evaluators.document_mrr.DocumentMRREvaluator'>\n",
      "DEBUG:haystack.core.component.component:Registering <class 'haystack.components.evaluators.document_ndcg.DocumentNDCGEvaluator'> as a component\n",
      "DEBUG:haystack.core.component.component:Registered Component <class 'haystack.components.evaluators.document_ndcg.DocumentNDCGEvaluator'>\n",
      "DEBUG:haystack.core.component.component:Registering <class 'haystack.components.evaluators.document_recall.DocumentRecallEvaluator'> as a component\n",
      "DEBUG:haystack.core.component.component:Registered Component <class 'haystack.components.evaluators.document_recall.DocumentRecallEvaluator'>\n",
      "DEBUG:haystack.core.component.component:Registering <class 'haystack.components.evaluators.faithfulness.FaithfulnessEvaluator'> as a component\n",
      "DEBUG:haystack.core.component.component:Registered Component <class 'haystack.components.evaluators.faithfulness.FaithfulnessEvaluator'>\n",
      "DEBUG:haystack.core.component.component:Registering <class 'haystack.components.evaluators.sas_evaluator.SASEvaluator'> as a component\n",
      "DEBUG:haystack.core.component.component:Registered Component <class 'haystack.components.evaluators.sas_evaluator.SASEvaluator'>\n"
     ]
    }
   ],
   "source": [
    "from haystack.components.evaluators.sas_evaluator import SASEvaluator\n",
    "\n",
    "sas_evaluator = SASEvaluator(model=\"sentence-transformers/all-MiniLM-L6-v2\")"
   ]
  },
  {
   "cell_type": "markdown",
   "metadata": {},
   "source": [
    "### Evaluation pipeline\n",
    "\n",
    "We can now create a Haystack evaluation pipeline that will evaluate the RAG pipeline and obtains the evaluation results."
   ]
  },
  {
   "cell_type": "code",
   "execution_count": 17,
   "metadata": {},
   "outputs": [
    {
     "name": "stderr",
     "output_type": "stream",
     "text": [
      "DEBUG:haystack.core.pipeline.base:Adding component 'sas_evaluator' (<haystack.components.evaluators.sas_evaluator.SASEvaluator object at 0x7f9ade9fb910>\n",
      "\n",
      "Inputs:\n",
      "  - ground_truth_answers: List[str]\n",
      "  - predicted_answers: List[str]\n",
      "Outputs:\n",
      "  - score: float\n",
      "  - individual_scores: List[float])\n",
      "DEBUG:haystack.core.pipeline.base:Adding component 'cr_evaluator' (<flow_judge.integrations.haystack.HaystackFlowJudge object at 0x7f9aded3ecd0>\n",
      "\n",
      "Inputs:\n",
      "  - question: list[str]\n",
      "  - contexts: list[str]\n",
      "Outputs:\n",
      "  - results: List[Optional[Dict[str, Any]]]\n",
      "  - metadata: Dict[str, Any]\n",
      "  - score: float\n",
      "  - individual_scores: List[float]\n",
      "  - error_summary: Dict[str, int])\n",
      "DEBUG:haystack.core.pipeline.base:Adding component 'ff_evaluator' (<flow_judge.integrations.haystack.HaystackFlowJudge object at 0x7f9ae11a9350>\n",
      "\n",
      "Inputs:\n",
      "  - question: list[str]\n",
      "  - contexts: list[str]\n",
      "  - predicted_answers: list[str]\n",
      "Outputs:\n",
      "  - results: List[Optional[Dict[str, Any]]]\n",
      "  - metadata: Dict[str, Any]\n",
      "  - score: float\n",
      "  - individual_scores: List[float]\n",
      "  - error_summary: Dict[str, int])\n"
     ]
    }
   ],
   "source": [
    "eval_pipeline = Pipeline()\n",
    "\n",
    "# add components to the pipeline\n",
    "eval_pipeline.add_component(\"sas_evaluator\", sas_evaluator)\n",
    "eval_pipeline.add_component(\"cr_evaluator\", cr_evaluator)\n",
    "eval_pipeline.add_component(\"ff_evaluator\", ff_evaluator)"
   ]
  },
  {
   "cell_type": "markdown",
   "metadata": {},
   "source": [
    ">Note that executing the following cell might take a while to complete due to the size of the inputs, specially if running on a machine with low resources."
   ]
  },
  {
   "cell_type": "code",
   "execution_count": null,
   "metadata": {},
   "outputs": [],
   "source": [
    "%load_ext autoreload\n",
    "%autoreload 2\n",
    "\n",
    "results = eval_pipeline.run(\n",
    "    {\n",
    "        \"sas_evaluator\": {\n",
    "            'predicted_answers': rag_answers,\n",
    "            'ground_truth_answers': ground_truths,\n",
    "        },\n",
    "        \"cr_evaluator\": {\n",
    "            'question': questions,\n",
    "            'contexts': str_retrieved_docs,\n",
    "        },\n",
    "        \"ff_evaluator\": {\n",
    "            'question': questions,\n",
    "            'contexts': str_retrieved_docs,\n",
    "            'predicted_answers': rag_answers,\n",
    "        }\n",
    "    }\n",
    ")"
   ]
  },
  {
   "cell_type": "code",
   "execution_count": 19,
   "metadata": {},
   "outputs": [
    {
     "data": {
      "text/plain": [
       "{'sas_evaluator': {'score': 0.8800487995147706,\n",
       "  'individual_scores': [0.8657630681991577,\n",
       "   0.9134657382965088,\n",
       "   0.9679511189460754,\n",
       "   0.8871674537658691,\n",
       "   0.843714714050293,\n",
       "   0.9396971464157104,\n",
       "   0.9623382091522217,\n",
       "   0.851593017578125,\n",
       "   0.850158154964447,\n",
       "   0.6191434860229492,\n",
       "   0.906968891620636,\n",
       "   0.7160453796386719,\n",
       "   0.8123056888580322,\n",
       "   0.9379580616950989,\n",
       "   0.9205881357192993,\n",
       "   0.9227686524391174,\n",
       "   0.9002949595451355,\n",
       "   0.9243868589401245,\n",
       "   0.9087622165679932,\n",
       "   0.9499050378799438]},\n",
       " 'cr_evaluator': {'results': [{'feedback': '', 'score': 5},\n",
       "   {'feedback': '', 'score': 2},\n",
       "   {'feedback': '', 'score': 5},\n",
       "   {'feedback': '', 'score': 5},\n",
       "   {'feedback': '', 'score': 5},\n",
       "   {'feedback': '', 'score': 5},\n",
       "   {'feedback': '', 'score': 5},\n",
       "   {'feedback': '', 'score': 5},\n",
       "   {'feedback': '', 'score': 5},\n",
       "   {'feedback': '', 'score': 5},\n",
       "   {'feedback': '', 'score': 5},\n",
       "   {'feedback': '', 'score': 5},\n",
       "   {'feedback': '', 'score': 5},\n",
       "   {'feedback': '', 'score': 2},\n",
       "   {'feedback': '', 'score': 4},\n",
       "   {'feedback': '', 'score': 5},\n",
       "   {'feedback': '', 'score': 5},\n",
       "   {'feedback': '', 'score': 5},\n",
       "   {'feedback': '', 'score': 5},\n",
       "   {'feedback': '', 'score': 5}],\n",
       "  'metadata': {'model_id': 'sariola/flow-judge-llamafile',\n",
       "   'model_type': 'llamafile',\n",
       "   'error_summary': {'total_evaluations': 20,\n",
       "    'successful_evaluations': 20,\n",
       "    'parsing_errors': 0,\n",
       "    'other_errors': 0}},\n",
       "  'score': 4.65,\n",
       "  'individual_scores': [5.0,\n",
       "   2.0,\n",
       "   5.0,\n",
       "   5.0,\n",
       "   5.0,\n",
       "   5.0,\n",
       "   5.0,\n",
       "   5.0,\n",
       "   5.0,\n",
       "   5.0,\n",
       "   5.0,\n",
       "   5.0,\n",
       "   5.0,\n",
       "   2.0,\n",
       "   4.0,\n",
       "   5.0,\n",
       "   5.0,\n",
       "   5.0,\n",
       "   5.0,\n",
       "   5.0],\n",
       "  'error_summary': {'total_evaluations': 20,\n",
       "   'successful_evaluations': 20,\n",
       "   'parsing_errors': 0,\n",
       "   'other_errors': 0}},\n",
       " 'ff_evaluator': {'results': [{'feedback': '', 'score': 5},\n",
       "   {'feedback': '', 'score': 4},\n",
       "   {'feedback': '', 'score': 5},\n",
       "   {'feedback': '', 'score': 4},\n",
       "   {'feedback': '', 'score': 5},\n",
       "   {'feedback': '', 'score': 5},\n",
       "   {'feedback': '', 'score': 5},\n",
       "   {'feedback': '', 'score': 5},\n",
       "   {'feedback': '', 'score': 4},\n",
       "   {'feedback': '', 'score': 5},\n",
       "   {'feedback': '', 'score': 4},\n",
       "   {'feedback': '', 'score': 5},\n",
       "   {'feedback': '', 'score': 3},\n",
       "   {'feedback': '', 'score': 5},\n",
       "   {'feedback': '', 'score': 3},\n",
       "   {'feedback': '', 'score': 5},\n",
       "   {'feedback': '', 'score': 4},\n",
       "   {'feedback': '', 'score': 5},\n",
       "   {'feedback': '', 'score': 4},\n",
       "   {'feedback': '', 'score': 5}],\n",
       "  'metadata': {'model_id': 'sariola/flow-judge-llamafile',\n",
       "   'model_type': 'llamafile',\n",
       "   'error_summary': {'total_evaluations': 20,\n",
       "    'successful_evaluations': 20,\n",
       "    'parsing_errors': 0,\n",
       "    'other_errors': 0}},\n",
       "  'score': 4.5,\n",
       "  'individual_scores': [5.0,\n",
       "   4.0,\n",
       "   5.0,\n",
       "   4.0,\n",
       "   5.0,\n",
       "   5.0,\n",
       "   5.0,\n",
       "   5.0,\n",
       "   4.0,\n",
       "   5.0,\n",
       "   4.0,\n",
       "   5.0,\n",
       "   3.0,\n",
       "   5.0,\n",
       "   3.0,\n",
       "   5.0,\n",
       "   4.0,\n",
       "   5.0,\n",
       "   4.0,\n",
       "   5.0],\n",
       "  'error_summary': {'total_evaluations': 20,\n",
       "   'successful_evaluations': 20,\n",
       "   'parsing_errors': 0,\n",
       "   'other_errors': 0}}}"
      ]
     },
     "execution_count": 19,
     "metadata": {},
     "output_type": "execute_result"
    }
   ],
   "source": [
    "results"
   ]
  },
  {
   "cell_type": "markdown",
   "metadata": {},
   "source": [
    "### Evaluation report\n",
    "\n",
    "Haystack provides a convenient way to generate an evaluation report using the `EvaluationRunResult` class."
   ]
  },
  {
   "cell_type": "code",
   "execution_count": 20,
   "metadata": {},
   "outputs": [
    {
     "data": {
      "text/html": [
       "<div>\n",
       "<style scoped>\n",
       "    .dataframe tbody tr th:only-of-type {\n",
       "        vertical-align: middle;\n",
       "    }\n",
       "\n",
       "    .dataframe tbody tr th {\n",
       "        vertical-align: top;\n",
       "    }\n",
       "\n",
       "    .dataframe thead th {\n",
       "        text-align: right;\n",
       "    }\n",
       "</style>\n",
       "<table border=\"1\" class=\"dataframe\">\n",
       "  <thead>\n",
       "    <tr style=\"text-align: right;\">\n",
       "      <th></th>\n",
       "      <th>metrics</th>\n",
       "      <th>score</th>\n",
       "    </tr>\n",
       "  </thead>\n",
       "  <tbody>\n",
       "    <tr>\n",
       "      <th>0</th>\n",
       "      <td>sas_evaluator</td>\n",
       "      <td>0.880049</td>\n",
       "    </tr>\n",
       "    <tr>\n",
       "      <th>1</th>\n",
       "      <td>cr_evaluator</td>\n",
       "      <td>4.650000</td>\n",
       "    </tr>\n",
       "    <tr>\n",
       "      <th>2</th>\n",
       "      <td>ff_evaluator</td>\n",
       "      <td>4.500000</td>\n",
       "    </tr>\n",
       "  </tbody>\n",
       "</table>\n",
       "</div>"
      ],
      "text/plain": [
       "         metrics     score\n",
       "0  sas_evaluator  0.880049\n",
       "1   cr_evaluator  4.650000\n",
       "2   ff_evaluator  4.500000"
      ]
     },
     "execution_count": 20,
     "metadata": {},
     "output_type": "execute_result"
    }
   ],
   "source": [
    "from haystack.evaluation.eval_run_result import EvaluationRunResult\n",
    "\n",
    "inputs = {\n",
    "    \"question\": questions,\n",
    "    \"contexts\": str_retrieved_docs,\n",
    "    \"answer\": ground_truths,\n",
    "    \"predicted_answer\": rag_answers,\n",
    "}\n",
    "\n",
    "evaluation_result = EvaluationRunResult(run_name=\"report\", inputs=inputs, results=results)\n",
    "evaluation_result.score_report()\n"
   ]
  },
  {
   "cell_type": "markdown",
   "metadata": {},
   "source": [
    "We can also easily conver to a pandas dataframe."
   ]
  },
  {
   "cell_type": "code",
   "execution_count": 21,
   "metadata": {},
   "outputs": [
    {
     "data": {
      "text/html": [
       "<div>\n",
       "<style scoped>\n",
       "    .dataframe tbody tr th:only-of-type {\n",
       "        vertical-align: middle;\n",
       "    }\n",
       "\n",
       "    .dataframe tbody tr th {\n",
       "        vertical-align: top;\n",
       "    }\n",
       "\n",
       "    .dataframe thead th {\n",
       "        text-align: right;\n",
       "    }\n",
       "</style>\n",
       "<table border=\"1\" class=\"dataframe\">\n",
       "  <thead>\n",
       "    <tr style=\"text-align: right;\">\n",
       "      <th></th>\n",
       "      <th>question</th>\n",
       "      <th>contexts</th>\n",
       "      <th>answer</th>\n",
       "      <th>predicted_answer</th>\n",
       "      <th>sas_evaluator</th>\n",
       "      <th>cr_evaluator</th>\n",
       "      <th>ff_evaluator</th>\n",
       "    </tr>\n",
       "  </thead>\n",
       "  <tbody>\n",
       "    <tr>\n",
       "      <th>0</th>\n",
       "      <td>Does CNN permit using bots to artificially inc...</td>\n",
       "      <td>The Site contains copyrighted material, tradem...</td>\n",
       "      <td>No, CNN does not permit using bots to artifici...</td>\n",
       "      <td>No, CNN does not permit the use of any technol...</td>\n",
       "      <td>0.865763</td>\n",
       "      <td>5.0</td>\n",
       "      <td>5.0</td>\n",
       "    </tr>\n",
       "    <tr>\n",
       "      <th>1</th>\n",
       "      <td>Does eBay promise that the product data it pro...</td>\n",
       "      <td>When you provide content using our Services (d...</td>\n",
       "      <td>No, eBay does not promise that the product dat...</td>\n",
       "      <td>eBay represents and warrants that the product ...</td>\n",
       "      <td>0.913466</td>\n",
       "      <td>2.0</td>\n",
       "      <td>4.0</td>\n",
       "    </tr>\n",
       "    <tr>\n",
       "      <th>2</th>\n",
       "      <td>Will certain terms remain in force notwithstan...</td>\n",
       "      <td>16. Termination\\nYou may terminate these Terms...</td>\n",
       "      <td>Yes, certain terms will remain in force notwit...</td>\n",
       "      <td>Yes, certain terms will remain in force even i...</td>\n",
       "      <td>0.967951</td>\n",
       "      <td>5.0</td>\n",
       "      <td>5.0</td>\n",
       "    </tr>\n",
       "    <tr>\n",
       "      <th>3</th>\n",
       "      <td>Where a Netflix subscriber requires customer s...</td>\n",
       "      <td>8. Miscellaneous\\n\\n8.1. Governing Law. These ...</td>\n",
       "      <td>Yes, according to the provided context, there ...</td>\n",
       "      <td>Yes, if a Netflix subscriber does not consent ...</td>\n",
       "      <td>0.887167</td>\n",
       "      <td>5.0</td>\n",
       "      <td>4.0</td>\n",
       "    </tr>\n",
       "    <tr>\n",
       "      <th>4</th>\n",
       "      <td>Can Apple disclose personal information about ...</td>\n",
       "      <td>Violation of These Terms of Use\\nApple may dis...</td>\n",
       "      <td>Yes, Apple can disclose personal information a...</td>\n",
       "      <td>Yes, according to the provided context, Apple ...</td>\n",
       "      <td>0.843715</td>\n",
       "      <td>5.0</td>\n",
       "      <td>5.0</td>\n",
       "    </tr>\n",
       "  </tbody>\n",
       "</table>\n",
       "</div>"
      ],
      "text/plain": [
       "                                            question  \\\n",
       "0  Does CNN permit using bots to artificially inc...   \n",
       "1  Does eBay promise that the product data it pro...   \n",
       "2  Will certain terms remain in force notwithstan...   \n",
       "3  Where a Netflix subscriber requires customer s...   \n",
       "4  Can Apple disclose personal information about ...   \n",
       "\n",
       "                                            contexts  \\\n",
       "0  The Site contains copyrighted material, tradem...   \n",
       "1  When you provide content using our Services (d...   \n",
       "2  16. Termination\\nYou may terminate these Terms...   \n",
       "3  8. Miscellaneous\\n\\n8.1. Governing Law. These ...   \n",
       "4  Violation of These Terms of Use\\nApple may dis...   \n",
       "\n",
       "                                              answer  \\\n",
       "0  No, CNN does not permit using bots to artifici...   \n",
       "1  No, eBay does not promise that the product dat...   \n",
       "2  Yes, certain terms will remain in force notwit...   \n",
       "3  Yes, according to the provided context, there ...   \n",
       "4  Yes, Apple can disclose personal information a...   \n",
       "\n",
       "                                    predicted_answer  sas_evaluator  \\\n",
       "0  No, CNN does not permit the use of any technol...       0.865763   \n",
       "1  eBay represents and warrants that the product ...       0.913466   \n",
       "2  Yes, certain terms will remain in force even i...       0.967951   \n",
       "3  Yes, if a Netflix subscriber does not consent ...       0.887167   \n",
       "4  Yes, according to the provided context, Apple ...       0.843715   \n",
       "\n",
       "   cr_evaluator  ff_evaluator  \n",
       "0           5.0           5.0  \n",
       "1           2.0           4.0  \n",
       "2           5.0           5.0  \n",
       "3           5.0           4.0  \n",
       "4           5.0           5.0  "
      ]
     },
     "execution_count": 21,
     "metadata": {},
     "output_type": "execute_result"
    }
   ],
   "source": [
    "results_df = evaluation_result.to_pandas()\n",
    "results_df.head(5)"
   ]
  },
  {
   "cell_type": "markdown",
   "metadata": {},
   "source": [
    "## Summary\n",
    "\n",
    "In this tutorial, we demonstrated how to evaluate a Retrieval-Augmented Generation (RAG) pipeline using `FlowJudge` and Haystack. Key aspects covered include:\n",
    "\n",
    "1. Setting up a basic RAG pipeline with Haystack:\n",
    "   - Using `InMemoryDocumentStore` for document storage\n",
    "   - Implementing `SentenceTransformersDocumentEmbedder` for document embedding\n",
    "   - Utilizing `HuggingFaceAPIChatGenerator` for answer generation\n",
    "\n",
    "2. Creating custom evaluators with `FlowJudge`:\n",
    "   - Developing a custom metric for context relevancy\n",
    "   - Adapting a preset metric for faithfulness\n",
    "   - Using the `HaystackFlowJudge` class to integrate FlowJudge evaluators into Haystack\n",
    "\n",
    "3. Building a comprehensive evaluation pipeline:\n",
    "   - Incorporating both FlowJudge and native Haystack evaluators\n",
    "   - Using `SASEvaluator` for semantic answer similarity\n",
    "\n",
    "4. Executing the evaluation and analyzing results:\n",
    "   - Running the evaluation pipeline on a subset of questions\n",
    "   - Utilizing `EvaluationRunResult` to generate a summary report\n",
    "   - Converting results to a pandas DataFrame for further analysis\n",
    "\n",
    "5. Demonstrating the flexibility of `FlowJudge`:\n",
    "   - Seamless integration with Haystack's evaluation framework\n",
    "   - Ability to create custom metrics and adapt existing ones\n",
    "   - Using open-source models to avoid reliance on proprietary large language models\n",
    "\n",
    "This tutorial showcases how `FlowJudge` can be effectively used to evaluate and iteratively improve RAG pipelines built with Haystack, providing a comprehensive assessment of performance across multiple dimensions including semantic similarity, context relevancy, and faithfulness."
   ]
  }
 ],
 "metadata": {
  "kernelspec": {
   "display_name": ".test_env",
   "language": "python",
   "name": "python3"
  },
  "language_info": {
   "codemirror_mode": {
    "name": "ipython",
    "version": 3
   },
   "file_extension": ".py",
   "mimetype": "text/x-python",
   "name": "python",
   "nbconvert_exporter": "python",
   "pygments_lexer": "ipython3",
   "version": "3.11.9"
  }
 },
 "nbformat": 4,
 "nbformat_minor": 2
}
